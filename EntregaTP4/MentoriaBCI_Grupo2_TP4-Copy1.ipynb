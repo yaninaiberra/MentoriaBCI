{
 "cells": [
  {
   "cell_type": "raw",
   "metadata": {},
   "source": [
    "! pip install tsfel"
   ]
  },
  {
   "cell_type": "code",
   "execution_count": 2,
   "metadata": {},
   "outputs": [
    {
     "name": "stdout",
     "output_type": "stream",
     "text": [
      "Collecting lightgbm\n",
      "  Downloading lightgbm-3.3.0-py3-none-manylinux1_x86_64.whl (2.0 MB)\n",
      "\u001b[K     |████████████████████████████████| 2.0 MB 1.8 MB/s eta 0:00:01     |█████████████████▍              | 1.1 MB 467 kB/s eta 0:00:02\n",
      "\u001b[?25hRequirement already satisfied: wheel in /home/ariel/anaconda3/lib/python3.8/site-packages (from lightgbm) (0.35.1)\n",
      "Requirement already satisfied: scipy in /home/ariel/anaconda3/lib/python3.8/site-packages (from lightgbm) (1.5.2)\n",
      "Requirement already satisfied: numpy in /home/ariel/anaconda3/lib/python3.8/site-packages (from lightgbm) (1.19.2)\n",
      "Requirement already satisfied: scikit-learn!=0.22.0 in /home/ariel/anaconda3/lib/python3.8/site-packages (from lightgbm) (1.0)\n",
      "Requirement already satisfied: threadpoolctl>=2.0.0 in /home/ariel/anaconda3/lib/python3.8/site-packages (from scikit-learn!=0.22.0->lightgbm) (2.1.0)\n",
      "Requirement already satisfied: joblib>=0.11 in /home/ariel/anaconda3/lib/python3.8/site-packages (from scikit-learn!=0.22.0->lightgbm) (0.17.0)\n",
      "Installing collected packages: lightgbm\n",
      "Successfully installed lightgbm-3.3.0\n"
     ]
    }
   ],
   "source": [
    "!pip install lightgbm"
   ]
  },
  {
   "cell_type": "code",
   "execution_count": 3,
   "metadata": {},
   "outputs": [],
   "source": [
    "from pathlib import Path\n",
    "import utils\n",
    "from typing import Callable\n",
    "import scipy\n",
    "import scipy.signal as sgn\n",
    "import numpy as np\n",
    "import matplotlib.pyplot as plt\n",
    "import pandas as pd\n",
    "import seaborn as sns\n",
    "\n",
    "from xgboost import XGBClassifier\n",
    "from lightgbm import LGBMClassifier\n",
    "from sklearn.tree import DecisionTreeClassifier\n",
    "from sklearn.ensemble import RandomForestClassifier\n",
    "from sklearn.svm import SVC\n",
    "from sklearn.neighbors import KNeighborsClassifier\n",
    "from sklearn.ensemble import GradientBoostingClassifier\n",
    "\n",
    "from sklearn.metrics import classification_report\n",
    "from sklearn.model_selection import learning_curve\n",
    "import matplotlib.pyplot as plt\n",
    "\n",
    "from tsfel.feature_extraction import features\n",
    "\n",
    "import sys\n",
    "import warnings\n",
    "\n",
    "if not sys.warnoptions:\n",
    "    warnings.simplefilter(\"ignore\")"
   ]
  },
  {
   "cell_type": "code",
   "execution_count": 4,
   "metadata": {},
   "outputs": [],
   "source": [
    "def filtered_fft_features(signal_matrix):\n",
    "    N = signal_matrix.shape[1]\n",
    "    dt = 1/200\n",
    "    T = N*dt\n",
    "    sf = 200\n",
    "    Q = 30\n",
    "    f_notch = 50\n",
    "    b_notch, a_notch = sgn.iirnotch(w0=f_notch, Q=Q, fs=sf)\n",
    "    sig_notch = sgn.filtfilt(b_notch, a_notch, signal_matrix, axis=1)\n",
    "\n",
    "    #Ahora creamos el filtro pasabanda Butterworth\n",
    "    f_nq = sf/2\n",
    "    f_low = 5\n",
    "    f_high = 40\n",
    "    order = 4\n",
    "    b_band, a_band = sgn.iirfilter(\n",
    "        N=order, Wn=[f_low/f_nq, f_high/f_nq], btype=\"bandpass\", ftype=\"butter\"\n",
    "    )\n",
    "    sig_filt = sgn.filtfilt(b_band, a_band, sig_notch, axis=1)\n",
    "\n",
    "    fft = np.fft.rfft(sig_filt)\n",
    "    Sxx = np.real(((2*dt**2)/T)*fft*fft.conj())\n",
    "    return Sxx\n",
    "\n",
    "\n",
    "def naif_fft_features(signal_matrix):\n",
    "    N = signal_matrix.shape[1]\n",
    "    dt = 1/200\n",
    "    T = N*dt\n",
    "    fft = np.fft.rfft(signal_matrix)\n",
    "    Sxx = np.real(((2*dt**2)/T)*fft*fft.conj())\n",
    "    return Sxx\n",
    "\n",
    "def calc_statistics(s):\n",
    "    maxim = np.max(s, axis = 1)[:, np.newaxis]\n",
    "    minim = np.min(s, axis = 1)[:, np.newaxis]\n",
    "    mean = np.mean(s, axis = 1)[:, np.newaxis]\n",
    "    \n",
    "    mode = scipy.stats.mode(s, axis = 1)[0]\n",
    "    \n",
    "    return np.concatenate([maxim, minim, mean, mode], axis = 1)\n",
    "\n",
    "def generate_df(data,features, chanels): \n",
    "    #le paso la data resultante de la extraccion de features, los nombres de los features en una lista y de \n",
    "    #los canales\n",
    "    features_name=[]\n",
    "    for ch in chanels:\n",
    "        for feature in features:\n",
    "            features_name.append(feature + 'ch ' + str (ch))\n",
    "    return pd.DataFrame(data, columns=features_name)"
   ]
  },
  {
   "cell_type": "code",
   "execution_count": 5,
   "metadata": {},
   "outputs": [],
   "source": [
    "def fft_neighbours(signal):\n",
    "    N = signal.shape[1]\n",
    "    dt = 1/200\n",
    "    T = N*dt\n",
    "    sf = 200\n",
    "    Q = 30\n",
    "    f_notch = 50\n",
    "    b_notch, a_notch = sgn.iirnotch(w0=f_notch, Q=Q, fs=sf)\n",
    "    sig_notch = sgn.filtfilt(b_notch, a_notch, signal, axis=1)\n",
    "\n",
    "    #Ahora creamos el filtro pasabanda Butterworth\n",
    "    f_nq = sf/2\n",
    "    f_low = 5\n",
    "    f_high = 40\n",
    "    order = 4\n",
    "    b_band, a_band = sgn.iirfilter(\n",
    "        N=order, Wn=[f_low/f_nq, f_high/f_nq], btype=\"bandpass\", ftype=\"butter\"\n",
    "    )\n",
    "    sig_filt = sgn.filtfilt(b_band, a_band, sig_notch, axis=1)\n",
    "    \n",
    "    frq = np.fft.rfftfreq(N, dt)\n",
    "    tf = abs(np.fft.rfft(sig_filt, axis = 1))\n",
    "    \n",
    "    #Interest Frequencies:\n",
    "    interest_frq = [12.5, 16.5]\n",
    "    harmonics = True\n",
    "    bandwidth = 1.0\n",
    "    \n",
    "    mask = []\n",
    "    selected_frq = []\n",
    "    \n",
    "    for f in frq:\n",
    "        if any([int_f - bandwidth < f < int_f + bandwidth for int_f in interest_frq]):\n",
    "            mask.append(True)\n",
    "            selected_frq.append(f)\n",
    "        elif harmonics and any([2*int_f - bandwidth < f < 2*int_f + bandwidth for int_f in interest_frq]):\n",
    "            mask.append(True)\n",
    "            selected_frq.append(f)\n",
    "        else:\n",
    "            mask.append(False)\n",
    "        \n",
    "    #print(selected_frq)\n",
    "    \n",
    "    return tf[:, mask]"
   ]
  },
  {
   "cell_type": "code",
   "execution_count": 6,
   "metadata": {},
   "outputs": [],
   "source": [
    "def calc_max_filtered(signal_matrix):\n",
    "    N = signal_matrix.shape[1]\n",
    "    dt = 1/200\n",
    "    T = N*dt\n",
    "    sf = 200\n",
    "    Q = 30\n",
    "    f_notch = 50\n",
    "    b_notch, a_notch = sgn.iirnotch(w0=f_notch, Q=Q, fs=sf)\n",
    "    sig_notch = sgn.filtfilt(b_notch, a_notch, signal_matrix, axis=1)\n",
    "\n",
    "    #Ahora creamos el filtro pasabanda Butterworth\n",
    "    f_nq = sf/2\n",
    "    f_low = 9\n",
    "    f_high = 22\n",
    "    order = 4\n",
    "    b_band, a_band = sgn.iirfilter(\n",
    "        N=order, Wn=[f_low/f_nq, f_high/f_nq], btype=\"bandpass\", ftype=\"butter\"\n",
    "    )\n",
    "    sig_filt = sgn.filtfilt(b_band, a_band, sig_notch, axis=1)\n",
    "    \n",
    "    fft = np.fft.rfft(sig_filt)\n",
    "    Sxx = np.real(((2*dt**2)/T)*fft*fft.conj())\n",
    "    freqs = np.fft.rfftfreq(n=N, d=dt)\n",
    "    \n",
    "    maximum = np.argmax(Sxx, axis=1)\n",
    "  \n",
    "    item=freqs[maximum]\n",
    "    return item.reshape((signal_matrix.shape[0], 1))"
   ]
  },
  {
   "cell_type": "code",
   "execution_count": 7,
   "metadata": {},
   "outputs": [],
   "source": [
    "def filtered_range(signal_matrix):\n",
    "    N = signal_matrix.shape[1]\n",
    "    dt = 1/200\n",
    "    T = N*dt\n",
    "    sf = 200\n",
    "    Q = 30\n",
    "    f_notch = 50\n",
    "    b_notch, a_notch = sgn.iirnotch(w0=f_notch, Q=Q, fs=sf)\n",
    "    sig_notch = sgn.filtfilt(b_notch, a_notch, signal_matrix, axis=1)\n",
    "\n",
    "    #Ahora creamos el filtro pasabanda Butterworth\n",
    "    f_nq = sf/2\n",
    "    f_low = 9\n",
    "    f_high = 35\n",
    "    order = 4\n",
    "    b_band, a_band = sgn.iirfilter(\n",
    "        N=order, Wn=[f_low/f_nq, f_high/f_nq], btype=\"bandpass\", ftype=\"butter\"\n",
    "    )\n",
    "    sig_filt = sgn.filtfilt(b_band, a_band, sig_notch, axis=1)\n",
    "\n",
    "    fft = np.fft.rfft(sig_filt)\n",
    "    Sxx = np.real(((2*dt**2)/T)*fft*fft.conj())\n",
    "    freqs = np.fft.rfftfreq(n=N, d=dt)\n",
    "    \n",
    "    index_low=np.where(freqs>=10)[0][0]\n",
    "\n",
    "    index_high=np.where(freqs>=35)[0][0]\n",
    "\n",
    "    \n",
    "    return Sxx[:,index_low:index_high]"
   ]
  },
  {
   "cell_type": "code",
   "execution_count": 8,
   "metadata": {},
   "outputs": [],
   "source": [
    "def filtered_pca(signal_matrix):\n",
    "    N = signal_matrix.shape[1]\n",
    "    dt = 1/200\n",
    "    T = N*dt\n",
    "    sf = 200\n",
    "    Q = 30\n",
    "    f_notch = 50\n",
    "    b_notch, a_notch = sgn.iirnotch(w0=f_notch, Q=Q, fs=sf)\n",
    "    sig_notch = sgn.filtfilt(b_notch, a_notch, signal_matrix, axis=1)\n",
    "\n",
    "    #Ahora creamos el filtro pasabanda Butterworth\n",
    "    f_nq = sf/2\n",
    "    f_low = 10\n",
    "    f_high = 35\n",
    "    order = 4\n",
    "    b_band, a_band = sgn.iirfilter(\n",
    "        N=order, Wn=[f_low/f_nq, f_high/f_nq], btype=\"bandpass\", ftype=\"butter\"\n",
    "    )\n",
    "    sig_filt = sgn.filtfilt(b_band, a_band, sig_notch, axis=1)\n",
    "\n",
    "    fft = np.fft.rfft(sig_filt)\n",
    "    Sxx = np.real(((2*dt**2)/T)*fft*fft.conj())\n",
    "    freqs = np.fft.rfftfreq(n=N, d=dt)\n",
    "    \n",
    "    index_low=np.where(freqs>=10)[0][0]\n",
    "\n",
    "    index_high=np.where(freqs>=35)[0][0]    \n",
    "    \n",
    "    from sklearn.decomposition import PCA\n",
    "    pca = PCA(n_components=3)\n",
    "    pca.fit(Sxx[:,index_low:index_high])\n",
    "    proyected_features_freq = pca.transform(Sxx[:,index_low:index_high])\n",
    "    \n",
    "    return proyected_features_freq.reshape((signal_matrix.shape[0], 3))"
   ]
  },
  {
   "cell_type": "code",
   "execution_count": 9,
   "metadata": {},
   "outputs": [],
   "source": [
    "class BCIDataset():\n",
    "    def __init__(\n",
    "        self, \n",
    "        csvs_path, \n",
    "        subject: str = 'all', \n",
    "        session: str = 'all',\n",
    "        channel: str = 'all', \n",
    "        overlapping_fraction: float = 1/3, \n",
    "        window_size: int = 900,\n",
    "        feature_extractor: Callable = naif_fft_features\n",
    "    ):\n",
    "        '''\n",
    "        Object containing all examples from a time series from the dataset.\n",
    "        Args:\n",
    "            csvs_path (str): path al directorio donde estan los csv de los datos\n",
    "            subject (str): sujeto a estudiar.\n",
    "                Si se indica 'all' el dataset final generado tendrá ejemplos de todos los sujetos\n",
    "            session (str): sesión a estudiar del sujeto seleccionado.\n",
    "                si se indica 'all'  el dataset final generado tendrá ejemplos de todas las sesiones\n",
    "            channel (str): 'ch0', 'ch1', 'ch2', 'ch3'. Si se indica 'all', los ejemplos serán la\n",
    "                concatenación de los 4 canales.\n",
    "            overlapping_fraction (float): porcentaje de desplazamiento de la \"ventana\" que hace el ejemplo\n",
    "            window_size (int): tamaño de la ventana de tiempo que hace a un ejemplo (en muestras).\n",
    "            feature_extractor (func): Función de extracción de features, le ingresa un arreglo\n",
    "                (ejemplos en las filas, muestras en las columnas) y devuelve un arreglo (ejemplos en\n",
    "                las filas y features en las columnas)\n",
    "        '''\n",
    "        self.csvs_path = Path(csvs_path)\n",
    "        self.channel = channel\n",
    "        self.parts = int(1 / overlapping_fraction)\n",
    "        self.fraction = 1 / self.parts\n",
    "        self.ws = window_size\n",
    "        self.subject = subject\n",
    "        self.session = session\n",
    "        self.channels = ['ch0','ch1','ch2','ch3']\n",
    "        self.feature_extractor = feature_extractor\n",
    "        self.complete_dataset = utils.read_all_datasets(self.csvs_path)\n",
    "        \n",
    "        self.complete_examples_signal, self.complete_examples_features, \\\n",
    "        self.complete_labels, self.complete_metadata = \\\n",
    "            self.generate_examples()\n",
    "        \n",
    "    def generate_examples(self):\n",
    "        # For each session generate the signal examples,\n",
    "        # the feature extraction examples and labels arrays\n",
    "        complete_examples_signal, complete_examples_features = [], []\n",
    "        complete_labels, complete_metadata = [], []\n",
    "        \n",
    "        for subject in self.complete_dataset.subject.unique():\n",
    "            # Just load the selected subject\n",
    "            if self.subject != 'all' and subject != self.subject:\n",
    "                continue\n",
    "            sessions = \\\n",
    "                self.complete_dataset.loc[self.complete_dataset.subject==subject].session.unique()\n",
    "            for session in sessions:\n",
    "                # Just load the selected session\n",
    "                if self.session != 'all' and session != self.session:\n",
    "                    continue\n",
    "                \n",
    "                print(f'Processing subject: {subject} - session: {session}...')\n",
    "                \n",
    "                # Generate a subset of the dataset only with the desired rows\n",
    "                selection = self.complete_dataset.loc[\n",
    "                    (self.complete_dataset.subject==subject) &\n",
    "                    (self.complete_dataset.session==session)\n",
    "                ]\n",
    "                \n",
    "                # Standarize length of the array to a multiple to window size\n",
    "                labels = selection.label.values\n",
    "                n_rows = labels.shape[0] // self.ws\n",
    "                labels = labels[: n_rows * self.ws]\n",
    "\n",
    "                # Generate examples from the signal\n",
    "                n_examples = n_rows * self.parts - (self.parts - 1)\n",
    "                examples = np.empty((n_examples, self.ws))\n",
    "                most_frec_labels = np.empty((n_examples, self.ws))\n",
    "                times = np.empty((n_examples, self.ws))\n",
    "                \n",
    "                concat_ch_examples_signal, concat_ch_examples_features = [], []\n",
    "\n",
    "                for k, ch in enumerate(self.channels):\n",
    "                    # Use the four channels or just one\n",
    "                    if self.channel != 'all' and self.channel != ch:\n",
    "                        continue\n",
    "                    \n",
    "                    # Standarize length of the signal to a multiple to window size\n",
    "                    signal = selection[ch].values\n",
    "                    signal = signal[: n_rows * self.ws]\n",
    "                    time = selection.time.values\n",
    "                    time = time[: n_rows * self.ws]\n",
    "\n",
    "                    # Increase the number of examples by overlapping the windows\n",
    "                    for part in range(self.parts):\n",
    "                        \n",
    "                        # Find the place in the output array for each example\n",
    "                        position = np.arange(part, n_examples, self.parts)\n",
    "                        #position = position if part == 0 else position[:-part]\n",
    "\n",
    "                        # Crop the signal according to the window size and overlap\n",
    "                        start = int(self.ws / self.parts) * part\n",
    "                        end = -int(self.ws - (self.ws / self.parts) * part)\n",
    "                        end = end if part!=0 else signal.shape[0]\n",
    "                        subset_signal = signal[start:end]\n",
    "                        subset_labels = labels[start:end]\n",
    "                        subset_times = time[start:end]\n",
    "\n",
    "                        # Generate the examples\n",
    "                        n_rows_ = int(subset_signal.shape[0]/self.ws)\n",
    "                        examples[position, :] = subset_signal.reshape((n_rows_, self.ws))\n",
    "                        most_frec_labels[position, :] = subset_labels.reshape((n_rows_, self.ws))\n",
    "                        times[position, :] = subset_times.reshape((n_rows_, self.ws))\n",
    "                    \n",
    "                    # Obtain most frequent label\n",
    "                    labels_ = scipy.stats.mode(most_frec_labels, axis=1).mode\n",
    "                    labels_temp = scipy.stats.mode(most_frec_labels, axis=1).count\n",
    "                    pureness = labels_temp == self.ws\n",
    "                    # Get first and last time of the window\n",
    "                    times_ = np.asarray([np.min(times, axis=1), np.max(times, axis=1)]).T\n",
    "                    # Extract features\n",
    "                    features = self.feature_extractor(examples)\n",
    "\n",
    "                    concat_ch_examples_signal.append(examples.copy())\n",
    "                    concat_ch_examples_features.append(features)\n",
    "\n",
    "                concat_ch_examples_signal = np.concatenate(concat_ch_examples_signal, axis=1)\n",
    "                concat_ch_examples_features = np.concatenate(concat_ch_examples_features, axis=1)\n",
    "\n",
    "                complete_examples_signal.append(concat_ch_examples_signal)\n",
    "                complete_examples_features.append(concat_ch_examples_features)\n",
    "                complete_labels.append(labels_)\n",
    "                lt = len(times_)\n",
    "                metadata_ = np.concatenate(\n",
    "                    [pureness, times_, np.repeat(subject, lt)[:,None], np.repeat(session, lt)[:,None]],\n",
    "                    axis=1\n",
    "                )\n",
    "                complete_metadata.append(metadata_)\n",
    "\n",
    "        complete_examples_signal = np.concatenate(complete_examples_signal)\n",
    "        complete_examples_features = np.concatenate(complete_examples_features)\n",
    "        complete_labels = np.concatenate(complete_labels)\n",
    "        complete_metadata = np.concatenate(complete_metadata)\n",
    "        \n",
    "        return complete_examples_signal, complete_examples_features, complete_labels, complete_metadata\n",
    "    \n",
    "    def __len__(self):\n",
    "        return self.complete_examples_signal.shape[0]\n",
    "    \n",
    "    def __getitem__(self, idx):\n",
    "        return {\n",
    "            'signal': self.complete_examples_signal[idx,:],\n",
    "            'features': self.complete_examples_features[idx,:],\n",
    "            'label': self.complete_labels[idx,:],\n",
    "            'metadata': self.complete_metadata[idx,:]\n",
    "        }\n",
    "\n",
    "    def get_X_signal(self):\n",
    "        return self.complete_examples_signal\n",
    "\n",
    "    def get_X_features(self):\n",
    "        return self.complete_examples_features\n",
    "\n",
    "    def get_Y(self):\n",
    "        return self.complete_labels\n",
    "\n",
    "    def get_metadata(self):\n",
    "        return self.complete_metadata\n"
   ]
  },
  {
   "cell_type": "markdown",
   "metadata": {},
   "source": [
    "Para levantar los datasets desde txt o csv:\n",
    "- Este notebook, o el notebook que usen que tenga la clase arriba definida, tiene que estar en el mismo directorio que el archivo utils.py, que tiene algunas funciones usadas en los métodos de la clase.\n",
    "- Descarguen el .zip de la base de datos de nuevo y extraiganlos a un directorio llamado <path al repo en su máquina>/MentoriaBCI/Database/\n",
    "- Definan el csvs_path acorde al directorio anterior:\n",
    "    - csvs_path = '<PATH AL REPO>/MetoriaBCI/Database' ej: '/home/joaquin/Desktop/MentoriaDiploDatos/MetoriaBCI/Database'"
   ]
  },
  {
   "cell_type": "markdown",
   "metadata": {},
   "source": [
    "# Recorrido por el código BCIDataset"
   ]
  },
  {
   "cell_type": "markdown",
   "metadata": {},
   "source": [
    "Generamos diferentes datasets en base a las funciones de extracción de features del punto anterior."
   ]
  },
  {
   "cell_type": "code",
   "execution_count": 12,
   "metadata": {},
   "outputs": [],
   "source": [
    "csvs_path = '/home/ariel/gabriel/diplo_de_datos/mentoria_BCI/tp3'\n",
    "#'../../data'\n"
   ]
  },
  {
   "cell_type": "code",
   "execution_count": 13,
   "metadata": {},
   "outputs": [
    {
     "name": "stdout",
     "output_type": "stream",
     "text": [
      "Processing subject: MA - session: 1...\n",
      "Processing subject: JA - session: 2...\n",
      "Processing subject: JA - session: 1...\n",
      "Processing subject: AA - session: 0...\n",
      "Processing subject: AA - session: 1...\n",
      "Processing subject: AA - session: 2...\n",
      "Processing subject: HA - session: 1...\n"
     ]
    }
   ],
   "source": [
    "# dataset con los valores de frecuencia donde aparece la amplitud máxima\n",
    "dataset_filtered_max = BCIDataset(csvs_path,\n",
    "                         window_size=750,\n",
    "                        feature_extractor=calc_max_filtered)\n",
    "\n",
    "df_max_freq=generate_df(dataset_filtered_max.complete_examples_features,['max freq '], [0,1,2,3])\n",
    "df_max_freq['max_freq_mean'] = df_max_freq.mean(axis=1)\n",
    "df_max_freq['max_freq_mode'] = scipy.stats.mode(df_max_freq,axis=1)[0]\n",
    "df_max_freq['max_freq_median']=np.median(df_max_freq,axis=1)\n",
    "df_max_freq['max_freq_quantile']=np.quantile(df_max_freq,0.9,axis=1)\n",
    "df_max_freq['max_freq_std']=np.std(df_max_freq,axis=1)\n",
    "df_max_freq['max_freq_var']=np.var(df_max_freq,axis=1)\n",
    "df_max_freq['max_freq_entropy'] = scipy.stats.entropy(df_max_freq,axis=1)\n",
    "df_max_freq['max_freq_skew'] = scipy.stats.skew(df_max_freq,axis=1)"
   ]
  },
  {
   "cell_type": "code",
   "execution_count": 14,
   "metadata": {},
   "outputs": [],
   "source": [
    "labels = pd.DataFrame(dataset_filtered_max.complete_labels,columns=['labels'])\n",
    "metadata_all = pd.DataFrame(dataset_filtered_max.complete_metadata, columns = ['purness', 't_start', 't_end', \n",
    "                                                                      'subject', 'session'])\n",
    "max_freq_with_labels = df_max_freq.merge(labels,left_index=True,right_index=True)"
   ]
  },
  {
   "cell_type": "code",
   "execution_count": 15,
   "metadata": {},
   "outputs": [
    {
     "name": "stdout",
     "output_type": "stream",
     "text": [
      "Processing subject: MA - session: 1...\n",
      "Processing subject: JA - session: 2...\n",
      "Processing subject: JA - session: 1...\n",
      "Processing subject: AA - session: 0...\n",
      "Processing subject: AA - session: 1...\n",
      "Processing subject: AA - session: 2...\n",
      "Processing subject: HA - session: 1...\n"
     ]
    }
   ],
   "source": [
    "# dataset con la senal filtrada y aplicando pca\n",
    "dataset_filtered_pca = BCIDataset(csvs_path,\n",
    "                         window_size=750,\n",
    "                        feature_extractor=filtered_pca)\n",
    "df_pca_freq=generate_df(dataset_filtered_pca.complete_examples_features,['pca 0 ', 'pca 1 ','pca 2 '], [0,1,2,3])\n",
    "pca_with_labels = df_pca_freq.merge(labels,left_index=True,right_index=True)"
   ]
  },
  {
   "cell_type": "code",
   "execution_count": 16,
   "metadata": {},
   "outputs": [
    {
     "name": "stdout",
     "output_type": "stream",
     "text": [
      "Processing subject: MA - session: 1...\n",
      "Processing subject: JA - session: 2...\n",
      "Processing subject: JA - session: 1...\n",
      "Processing subject: AA - session: 0...\n",
      "Processing subject: AA - session: 1...\n",
      "Processing subject: AA - session: 2...\n",
      "Processing subject: HA - session: 1...\n"
     ]
    }
   ],
   "source": [
    "# dataset con la senal filtrada y sólo teniendo el rango de frecuencias de interés\n",
    "dataset_filtered_range = BCIDataset(csvs_path,\n",
    "                         window_size=750,\n",
    "                        feature_extractor=filtered_range)"
   ]
  },
  {
   "cell_type": "markdown",
   "metadata": {},
   "source": [
    "Ahora realizamos una busqueda de features sobre la transformada de fourier de la senal. La senal la filtramos entre 10 y 35 Hz, y luego sacamos estadisticos (media, mediana, suma, suma ponderada por frecuencia, quantil 90, desvio estandar, varianza, entropia, skew y kurtosis) dentro de las frecuencias de interes ya sea para la etiqueta 1 en 12,5 Hz o para la etiqueta 2 16,5 hz. Usamos estadisticos alrededor de esa frecuencia en +- 1 Hz. A su vez dejamos los valores de amplitud de la senal dentro del rango de interes y de sus armonicos (25 y 33 Hz)."
   ]
  },
  {
   "cell_type": "code",
   "execution_count": 17,
   "metadata": {},
   "outputs": [],
   "source": [
    "N=dataset_filtered_range.complete_examples_signal.shape[1]\n",
    "dt = 1/200\n",
    "freqs_all = np.fft.rfftfreq(n=int(N/4), d=dt)\n",
    "index_low=np.where(freqs_all>=10)[0][0]\n",
    "index_high=np.where(freqs_all>=35)[0][0]\n",
    "name= [str(i) for i in list(freqs_all[index_low:index_high].round(2))]\n",
    "df_range_freq=pd.DataFrame(dataset_filtered_range.complete_examples_features,columns=name+name+name+name)\n",
    "\n",
    "df_range_freq['freq_label_1_mean_log']=np.log(df_range_freq[['12.0','12.27','12.53','12.8','13.07']].mean(axis=1))\n",
    "df_range_freq['freq_label_2_mean_log']=np.log(df_range_freq[[ '16.0','16.27', '16.53', '16.8','17.07']].mean(axis=1))\n",
    "\n",
    "df_range_freq['freq_label_1_median_log']=np.log(np.median(df_range_freq[['12.0','12.27','12.53','12.8','13.07']],axis=1))\n",
    "df_range_freq['freq_label_2_median_log']=np.log(np.median(df_range_freq[[ '16.0','16.27', '16.53', '16.8','17.07']],axis=1))\n",
    "\n",
    "df_range_freq['freq_label_1_sum_log'] = np.log(df_range_freq[['12.0','12.27','12.53','12.8','13.07']].sum(axis=1)/4)\n",
    "df_range_freq['freq_label_2_sum_log'] = np.log(df_range_freq[[ '16.0','16.27', '16.53', '16.8','17.07']].sum(axis=1)/4)\n",
    "\n",
    "df_range_freq['freq_label_1_quantile_log']=np.log(np.quantile(df_range_freq[['12.0','12.27','12.53','12.8','13.07']],0.9,axis=1))\n",
    "df_range_freq['freq_label_2_quantile_log']=np.log(np.quantile(df_range_freq[[ '16.0','16.27', '16.53', '16.8','17.07']],0.9,axis=1))\n",
    "\n",
    "df_range_freq['freq_label_1_std_log']=np.log(np.std(df_range_freq[['12.0','12.27','12.53','12.8','13.07']],axis=1))\n",
    "df_range_freq['freq_label_2_std_log']=np.log(np.std(df_range_freq[[ '16.0','16.27', '16.53', '16.8','17.07']],axis=1))\n",
    "\n",
    "df_range_freq['freq_label_1_var_log']=np.log(np.var(df_range_freq[['12.0','12.27','12.53','12.8','13.07']],axis=1))\n",
    "df_range_freq['freq_label_2_var_log']=np.log(np.var(df_range_freq[[ '16.0','16.27', '16.53', '16.8','17.07']],axis=1))\n",
    "\n",
    "df_range_freq['freq_label_1_entropy_log']=np.log(scipy.stats.entropy(df_range_freq[['12.0','12.27','12.53','12.8','13.07']],axis=1))\n",
    "df_range_freq['freq_label_2_entropy_log']=np.log(scipy.stats.entropy(df_range_freq[[ '16.0','16.27', '16.53', '16.8','17.07']],axis=1))\n",
    "\n",
    "df_range_freq['freq_label_1_skew']=scipy.stats.skew(df_range_freq[['12.0','12.27','12.53','12.8','13.07']],axis=1)\n",
    "df_range_freq['freq_label_2_skew']=scipy.stats.skew(df_range_freq[[ '16.0','16.27', '16.53', '16.8','17.07']],axis=1)\n",
    "\n",
    "df_range_freq['freq_label_1_kurtosis']=scipy.stats.kurtosis(df_range_freq[['12.0','12.27','12.53','12.8','13.07']],axis=1)\n",
    "df_range_freq['freq_label_2_kurtosis']=scipy.stats.kurtosis(df_range_freq[[ '16.0','16.27', '16.53', '16.8','17.07']],axis=1)\n",
    "\n",
    "\n",
    "#features sin log\n",
    "\n",
    "df_range_freq['freq_label_1_mean']=df_range_freq[['12.0','12.27','12.53','12.8','13.07']].mean(axis=1)\n",
    "df_range_freq['freq_label_2_mean']=df_range_freq[[ '16.0','16.27', '16.53', '16.8','17.07']].mean(axis=1)\n",
    "\n",
    "df_range_freq['freq_label_1_median']=np.median(df_range_freq[['12.0','12.27','12.53','12.8','13.07']],axis=1)\n",
    "df_range_freq['freq_label_2_median']=np.median(df_range_freq[[ '16.0','16.27', '16.53', '16.8','17.07']],axis=1)\n",
    "\n",
    "df_range_freq['freq_label_1_sum'] = df_range_freq[['12.0','12.27','12.53','12.8','13.07']].sum(axis=1)/4\n",
    "df_range_freq['freq_label_2_sum'] = df_range_freq[[ '16.0','16.27', '16.53', '16.8','17.07']].sum(axis=1)/4\n",
    "\n",
    "df_range_freq['freq_label_1_quantile']=np.quantile(df_range_freq[['12.0','12.27','12.53','12.8','13.07']],0.9,axis=1)\n",
    "df_range_freq['freq_label_2_quantile']=np.quantile(df_range_freq[[ '16.0','16.27', '16.53', '16.8','17.07']],0.9,axis=1)\n",
    "\n",
    "df_range_freq['freq_label_1_std']=np.std(df_range_freq[['12.0','12.27','12.53','12.8','13.07']],axis=1)\n",
    "df_range_freq['freq_label_2_std']=np.std(df_range_freq[[ '16.0','16.27', '16.53', '16.8','17.07']],axis=1)\n",
    "\n",
    "df_range_freq['freq_label_1_var']=np.var(df_range_freq[['12.0','12.27','12.53','12.8','13.07']],axis=1)\n",
    "df_range_freq['freq_label_2_var']=np.var(df_range_freq[[ '16.0','16.27', '16.53', '16.8','17.07']],axis=1)\n",
    "\n",
    "df_range_freq['freq_label_1_entropy']=scipy.stats.entropy(df_range_freq[['12.0','12.27','12.53','12.8','13.07']],axis=1)\n",
    "df_range_freq['freq_label_2_entropy']=scipy.stats.entropy(df_range_freq[[ '16.0','16.27', '16.53', '16.8','17.07']],axis=1)\n",
    "\n",
    "array_freqs_label_1=df_range_freq[['12.0','12.27','12.53','12.8','13.07']].to_numpy()\n",
    "array_freqs_label_2=df_range_freq[['16.0','16.27', '16.53', '16.8','17.07']].to_numpy()\n",
    "#Hago una suma ponderada de los 4 canales en cjto. tener en cuenta que primero aparecen los valores \n",
    "#de cada frecuencia repetida por los cuatro canales\n",
    "sum_weighted_1_log=np.log(np.dot(array_freqs_label_1,[0.1/4,0.1/4,0.1/4,0.1/4,\n",
    "                                 0.2/4,0.2/4,0.2/4,0.2/4,\n",
    "                                 0.4/4,0.4/4,0.4/4,0.4/4,\n",
    "                                 0.2/4,0.2/4,0.2/4,0.2/4,\n",
    "                                 0.1/4,0.1/4,0.1/4,0.1/4]))\n",
    "\n",
    "sum_weighted_2_log=np.log(np.dot(array_freqs_label_2,[0.1/4,0.1/4,0.1/4,0.1/4,\n",
    "                                 0.2/4,0.2/4,0.2/4,0.2/4,\n",
    "                                 0.4/4,0.4/4,0.4/4,0.4/4,\n",
    "                                 0.2/4,0.2/4,0.2/4,0.2/4,\n",
    "                                 0.1/4,0.1/4,0.1/4,0.1/4]))\n",
    "\n",
    "sum_weighted_1=np.dot(array_freqs_label_1,[0.1/4,0.1/4,0.1/4,0.1/4,\n",
    "                                 0.2/4,0.2/4,0.2/4,0.2/4,\n",
    "                                 0.4/4,0.4/4,0.4/4,0.4/4,\n",
    "                                 0.2/4,0.2/4,0.2/4,0.2/4,\n",
    "                                 0.1/4,0.1/4,0.1/4,0.1/4])\n",
    "\n",
    "sum_weighted_2=np.dot(array_freqs_label_2,[0.1/4,0.1/4,0.1/4,0.1/4,\n",
    "                                 0.2/4,0.2/4,0.2/4,0.2/4,\n",
    "                                 0.4/4,0.4/4,0.4/4,0.4/4,\n",
    "                                 0.2/4,0.2/4,0.2/4,0.2/4,\n",
    "                                 0.1/4,0.1/4,0.1/4,0.1/4])\n",
    "\n",
    "df_range_freq['sum_weighted_label_1']= sum_weighted_1.tolist()\n",
    "df_range_freq['sum_weighted_label_2']= sum_weighted_2.tolist()\n",
    "df_range_freq['sum_weighted_label_1_log']= sum_weighted_1_log.tolist()\n",
    "df_range_freq['sum_weighted_label_2_log']= sum_weighted_2_log.tolist()"
   ]
  },
  {
   "cell_type": "code",
   "execution_count": 18,
   "metadata": {},
   "outputs": [],
   "source": [
    "N=dataset_filtered_range.complete_examples_signal.shape[1]\n",
    "dt = 1/200\n",
    "freqs_all = np.fft.rfftfreq(n=int(N/4), d=dt)\n",
    "index_low=np.where(freqs_all>=10)[0][0]\n",
    "index_high=np.where(freqs_all>=35)[0][0]\n",
    "name= [str(i) for i in list(freqs_all[index_low:index_high].round(2))]\n",
    "df_range_freq=pd.DataFrame(dataset_filtered_range.complete_examples_features,columns=name+name+name+name)\n",
    "\n",
    "df_range_freq['freq_label_1_mean']=np.log(df_range_freq[['12.27','12.53','12.8']].mean(axis=1))\n",
    "df_range_freq['freq_label_2_mean']=np.log(df_range_freq[[ '16.27', '16.53', '16.8']].mean(axis=1))\n",
    "\n",
    "df_range_freq['freq_label_1_median']=np.log(np.median(df_range_freq[['12.27','12.53','12.8']],axis=1))\n",
    "df_range_freq['freq_label_2_median']=np.log(np.median(df_range_freq[[ '16.27', '16.53', '16.8']],axis=1))\n",
    "\n",
    "df_range_freq['freq_label_1_sum'] = np.log(df_range_freq[['12.27','12.53','12.8']].sum(axis=1)/4)\n",
    "df_range_freq['freq_label_2_sum'] = np.log(df_range_freq[[ '16.27', '16.53', '16.8']].sum(axis=1)/4)\n",
    "\n",
    "df_range_freq['freq_label_1_quantile']=np.log(np.quantile(df_range_freq[['12.27','12.53','12.8']],0.9,axis=1))\n",
    "df_range_freq['freq_label_2_quantile']=np.log(np.quantile(df_range_freq[[ '16.27', '16.53', '16.8']],0.9,axis=1))\n",
    "\n",
    "df_range_freq['freq_label_1_std']=np.log(np.std(df_range_freq[['12.27','12.53','12.8']],axis=1))\n",
    "df_range_freq['freq_label_2_std']=np.log(np.std(df_range_freq[[ '16.27', '16.53', '16.8']],axis=1))\n",
    "\n",
    "df_range_freq['freq_label_1_var']=np.log(np.var(df_range_freq[['12.27','12.53','12.8']],axis=1))\n",
    "df_range_freq['freq_label_2_var']=np.log(np.var(df_range_freq[[ '16.27', '16.53', '16.8']],axis=1))\n",
    "\n",
    "\n",
    "df_range_freq['freq_label_1_entropy']=np.log(scipy.stats.entropy(df_range_freq[['12.27','12.53','12.8']],axis=1))\n",
    "df_range_freq['freq_label_2_entropy']=np.log(scipy.stats.entropy(df_range_freq[[ '16.27', '16.53', '16.8']],axis=1))\n",
    "df_range_freq['freq_label_1_skew']=scipy.stats.skew(df_range_freq[['12.27','12.53','12.8']],axis=1)\n",
    "df_range_freq['freq_label_2_skew']=scipy.stats.skew(df_range_freq[[ '16.27', '16.53', '16.8']],axis=1)\n",
    "df_range_freq['freq_label_1_kurtosis']=scipy.stats.kurtosis(df_range_freq[['12.27','12.53','12.8']],axis=1)\n",
    "df_range_freq['freq_label_2_kurtosis']=scipy.stats.kurtosis(df_range_freq[[ '16.27', '16.53', '16.8']],axis=1)\n",
    "\n",
    "array_freqs_label_1=df_range_freq[['12.27','12.53','12.8']].to_numpy()\n",
    "array_freqs_label_2=df_range_freq[['16.27', '16.53', '16.8']].to_numpy()\n",
    "#Hago una suma ponderada de los 4 canales en cjto. tener en cuenta que primero aparecen los valores \n",
    "#de cada frecuencia repetida por los cuatro canales\n",
    "sum_weighted_1_log=np.log(np.dot(array_freqs_label_1,[\n",
    "                                 0.2/4,0.2/4,0.2/4,0.2/4,\n",
    "                                 0.6/4,0.6/4,0.6/4,0.6/4,\n",
    "                                 0.2/4,0.2/4,0.2/4,0.2/4,\n",
    "                                ]))\n",
    "\n",
    "sum_weighted_2_log=np.log(np.dot(array_freqs_label_2,[\n",
    "                                 0.2/4,0.2/4,0.2/4,0.2/4,\n",
    "                                 0.6/4,0.6/4,0.6/4,0.6/4,\n",
    "                                 0.2/4,0.2/4,0.2/4,0.2/4,\n",
    "                                 ]))\n",
    "\n",
    "\n",
    "df_range_freq['sum_weighted_label_1']= sum_weighted_1_log.tolist()\n",
    "df_range_freq['sum_weighted_label_2']= sum_weighted_2_log.tolist()"
   ]
  },
  {
   "cell_type": "code",
   "execution_count": 19,
   "metadata": {},
   "outputs": [],
   "source": [
    "freq_range_with_labels = df_range_freq.merge(labels,left_index=True,right_index=True)"
   ]
  },
  {
   "cell_type": "code",
   "execution_count": 20,
   "metadata": {},
   "outputs": [
    {
     "name": "stdout",
     "output_type": "stream",
     "text": [
      "(2614, 82)\n"
     ]
    },
    {
     "data": {
      "text/html": [
       "<div>\n",
       "<style scoped>\n",
       "    .dataframe tbody tr th:only-of-type {\n",
       "        vertical-align: middle;\n",
       "    }\n",
       "\n",
       "    .dataframe tbody tr th {\n",
       "        vertical-align: top;\n",
       "    }\n",
       "\n",
       "    .dataframe thead th {\n",
       "        text-align: right;\n",
       "    }\n",
       "</style>\n",
       "<table border=\"1\" class=\"dataframe\">\n",
       "  <thead>\n",
       "    <tr style=\"text-align: right;\">\n",
       "      <th></th>\n",
       "      <th>max freq ch 0</th>\n",
       "      <th>max freq ch 1</th>\n",
       "      <th>max freq ch 2</th>\n",
       "      <th>max freq ch 3</th>\n",
       "      <th>max_freq_mean</th>\n",
       "      <th>max_freq_mode</th>\n",
       "      <th>max_freq_median</th>\n",
       "      <th>max_freq_quantile</th>\n",
       "      <th>max_freq_std</th>\n",
       "      <th>max_freq_var</th>\n",
       "      <th>...</th>\n",
       "      <th>33.07</th>\n",
       "      <th>33.07</th>\n",
       "      <th>33.07</th>\n",
       "      <th>33.07</th>\n",
       "      <th>33.33</th>\n",
       "      <th>33.33</th>\n",
       "      <th>33.33</th>\n",
       "      <th>33.33</th>\n",
       "      <th>purness</th>\n",
       "      <th>labels</th>\n",
       "    </tr>\n",
       "  </thead>\n",
       "  <tbody>\n",
       "    <tr>\n",
       "      <th>0</th>\n",
       "      <td>13.066667</td>\n",
       "      <td>14.933333</td>\n",
       "      <td>14.666667</td>\n",
       "      <td>13.066667</td>\n",
       "      <td>13.933333</td>\n",
       "      <td>13.066667</td>\n",
       "      <td>13.500000</td>\n",
       "      <td>14.773333</td>\n",
       "      <td>7.630563e-01</td>\n",
       "      <td>17.499774</td>\n",
       "      <td>...</td>\n",
       "      <td>0.317562</td>\n",
       "      <td>0.272690</td>\n",
       "      <td>0.327152</td>\n",
       "      <td>0.387082</td>\n",
       "      <td>0.452623</td>\n",
       "      <td>0.010220</td>\n",
       "      <td>0.002635</td>\n",
       "      <td>0.021904</td>\n",
       "      <td>1</td>\n",
       "      <td>99.0</td>\n",
       "    </tr>\n",
       "    <tr>\n",
       "      <th>1</th>\n",
       "      <td>14.400000</td>\n",
       "      <td>14.400000</td>\n",
       "      <td>14.400000</td>\n",
       "      <td>14.400000</td>\n",
       "      <td>14.400000</td>\n",
       "      <td>14.400000</td>\n",
       "      <td>14.400000</td>\n",
       "      <td>14.400000</td>\n",
       "      <td>1.776357e-15</td>\n",
       "      <td>20.480000</td>\n",
       "      <td>...</td>\n",
       "      <td>3.144824</td>\n",
       "      <td>4.344609</td>\n",
       "      <td>3.509071</td>\n",
       "      <td>2.835151</td>\n",
       "      <td>4.912045</td>\n",
       "      <td>4.190681</td>\n",
       "      <td>4.418774</td>\n",
       "      <td>4.819769</td>\n",
       "      <td>1</td>\n",
       "      <td>99.0</td>\n",
       "    </tr>\n",
       "    <tr>\n",
       "      <th>2</th>\n",
       "      <td>15.733333</td>\n",
       "      <td>15.733333</td>\n",
       "      <td>15.733333</td>\n",
       "      <td>15.733333</td>\n",
       "      <td>15.733333</td>\n",
       "      <td>15.733333</td>\n",
       "      <td>15.733333</td>\n",
       "      <td>15.733333</td>\n",
       "      <td>0.000000e+00</td>\n",
       "      <td>24.448176</td>\n",
       "      <td>...</td>\n",
       "      <td>4.239237</td>\n",
       "      <td>4.181332</td>\n",
       "      <td>3.235163</td>\n",
       "      <td>3.174501</td>\n",
       "      <td>3.805201</td>\n",
       "      <td>2.497736</td>\n",
       "      <td>3.031566</td>\n",
       "      <td>3.721871</td>\n",
       "      <td>1</td>\n",
       "      <td>99.0</td>\n",
       "    </tr>\n",
       "    <tr>\n",
       "      <th>3</th>\n",
       "      <td>15.466667</td>\n",
       "      <td>15.466667</td>\n",
       "      <td>16.533333</td>\n",
       "      <td>16.266667</td>\n",
       "      <td>15.933333</td>\n",
       "      <td>15.466667</td>\n",
       "      <td>15.700000</td>\n",
       "      <td>16.373333</td>\n",
       "      <td>4.129223e-01</td>\n",
       "      <td>23.842956</td>\n",
       "      <td>...</td>\n",
       "      <td>4.863078</td>\n",
       "      <td>3.820568</td>\n",
       "      <td>2.272781</td>\n",
       "      <td>3.643924</td>\n",
       "      <td>3.892728</td>\n",
       "      <td>2.580542</td>\n",
       "      <td>4.275572</td>\n",
       "      <td>3.517393</td>\n",
       "      <td>1</td>\n",
       "      <td>99.0</td>\n",
       "    </tr>\n",
       "    <tr>\n",
       "      <th>4</th>\n",
       "      <td>10.133333</td>\n",
       "      <td>18.933333</td>\n",
       "      <td>10.133333</td>\n",
       "      <td>10.133333</td>\n",
       "      <td>12.333333</td>\n",
       "      <td>10.133333</td>\n",
       "      <td>10.133333</td>\n",
       "      <td>14.973333</td>\n",
       "      <td>3.048409e+00</td>\n",
       "      <td>16.376103</td>\n",
       "      <td>...</td>\n",
       "      <td>0.069657</td>\n",
       "      <td>0.338799</td>\n",
       "      <td>0.660315</td>\n",
       "      <td>0.267302</td>\n",
       "      <td>0.067059</td>\n",
       "      <td>0.096949</td>\n",
       "      <td>0.001505</td>\n",
       "      <td>0.016168</td>\n",
       "      <td>1</td>\n",
       "      <td>99.0</td>\n",
       "    </tr>\n",
       "  </tbody>\n",
       "</table>\n",
       "<p>5 rows × 82 columns</p>\n",
       "</div>"
      ],
      "text/plain": [
       "   max freq ch 0  max freq ch 1  max freq ch 2  max freq ch 3  max_freq_mean  \\\n",
       "0      13.066667      14.933333      14.666667      13.066667      13.933333   \n",
       "1      14.400000      14.400000      14.400000      14.400000      14.400000   \n",
       "2      15.733333      15.733333      15.733333      15.733333      15.733333   \n",
       "3      15.466667      15.466667      16.533333      16.266667      15.933333   \n",
       "4      10.133333      18.933333      10.133333      10.133333      12.333333   \n",
       "\n",
       "   max_freq_mode  max_freq_median  max_freq_quantile  max_freq_std  \\\n",
       "0      13.066667        13.500000          14.773333  7.630563e-01   \n",
       "1      14.400000        14.400000          14.400000  1.776357e-15   \n",
       "2      15.733333        15.733333          15.733333  0.000000e+00   \n",
       "3      15.466667        15.700000          16.373333  4.129223e-01   \n",
       "4      10.133333        10.133333          14.973333  3.048409e+00   \n",
       "\n",
       "   max_freq_var  ...     33.07     33.07     33.07     33.07     33.33  \\\n",
       "0     17.499774  ...  0.317562  0.272690  0.327152  0.387082  0.452623   \n",
       "1     20.480000  ...  3.144824  4.344609  3.509071  2.835151  4.912045   \n",
       "2     24.448176  ...  4.239237  4.181332  3.235163  3.174501  3.805201   \n",
       "3     23.842956  ...  4.863078  3.820568  2.272781  3.643924  3.892728   \n",
       "4     16.376103  ...  0.069657  0.338799  0.660315  0.267302  0.067059   \n",
       "\n",
       "      33.33     33.33     33.33  purness  labels  \n",
       "0  0.010220  0.002635  0.021904        1    99.0  \n",
       "1  4.190681  4.418774  4.819769        1    99.0  \n",
       "2  2.497736  3.031566  3.721871        1    99.0  \n",
       "3  2.580542  4.275572  3.517393        1    99.0  \n",
       "4  0.096949  0.001505  0.016168        1    99.0  \n",
       "\n",
       "[5 rows x 82 columns]"
      ]
     },
     "execution_count": 20,
     "metadata": {},
     "output_type": "execute_result"
    }
   ],
   "source": [
    "# IMPORTANTE: Eliminar features que tengan alta correlación entre sí, \n",
    "# ya que suele mejorar las métricas de los modelos\n",
    "\n",
    "# concatenamos los dfs\n",
    "\n",
    "best_features=df_max_freq.merge(df_range_freq[['freq_label_1_mean','freq_label_2_mean','freq_label_1_sum','freq_label_2_sum',\n",
    "          'freq_label_1_median','freq_label_2_median','freq_label_1_quantile','freq_label_2_quantile'\n",
    "                                 ,'sum_weighted_label_1','sum_weighted_label_2','freq_label_1_std',\n",
    "                                 'freq_label_2_std','freq_label_1_var','freq_label_2_var','freq_label_1_entropy',\n",
    "                                 'freq_label_2_entropy','freq_label_1_skew','freq_label_2_skew','freq_label_1_kurtosis',\n",
    "                                 'freq_label_2_kurtosis','12.27','12.53','12.8','16.27', '16.53', '16.8'\n",
    "                                               ,'24.8', '25.07', '25.33','32.8','33.07', '33.33'\n",
    "                                ]],left_index=True,right_index=True)\n",
    "best_features[\"purness\"]=metadata_all[\"purness\"].replace({'True':1,'False':0})\n",
    "best_features = best_features.merge(labels,left_index=True,right_index=True)\n",
    "\n",
    "print(best_features.shape)\n",
    "best_features.head()"
   ]
  },
  {
   "cell_type": "markdown",
   "metadata": {},
   "source": [
    "## Aprendizaje Supervisado"
   ]
  },
  {
   "cell_type": "markdown",
   "metadata": {},
   "source": [
    "**A) Benchmarking y desarrollo del algoritmo evaluador:**\n",
    "       \n",
    "**a)** Utilice una clasificación aleatoria de los ejemplos para utilizar como benchmark de los resultados posteriores. Este benchmark representa el peor de los desempeños de clasificación posibles.\n",
    "\n",
    "**b)** Evalúe el desempeño/rendimiento de este benchmark bajo las métricas seleccionadas en el apartado anterior. Considere repetir este procesamiento algunas veces para obtener un promedio, máximo, mínimo u otro representante de estos resultados, ya que se trata de un proceso completamente aleatorizado."
   ]
  },
  {
   "cell_type": "code",
   "execution_count": 21,
   "metadata": {},
   "outputs": [
    {
     "data": {
      "text/plain": [
       "array([99.,  1.,  2.])"
      ]
     },
     "execution_count": 21,
     "metadata": {},
     "output_type": "execute_result"
    }
   ],
   "source": [
    "best_features.labels.unique()"
   ]
  },
  {
   "cell_type": "markdown",
   "metadata": {},
   "source": [
    "**División en los conjuntos de train, test y validation**"
   ]
  },
  {
   "cell_type": "code",
   "execution_count": 22,
   "metadata": {},
   "outputs": [],
   "source": [
    "X, y = best_features.iloc[:, :-1], best_features.labels"
   ]
  },
  {
   "cell_type": "code",
   "execution_count": 23,
   "metadata": {},
   "outputs": [
    {
     "data": {
      "application/javascript": [
       "\n",
       "        if (window._pyforest_update_imports_cell) { window._pyforest_update_imports_cell('from sklearn.model_selection import train_test_split'); }\n",
       "    "
      ],
      "text/plain": [
       "<IPython.core.display.Javascript object>"
      ]
     },
     "metadata": {},
     "output_type": "display_data"
    },
    {
     "data": {
      "application/javascript": [
       "\n",
       "        if (window._pyforest_update_imports_cell) { window._pyforest_update_imports_cell('from sklearn.model_selection import train_test_split'); }\n",
       "    "
      ],
      "text/plain": [
       "<IPython.core.display.Javascript object>"
      ]
     },
     "metadata": {},
     "output_type": "display_data"
    }
   ],
   "source": [
    "X_train, X_val, y_train, y_val = train_test_split(X, y, test_size=0.1, random_state=42, stratify=y) # se queda con el 10% para validación\n",
    "X_train, X_test, y_train, y_test = train_test_split(X_train, y_train, test_size=0.2, random_state=42, stratify=y_train) # del 90% hace 20% para train y 80% para test"
   ]
  },
  {
   "cell_type": "markdown",
   "metadata": {},
   "source": [
    "Veamos la proporción del target (columna 'labels') en el dataset antes de la división:"
   ]
  },
  {
   "cell_type": "code",
   "execution_count": 24,
   "metadata": {},
   "outputs": [
    {
     "data": {
      "text/plain": [
       "99.0    1609\n",
       "2.0      524\n",
       "1.0      481\n",
       "Name: labels, dtype: int64"
      ]
     },
     "execution_count": 24,
     "metadata": {},
     "output_type": "execute_result"
    }
   ],
   "source": [
    "y.value_counts()"
   ]
  },
  {
   "cell_type": "markdown",
   "metadata": {},
   "source": [
    "Vemos que la proporción de la etiqueta '99' es casi 3 a 1 con respecto a las etiquetas '1' y '2'.\n",
    "\n",
    "Chequeamos el desbalanceo en los conjuntos de train, test y val:"
   ]
  },
  {
   "cell_type": "code",
   "execution_count": 25,
   "metadata": {},
   "outputs": [
    {
     "data": {
      "text/plain": [
       "99.0    1158\n",
       "2.0      377\n",
       "1.0      346\n",
       "Name: labels, dtype: int64"
      ]
     },
     "execution_count": 25,
     "metadata": {},
     "output_type": "execute_result"
    }
   ],
   "source": [
    "y_train.value_counts()"
   ]
  },
  {
   "cell_type": "code",
   "execution_count": 26,
   "metadata": {},
   "outputs": [
    {
     "data": {
      "text/plain": [
       "99.0    161\n",
       "2.0      53\n",
       "1.0      48\n",
       "Name: labels, dtype: int64"
      ]
     },
     "execution_count": 26,
     "metadata": {},
     "output_type": "execute_result"
    }
   ],
   "source": [
    "y_val.value_counts()"
   ]
  },
  {
   "cell_type": "code",
   "execution_count": 27,
   "metadata": {},
   "outputs": [
    {
     "data": {
      "text/plain": [
       "99.0    290\n",
       "2.0      94\n",
       "1.0      87\n",
       "Name: labels, dtype: int64"
      ]
     },
     "execution_count": 27,
     "metadata": {},
     "output_type": "execute_result"
    }
   ],
   "source": [
    "y_test.value_counts()"
   ]
  },
  {
   "cell_type": "markdown",
   "metadata": {},
   "source": [
    "Vemos que la proporción de la etiqueta '99' se mantiene casi 3 a 1 con respecto a las etiquetas '1' y '2', tanto en train, test y val."
   ]
  },
  {
   "cell_type": "markdown",
   "metadata": {},
   "source": [
    "### Scaling data"
   ]
  },
  {
   "cell_type": "code",
   "execution_count": 28,
   "metadata": {},
   "outputs": [
    {
     "data": {
      "application/javascript": [
       "\n",
       "        if (window._pyforest_update_imports_cell) { window._pyforest_update_imports_cell('from sklearn.preprocessing import StandardScaler\\nfrom sklearn.model_selection import train_test_split'); }\n",
       "    "
      ],
      "text/plain": [
       "<IPython.core.display.Javascript object>"
      ]
     },
     "metadata": {},
     "output_type": "display_data"
    }
   ],
   "source": [
    "scaler = StandardScaler()\n",
    "X_train = scaler.fit_transform(X_train)\n",
    "X_val = scaler.transform(X_val)\n",
    "X_test = scaler.transform(X_test)"
   ]
  },
  {
   "cell_type": "markdown",
   "metadata": {},
   "source": [
    "### Ancillary functions"
   ]
  },
  {
   "cell_type": "code",
   "execution_count": 29,
   "metadata": {},
   "outputs": [],
   "source": [
    "def experiment(model, params, X_train, X_val, X_test):\n",
    "    model_clf = model(**params)\n",
    "    model_clf.fit(X_train, y_train)\n",
    "    y_train_pred=model_clf.predict(X_train)\n",
    "    y_val_pred = model_clf.predict(X_val)\n",
    "    y_test_pred = model_clf.predict(X_test)\n",
    "    clf_report_train = classification_report(y_train, y_train_pred)\n",
    "    clf_report_val = classification_report(y_val, y_val_pred)\n",
    "    clf_report_test = classification_report(y_test, y_test_pred)\n",
    "    return model_clf, clf_report_train, clf_report_val, clf_report_test\n",
    "\n",
    "def experiment2(model_clf, X_train, X_val, X_test):\n",
    "    model_clf.fit(X_train, y_train)\n",
    "    y_train_pred=model_clf.predict(X_train)\n",
    "    y_val_pred = model_clf.predict(X_val)\n",
    "    y_test_pred = model_clf.predict(X_test)\n",
    "    clf_report_train = classification_report(y_train, y_train_pred)\n",
    "    clf_report_val = classification_report(y_val, y_val_pred)\n",
    "    clf_report_test = classification_report(y_test, y_test_pred)\n",
    "    return model_clf, clf_report_train, clf_report_val, clf_report_test\n",
    "\n",
    "\n",
    "def experiment3(model_clf, X_train, X_val, X_test, fit_params):\n",
    "    model_clf.fit(X_train, y_train, **fit_params)\n",
    "    y_train_pred=model_clf.predict(X_train)\n",
    "    y_val_pred = model_clf.predict(X_val)\n",
    "    y_test_pred = model_clf.predict(X_test)\n",
    "    clf_report_train = classification_report(y_train, y_train_pred)\n",
    "    clf_report_val = classification_report(y_val, y_val_pred)\n",
    "    clf_report_test = classification_report(y_test, y_test_pred)\n",
    "    return model_clf, clf_report_train, clf_report_val, clf_report_test\n",
    "\n",
    "def print_clf_reports(model, clf_report_train, clf_report_val, clf_report_test):\n",
    "    set_dict = {\n",
    "        'Train': clf_report_train, \n",
    "        'Val': clf_report_val, \n",
    "        'Test': clf_report_test\n",
    "    }\n",
    "    \n",
    "    for key in set_dict:\n",
    "        print(\"================================================================================\")\n",
    "        print(\"Model: \", str(model), \" - \" , key, \" Clasification Report\")\n",
    "        print(\"================================================================================\")\n",
    "        print(set_dict[key])\n",
    "\n",
    "\n",
    "def plot_learning_curve(estimator, title, X, y, axes=None, ylim=None, cv=None,\n",
    "                        n_jobs=None, train_sizes=np.linspace(.1, 1.0, 5), scoring=None):\n",
    "    \"\"\"\n",
    "    Generate 3 plots: the test and training learning curve, the training\n",
    "    samples vs fit times curve, the fit times vs score curve.\n",
    "\n",
    "    Parameters\n",
    "    ----------\n",
    "    estimator : estimator instance\n",
    "        An estimator instance implementing `fit` and `predict` methods which\n",
    "        will be cloned for each validation.\n",
    "\n",
    "    title : str\n",
    "        Title for the chart.\n",
    "\n",
    "    X : array-like of shape (n_samples, n_features)\n",
    "        Training vector, where ``n_samples`` is the number of samples and\n",
    "        ``n_features`` is the number of features.\n",
    "\n",
    "    y : array-like of shape (n_samples) or (n_samples, n_features)\n",
    "        Target relative to ``X`` for classification or regression;\n",
    "        None for unsupervised learning.\n",
    "\n",
    "    axes : array-like of shape (3,), default=None\n",
    "        Axes to use for plotting the curves.\n",
    "\n",
    "    ylim : tuple of shape (2,), default=None\n",
    "        Defines minimum and maximum y-values plotted, e.g. (ymin, ymax).\n",
    "\n",
    "    cv : int, cross-validation generator or an iterable, default=None\n",
    "        Determines the cross-validation splitting strategy.\n",
    "        Possible inputs for cv are:\n",
    "\n",
    "          - None, to use the default 5-fold cross-validation,\n",
    "          - integer, to specify the number of folds.\n",
    "          - :term:`CV splitter`,\n",
    "          - An iterable yielding (train, test) splits as arrays of indices.\n",
    "\n",
    "        For integer/None inputs, if ``y`` is binary or multiclass,\n",
    "        :class:`StratifiedKFold` used. If the estimator is not a classifier\n",
    "        or if ``y`` is neither binary nor multiclass, :class:`KFold` is used.\n",
    "\n",
    "        Refer :ref:`User Guide <cross_validation>` for the various\n",
    "        cross-validators that can be used here.\n",
    "\n",
    "    n_jobs : int or None, default=None\n",
    "        Number of jobs to run in parallel.\n",
    "        ``None`` means 1 unless in a :obj:`joblib.parallel_backend` context.\n",
    "        ``-1`` means using all processors. See :term:`Glossary <n_jobs>`\n",
    "        for more details.\n",
    "\n",
    "    train_sizes : array-like of shape (n_ticks,)\n",
    "        Relative or absolute numbers of training examples that will be used to\n",
    "        generate the learning curve. If the ``dtype`` is float, it is regarded\n",
    "        as a fraction of the maximum size of the training set (that is\n",
    "        determined by the selected validation method), i.e. it has to be within\n",
    "        (0, 1]. Otherwise it is interpreted as absolute sizes of the training\n",
    "        sets. Note that for classification the number of samples usually have\n",
    "        to be big enough to contain at least one sample from each class.\n",
    "        (default: np.linspace(0.1, 1.0, 5))\n",
    "    \"\"\"\n",
    "    if axes is None:\n",
    "        _, axes = plt.subplots(1, 3, figsize=(20, 5))\n",
    "\n",
    "    axes[0].set_title(title)\n",
    "    if ylim is not None:\n",
    "        axes[0].set_ylim(*ylim)\n",
    "    axes[0].set_xlabel(\"Training examples\")\n",
    "    axes[0].set_ylabel(\"Score\")\n",
    "\n",
    "    train_sizes, train_scores, test_scores, fit_times, _ = \\\n",
    "        learning_curve(estimator, X, y, cv=cv, n_jobs=n_jobs,\n",
    "                       train_sizes=train_sizes,\n",
    "                       return_times=True, scoring = scoring)\n",
    "    train_scores_mean = np.mean(train_scores, axis=1)\n",
    "    train_scores_std = np.std(train_scores, axis=1)\n",
    "    test_scores_mean = np.mean(test_scores, axis=1)\n",
    "    test_scores_std = np.std(test_scores, axis=1)\n",
    "    fit_times_mean = np.mean(fit_times, axis=1)\n",
    "    fit_times_std = np.std(fit_times, axis=1)\n",
    "\n",
    "    # Plot learning curve\n",
    "    axes[0].grid()\n",
    "    axes[0].fill_between(train_sizes, train_scores_mean - train_scores_std,\n",
    "                         train_scores_mean + train_scores_std, alpha=0.1,\n",
    "                         color=\"r\")\n",
    "    axes[0].fill_between(train_sizes, test_scores_mean - test_scores_std,\n",
    "                         test_scores_mean + test_scores_std, alpha=0.1,\n",
    "                         color=\"g\")\n",
    "    axes[0].plot(train_sizes, train_scores_mean, 'o-', color=\"r\",\n",
    "                 label=\"Training score\")\n",
    "    axes[0].plot(train_sizes, test_scores_mean, 'o-', color=\"g\",\n",
    "                 label=\"Cross-validation score\")\n",
    "    axes[0].legend(loc=\"best\")\n",
    "\n",
    "    # Plot n_samples vs fit_times\n",
    "    axes[1].grid()\n",
    "    axes[1].plot(train_sizes, fit_times_mean, 'o-')\n",
    "    axes[1].fill_between(train_sizes, fit_times_mean - fit_times_std,\n",
    "                         fit_times_mean + fit_times_std, alpha=0.1)\n",
    "    axes[1].set_xlabel(\"Training examples\")\n",
    "    axes[1].set_ylabel(\"fit_times\")\n",
    "    axes[1].set_title(\"Scalability of the model\")\n",
    "\n",
    "    # Plot fit_time vs score\n",
    "    axes[2].grid()\n",
    "    axes[2].plot(fit_times_mean, test_scores_mean, 'o-')\n",
    "    axes[2].fill_between(fit_times_mean, test_scores_mean - test_scores_std,\n",
    "                         test_scores_mean + test_scores_std, alpha=0.1)\n",
    "    axes[2].set_xlabel(\"fit_times\")\n",
    "    axes[2].set_ylabel(\"Score\")\n",
    "    axes[2].set_title(\"Performance of the model\")\n",
    "\n",
    "    return plt\n",
    "    "
   ]
  },
  {
   "cell_type": "markdown",
   "metadata": {},
   "source": [
    "### Baseline model: Dumy Classifier\n",
    "\n",
    "Como se espera de una estrategia uniforme, la distribución del target es aleatoria y no refleja la verdadera distribución de las etiquetas.\n",
    "\n",
    "Para tener en cuenta el inconveniente mencionado anteriormente, podemos utilizar la estrategia \"estratificada\". Las predicciones se generan aleatoriamente, pero se mantiene la distribución de las clases del conjunto de entrenamiento. Al igual que en la estrategia estratificada train_test_split."
   ]
  },
  {
   "cell_type": "code",
   "execution_count": 30,
   "metadata": {},
   "outputs": [
    {
     "name": "stdout",
     "output_type": "stream",
     "text": [
      "================================================================================\n",
      "Model:  DummyClassifier(strategy='stratified')  -  Train  Clasification Report\n",
      "================================================================================\n",
      "              precision    recall  f1-score   support\n",
      "\n",
      "         1.0       0.19      0.20      0.20       346\n",
      "         2.0       0.18      0.18      0.18       377\n",
      "        99.0       0.61      0.61      0.61      1158\n",
      "\n",
      "    accuracy                           0.45      1881\n",
      "   macro avg       0.33      0.33      0.33      1881\n",
      "weighted avg       0.45      0.45      0.45      1881\n",
      "\n",
      "================================================================================\n",
      "Model:  DummyClassifier(strategy='stratified')  -  Val  Clasification Report\n",
      "================================================================================\n",
      "              precision    recall  f1-score   support\n",
      "\n",
      "         1.0       0.16      0.17      0.16        48\n",
      "         2.0       0.22      0.21      0.21        53\n",
      "        99.0       0.61      0.61      0.61       161\n",
      "\n",
      "    accuracy                           0.45       262\n",
      "   macro avg       0.33      0.33      0.33       262\n",
      "weighted avg       0.45      0.45      0.45       262\n",
      "\n",
      "================================================================================\n",
      "Model:  DummyClassifier(strategy='stratified')  -  Test  Clasification Report\n",
      "================================================================================\n",
      "              precision    recall  f1-score   support\n",
      "\n",
      "         1.0       0.11      0.13      0.12        87\n",
      "         2.0       0.18      0.17      0.17        94\n",
      "        99.0       0.60      0.59      0.60       290\n",
      "\n",
      "    accuracy                           0.42       471\n",
      "   macro avg       0.30      0.30      0.30       471\n",
      "weighted avg       0.43      0.42      0.42       471\n",
      "\n"
     ]
    }
   ],
   "source": [
    "from sklearn.dummy import DummyClassifier\n",
    "\n",
    "params = {\n",
    "    'strategy':'stratified'\n",
    "}\n",
    "\n",
    "model = DummyClassifier\n",
    "model_clf, clf_report_train, clf_report_val, clf_report_test = experiment(model, params, X_train, X_val, X_test)\n",
    "print_clf_reports(model_clf, clf_report_train, clf_report_val, clf_report_test)"
   ]
  },
  {
   "cell_type": "markdown",
   "metadata": {},
   "source": [
    "**Métricas:**\n",
    "\n",
    "- 'F1 Score' de cada clase.\n",
    "- y el 'F1 Micro Score average'.\n",
    "\n",
    "https://scikit-learn.org/stable/modules/generated/sklearn.metrics.f1_score.html\n",
    "\n",
    "- 'micro':\n",
    "Calculate metrics globally by counting the total true positives, false negatives and false positives.\n",
    "\n",
    "- 'macro':\n",
    "Calculate metrics for each label, and find their unweighted mean. This does not take label imbalance into account.\n",
    "\n",
    "- 'weighted':\n",
    "Calculate metrics for each label, and find their average weighted by support (the number of true instances for each label). This alters ‘macro’ to account for label imbalance; it can result in an F-score that is not between precision and recall.\n",
    "\n",
    "- 'samples':\n",
    "Calculate metrics for each instance, and find their average (only meaningful for multilabel classification where this differs from accuracy_score).\n",
    "\n",
    "Los micro y macro promedios (para cualquier métrica) calcularán cosas ligeramente diferentes y, por lo tanto, su interpretación difiere. Un macro-promedio calculará la métrica independientemente para cada clase y luego tomará el promedio (por lo tanto, tratará a todas las clases por igual), mientras que un micro-promedio agregará las contribuciones de todas las clases para calcular la métrica promedio. En una configuración de clasificación de varias clases, es preferible el micro-promedio si sospecha que puede haber un desequilibrio de clase (es decir, puede tener muchos más ejemplos de una clase que de otras clases).\n",
    "\n",
    "Ver:\n",
    "\n",
    "https://towardsdatascience.com/multi-class-metrics-made-simple-part-i-precision-and-recall-9250280bddc2\n",
    "\n",
    "https://towardsdatascience.com/multi-class-metrics-made-simple-part-ii-the-f1-score-ebe8b2c2ca1"
   ]
  },
  {
   "cell_type": "markdown",
   "metadata": {},
   "source": [
    "**Comparemos las métricas obtenidas por un modelo baseline \"Dummy Clasiffier\", y otros modelos con sus parámetros por defecto.**"
   ]
  },
  {
   "cell_type": "code",
   "execution_count": 31,
   "metadata": {},
   "outputs": [
    {
     "name": "stdout",
     "output_type": "stream",
     "text": [
      "==========================================\n",
      "Baselines Models\n",
      "==========================================\n"
     ]
    },
    {
     "data": {
      "application/javascript": [
       "\n",
       "        if (window._pyforest_update_imports_cell) { window._pyforest_update_imports_cell('from sklearn.model_selection import StratifiedKFold\\nfrom sklearn.preprocessing import StandardScaler\\nfrom sklearn.model_selection import train_test_split'); }\n",
       "    "
      ],
      "text/plain": [
       "<IPython.core.display.Javascript object>"
      ]
     },
     "metadata": {},
     "output_type": "display_data"
    },
    {
     "name": "stdout",
     "output_type": "stream",
     "text": [
      "\n",
      "Dummy Classifier\n",
      "==========================================\n"
     ]
    },
    {
     "data": {
      "application/javascript": [
       "\n",
       "        if (window._pyforest_update_imports_cell) { window._pyforest_update_imports_cell('from sklearn.model_selection import StratifiedKFold\\nfrom sklearn.preprocessing import StandardScaler\\nfrom sklearn.model_selection import train_test_split\\nfrom sklearn.model_selection import cross_val_score'); }\n",
       "    "
      ],
      "text/plain": [
       "<IPython.core.display.Javascript object>"
      ]
     },
     "metadata": {},
     "output_type": "display_data"
    },
    {
     "data": {
      "application/javascript": [
       "\n",
       "        if (window._pyforest_update_imports_cell) { window._pyforest_update_imports_cell('from sklearn.model_selection import StratifiedKFold\\nfrom sklearn.preprocessing import StandardScaler\\nfrom sklearn.model_selection import train_test_split\\nfrom sklearn.model_selection import cross_val_score'); }\n",
       "    "
      ],
      "text/plain": [
       "<IPython.core.display.Javascript object>"
      ]
     },
     "metadata": {},
     "output_type": "display_data"
    },
    {
     "data": {
      "application/javascript": [
       "\n",
       "        if (window._pyforest_update_imports_cell) { window._pyforest_update_imports_cell('from sklearn.model_selection import StratifiedKFold\\nfrom sklearn.preprocessing import StandardScaler\\nfrom sklearn.model_selection import train_test_split\\nfrom sklearn.model_selection import cross_val_score'); }\n",
       "    "
      ],
      "text/plain": [
       "<IPython.core.display.Javascript object>"
      ]
     },
     "metadata": {},
     "output_type": "display_data"
    },
    {
     "name": "stdout",
     "output_type": "stream",
     "text": [
      "================================================================================\n",
      "Model:  DummyClassifier(strategy='stratified')  -  Train  Clasification Report\n",
      "================================================================================\n",
      "              precision    recall  f1-score   support\n",
      "\n",
      "         1.0       0.19      0.18      0.19       346\n",
      "         2.0       0.23      0.21      0.22       377\n",
      "        99.0       0.61      0.63      0.62      1158\n",
      "\n",
      "    accuracy                           0.47      1881\n",
      "   macro avg       0.34      0.34      0.34      1881\n",
      "weighted avg       0.46      0.47      0.46      1881\n",
      "\n",
      "================================================================================\n",
      "Model:  DummyClassifier(strategy='stratified')  -  Val  Clasification Report\n",
      "================================================================================\n",
      "              precision    recall  f1-score   support\n",
      "\n",
      "         1.0       0.20      0.17      0.18        48\n",
      "         2.0       0.16      0.19      0.17        53\n",
      "        99.0       0.62      0.62      0.62       161\n",
      "\n",
      "    accuracy                           0.45       262\n",
      "   macro avg       0.33      0.33      0.33       262\n",
      "weighted avg       0.45      0.45      0.45       262\n",
      "\n",
      "================================================================================\n",
      "Model:  DummyClassifier(strategy='stratified')  -  Test  Clasification Report\n",
      "================================================================================\n",
      "              precision    recall  f1-score   support\n",
      "\n",
      "         1.0       0.25      0.24      0.24        87\n",
      "         2.0       0.26      0.26      0.26        94\n",
      "        99.0       0.65      0.67      0.66       290\n",
      "\n",
      "    accuracy                           0.51       471\n",
      "   macro avg       0.39      0.39      0.39       471\n",
      "weighted avg       0.50      0.51      0.50       471\n",
      "\n",
      "CV Train - F1 Score Macro mean: 0.336 -  CV F1 Score Macro min: 0.303 CV F1 Score Macro max: 0.404\n",
      "CV Val - F1 Score Macro mean: 0.340 -  CV F1 Score Macro min: 0.304 CV F1 Score Macro max: 0.378\n",
      "CV Test - F1 Score Macro mean: 0.339 -  CV F1 Score Macro min: 0.278 CV F1 Score Macro max: 0.424\n"
     ]
    },
    {
     "data": {
      "application/javascript": [
       "\n",
       "        if (window._pyforest_update_imports_cell) { window._pyforest_update_imports_cell('from sklearn.model_selection import StratifiedKFold\\nfrom sklearn.preprocessing import StandardScaler\\nfrom sklearn.model_selection import train_test_split\\nfrom sklearn.model_selection import cross_val_score'); }\n",
       "    "
      ],
      "text/plain": [
       "<IPython.core.display.Javascript object>"
      ]
     },
     "metadata": {},
     "output_type": "display_data"
    },
    {
     "name": "stdout",
     "output_type": "stream",
     "text": [
      "\n",
      "Decission Tree\n",
      "==========================================\n"
     ]
    },
    {
     "data": {
      "application/javascript": [
       "\n",
       "        if (window._pyforest_update_imports_cell) { window._pyforest_update_imports_cell('from sklearn.model_selection import StratifiedKFold\\nfrom sklearn.preprocessing import StandardScaler\\nfrom sklearn.model_selection import train_test_split\\nfrom sklearn.model_selection import cross_val_score'); }\n",
       "    "
      ],
      "text/plain": [
       "<IPython.core.display.Javascript object>"
      ]
     },
     "metadata": {},
     "output_type": "display_data"
    },
    {
     "data": {
      "application/javascript": [
       "\n",
       "        if (window._pyforest_update_imports_cell) { window._pyforest_update_imports_cell('from sklearn.model_selection import StratifiedKFold\\nfrom sklearn.preprocessing import StandardScaler\\nfrom sklearn.model_selection import train_test_split\\nfrom sklearn.model_selection import cross_val_score'); }\n",
       "    "
      ],
      "text/plain": [
       "<IPython.core.display.Javascript object>"
      ]
     },
     "metadata": {},
     "output_type": "display_data"
    },
    {
     "data": {
      "application/javascript": [
       "\n",
       "        if (window._pyforest_update_imports_cell) { window._pyforest_update_imports_cell('from sklearn.model_selection import StratifiedKFold\\nfrom sklearn.preprocessing import StandardScaler\\nfrom sklearn.model_selection import train_test_split\\nfrom sklearn.model_selection import cross_val_score'); }\n",
       "    "
      ],
      "text/plain": [
       "<IPython.core.display.Javascript object>"
      ]
     },
     "metadata": {},
     "output_type": "display_data"
    },
    {
     "name": "stdout",
     "output_type": "stream",
     "text": [
      "================================================================================\n",
      "Model:  DecisionTreeClassifier()  -  Train  Clasification Report\n",
      "================================================================================\n",
      "              precision    recall  f1-score   support\n",
      "\n",
      "         1.0       1.00      1.00      1.00       346\n",
      "         2.0       1.00      1.00      1.00       377\n",
      "        99.0       1.00      1.00      1.00      1158\n",
      "\n",
      "    accuracy                           1.00      1881\n",
      "   macro avg       1.00      1.00      1.00      1881\n",
      "weighted avg       1.00      1.00      1.00      1881\n",
      "\n",
      "================================================================================\n",
      "Model:  DecisionTreeClassifier()  -  Val  Clasification Report\n",
      "================================================================================\n",
      "              precision    recall  f1-score   support\n",
      "\n",
      "         1.0       0.66      0.73      0.69        48\n",
      "         2.0       0.44      0.42      0.43        53\n",
      "        99.0       0.75      0.75      0.75       161\n",
      "\n",
      "    accuracy                           0.68       262\n",
      "   macro avg       0.62      0.63      0.62       262\n",
      "weighted avg       0.67      0.68      0.67       262\n",
      "\n",
      "================================================================================\n",
      "Model:  DecisionTreeClassifier()  -  Test  Clasification Report\n",
      "================================================================================\n",
      "              precision    recall  f1-score   support\n",
      "\n",
      "         1.0       0.62      0.71      0.66        87\n",
      "         2.0       0.44      0.51      0.47        94\n",
      "        99.0       0.76      0.69      0.72       290\n",
      "\n",
      "    accuracy                           0.66       471\n",
      "   macro avg       0.61      0.64      0.62       471\n",
      "weighted avg       0.67      0.66      0.66       471\n",
      "\n",
      "CV Train - F1 Score Macro mean: 0.577 -  CV F1 Score Macro min: 0.520 CV F1 Score Macro max: 0.628\n",
      "CV Val - F1 Score Macro mean: 0.531 -  CV F1 Score Macro min: 0.433 CV F1 Score Macro max: 0.613\n",
      "CV Test - F1 Score Macro mean: 0.617 -  CV F1 Score Macro min: 0.572 CV F1 Score Macro max: 0.671\n"
     ]
    },
    {
     "data": {
      "application/javascript": [
       "\n",
       "        if (window._pyforest_update_imports_cell) { window._pyforest_update_imports_cell('from sklearn.model_selection import StratifiedKFold\\nfrom sklearn.preprocessing import StandardScaler\\nfrom sklearn.model_selection import train_test_split\\nfrom sklearn.model_selection import cross_val_score'); }\n",
       "    "
      ],
      "text/plain": [
       "<IPython.core.display.Javascript object>"
      ]
     },
     "metadata": {},
     "output_type": "display_data"
    },
    {
     "name": "stdout",
     "output_type": "stream",
     "text": [
      "\n",
      "XGBoost\n",
      "==========================================\n"
     ]
    },
    {
     "data": {
      "application/javascript": [
       "\n",
       "        if (window._pyforest_update_imports_cell) { window._pyforest_update_imports_cell('from sklearn.model_selection import StratifiedKFold\\nfrom sklearn.preprocessing import StandardScaler\\nfrom sklearn.model_selection import train_test_split\\nfrom sklearn.model_selection import cross_val_score'); }\n",
       "    "
      ],
      "text/plain": [
       "<IPython.core.display.Javascript object>"
      ]
     },
     "metadata": {},
     "output_type": "display_data"
    },
    {
     "data": {
      "application/javascript": [
       "\n",
       "        if (window._pyforest_update_imports_cell) { window._pyforest_update_imports_cell('from sklearn.model_selection import StratifiedKFold\\nfrom sklearn.preprocessing import StandardScaler\\nfrom sklearn.model_selection import train_test_split\\nfrom sklearn.model_selection import cross_val_score'); }\n",
       "    "
      ],
      "text/plain": [
       "<IPython.core.display.Javascript object>"
      ]
     },
     "metadata": {},
     "output_type": "display_data"
    },
    {
     "data": {
      "application/javascript": [
       "\n",
       "        if (window._pyforest_update_imports_cell) { window._pyforest_update_imports_cell('from sklearn.model_selection import StratifiedKFold\\nfrom sklearn.preprocessing import StandardScaler\\nfrom sklearn.model_selection import train_test_split\\nfrom sklearn.model_selection import cross_val_score'); }\n",
       "    "
      ],
      "text/plain": [
       "<IPython.core.display.Javascript object>"
      ]
     },
     "metadata": {},
     "output_type": "display_data"
    },
    {
     "name": "stdout",
     "output_type": "stream",
     "text": [
      "================================================================================\n",
      "Model:  XGBClassifier(base_score=0.5, booster='gbtree', colsample_bylevel=1,\n",
      "              colsample_bynode=1, colsample_bytree=1, eval_metric='mlogloss',\n",
      "              gamma=0, gpu_id=-1, importance_type='gain',\n",
      "              interaction_constraints='', learning_rate=0.300000012,\n",
      "              max_delta_step=0, max_depth=6, min_child_weight=1, missing=nan,\n",
      "              monotone_constraints='()', n_estimators=100, n_jobs=4,\n",
      "              num_parallel_tree=1, objective='multi:softprob', random_state=0,\n",
      "              reg_alpha=0, reg_lambda=1, scale_pos_weight=None, subsample=1,\n",
      "              tree_method='exact', validate_parameters=1, verbosity=None)  -  Train  Clasification Report\n",
      "================================================================================\n",
      "              precision    recall  f1-score   support\n",
      "\n",
      "         1.0       1.00      1.00      1.00       346\n",
      "         2.0       1.00      1.00      1.00       377\n",
      "        99.0       1.00      1.00      1.00      1158\n",
      "\n",
      "    accuracy                           1.00      1881\n",
      "   macro avg       1.00      1.00      1.00      1881\n",
      "weighted avg       1.00      1.00      1.00      1881\n",
      "\n",
      "================================================================================\n",
      "Model:  XGBClassifier(base_score=0.5, booster='gbtree', colsample_bylevel=1,\n",
      "              colsample_bynode=1, colsample_bytree=1, eval_metric='mlogloss',\n",
      "              gamma=0, gpu_id=-1, importance_type='gain',\n",
      "              interaction_constraints='', learning_rate=0.300000012,\n",
      "              max_delta_step=0, max_depth=6, min_child_weight=1, missing=nan,\n",
      "              monotone_constraints='()', n_estimators=100, n_jobs=4,\n",
      "              num_parallel_tree=1, objective='multi:softprob', random_state=0,\n",
      "              reg_alpha=0, reg_lambda=1, scale_pos_weight=None, subsample=1,\n",
      "              tree_method='exact', validate_parameters=1, verbosity=None)  -  Val  Clasification Report\n",
      "================================================================================\n",
      "              precision    recall  f1-score   support\n",
      "\n",
      "         1.0       0.82      0.77      0.80        48\n",
      "         2.0       0.72      0.62      0.67        53\n",
      "        99.0       0.82      0.87      0.84       161\n",
      "\n",
      "    accuracy                           0.80       262\n",
      "   macro avg       0.79      0.75      0.77       262\n",
      "weighted avg       0.80      0.80      0.80       262\n",
      "\n",
      "================================================================================\n",
      "Model:  XGBClassifier(base_score=0.5, booster='gbtree', colsample_bylevel=1,\n",
      "              colsample_bynode=1, colsample_bytree=1, eval_metric='mlogloss',\n",
      "              gamma=0, gpu_id=-1, importance_type='gain',\n",
      "              interaction_constraints='', learning_rate=0.300000012,\n",
      "              max_delta_step=0, max_depth=6, min_child_weight=1, missing=nan,\n",
      "              monotone_constraints='()', n_estimators=100, n_jobs=4,\n",
      "              num_parallel_tree=1, objective='multi:softprob', random_state=0,\n",
      "              reg_alpha=0, reg_lambda=1, scale_pos_weight=None, subsample=1,\n",
      "              tree_method='exact', validate_parameters=1, verbosity=None)  -  Test  Clasification Report\n",
      "================================================================================\n",
      "              precision    recall  f1-score   support\n",
      "\n",
      "         1.0       0.81      0.77      0.79        87\n",
      "         2.0       0.77      0.50      0.61        94\n",
      "        99.0       0.80      0.90      0.84       290\n",
      "\n",
      "    accuracy                           0.79       471\n",
      "   macro avg       0.79      0.72      0.75       471\n",
      "weighted avg       0.79      0.79      0.79       471\n",
      "\n",
      "CV Train - F1 Score Macro mean: 0.707 -  CV F1 Score Macro min: 0.672 CV F1 Score Macro max: 0.742\n",
      "CV Val - F1 Score Macro mean: 0.675 -  CV F1 Score Macro min: 0.584 CV F1 Score Macro max: 0.742\n",
      "CV Test - F1 Score Macro mean: 0.737 -  CV F1 Score Macro min: 0.687 CV F1 Score Macro max: 0.785\n"
     ]
    },
    {
     "data": {
      "application/javascript": [
       "\n",
       "        if (window._pyforest_update_imports_cell) { window._pyforest_update_imports_cell('from sklearn.model_selection import StratifiedKFold\\nfrom sklearn.preprocessing import StandardScaler\\nfrom sklearn.model_selection import train_test_split\\nfrom sklearn.model_selection import cross_val_score'); }\n",
       "    "
      ],
      "text/plain": [
       "<IPython.core.display.Javascript object>"
      ]
     },
     "metadata": {},
     "output_type": "display_data"
    },
    {
     "name": "stdout",
     "output_type": "stream",
     "text": [
      "\n",
      "LightGBM\n",
      "==========================================\n"
     ]
    },
    {
     "data": {
      "application/javascript": [
       "\n",
       "        if (window._pyforest_update_imports_cell) { window._pyforest_update_imports_cell('from sklearn.model_selection import StratifiedKFold\\nfrom sklearn.preprocessing import StandardScaler\\nfrom sklearn.model_selection import train_test_split\\nfrom sklearn.model_selection import cross_val_score'); }\n",
       "    "
      ],
      "text/plain": [
       "<IPython.core.display.Javascript object>"
      ]
     },
     "metadata": {},
     "output_type": "display_data"
    },
    {
     "data": {
      "application/javascript": [
       "\n",
       "        if (window._pyforest_update_imports_cell) { window._pyforest_update_imports_cell('from sklearn.model_selection import StratifiedKFold\\nfrom sklearn.preprocessing import StandardScaler\\nfrom sklearn.model_selection import train_test_split\\nfrom sklearn.model_selection import cross_val_score'); }\n",
       "    "
      ],
      "text/plain": [
       "<IPython.core.display.Javascript object>"
      ]
     },
     "metadata": {},
     "output_type": "display_data"
    },
    {
     "data": {
      "application/javascript": [
       "\n",
       "        if (window._pyforest_update_imports_cell) { window._pyforest_update_imports_cell('from sklearn.model_selection import StratifiedKFold\\nfrom sklearn.preprocessing import StandardScaler\\nfrom sklearn.model_selection import train_test_split\\nfrom sklearn.model_selection import cross_val_score'); }\n",
       "    "
      ],
      "text/plain": [
       "<IPython.core.display.Javascript object>"
      ]
     },
     "metadata": {},
     "output_type": "display_data"
    },
    {
     "name": "stdout",
     "output_type": "stream",
     "text": [
      "================================================================================\n",
      "Model:  LGBMClassifier()  -  Train  Clasification Report\n",
      "================================================================================\n",
      "              precision    recall  f1-score   support\n",
      "\n",
      "         1.0       1.00      1.00      1.00       346\n",
      "         2.0       1.00      1.00      1.00       377\n",
      "        99.0       1.00      1.00      1.00      1158\n",
      "\n",
      "    accuracy                           1.00      1881\n",
      "   macro avg       1.00      1.00      1.00      1881\n",
      "weighted avg       1.00      1.00      1.00      1881\n",
      "\n",
      "================================================================================\n",
      "Model:  LGBMClassifier()  -  Val  Clasification Report\n",
      "================================================================================\n",
      "              precision    recall  f1-score   support\n",
      "\n",
      "         1.0       0.83      0.83      0.83        48\n",
      "         2.0       0.70      0.57      0.62        53\n",
      "        99.0       0.82      0.87      0.84       161\n",
      "\n",
      "    accuracy                           0.80       262\n",
      "   macro avg       0.78      0.76      0.77       262\n",
      "weighted avg       0.80      0.80      0.80       262\n",
      "\n",
      "================================================================================\n",
      "Model:  LGBMClassifier()  -  Test  Clasification Report\n",
      "================================================================================\n",
      "              precision    recall  f1-score   support\n",
      "\n",
      "         1.0       0.83      0.78      0.80        87\n",
      "         2.0       0.80      0.54      0.65        94\n",
      "        99.0       0.81      0.91      0.86       290\n",
      "\n",
      "    accuracy                           0.81       471\n",
      "   macro avg       0.81      0.74      0.77       471\n",
      "weighted avg       0.81      0.81      0.80       471\n",
      "\n",
      "CV Train - F1 Score Macro mean: 0.706 -  CV F1 Score Macro min: 0.674 CV F1 Score Macro max: 0.742\n",
      "CV Val - F1 Score Macro mean: 0.755 -  CV F1 Score Macro min: 0.681 CV F1 Score Macro max: 0.849\n",
      "CV Test - F1 Score Macro mean: 0.717 -  CV F1 Score Macro min: 0.621 CV F1 Score Macro max: 0.771\n"
     ]
    },
    {
     "data": {
      "application/javascript": [
       "\n",
       "        if (window._pyforest_update_imports_cell) { window._pyforest_update_imports_cell('from sklearn.model_selection import StratifiedKFold\\nfrom sklearn.preprocessing import StandardScaler\\nfrom sklearn.model_selection import train_test_split\\nfrom sklearn.model_selection import cross_val_score'); }\n",
       "    "
      ],
      "text/plain": [
       "<IPython.core.display.Javascript object>"
      ]
     },
     "metadata": {},
     "output_type": "display_data"
    },
    {
     "name": "stdout",
     "output_type": "stream",
     "text": [
      "\n",
      "Support Vector\n",
      "==========================================\n"
     ]
    },
    {
     "data": {
      "application/javascript": [
       "\n",
       "        if (window._pyforest_update_imports_cell) { window._pyforest_update_imports_cell('from sklearn.model_selection import StratifiedKFold\\nfrom sklearn.preprocessing import StandardScaler\\nfrom sklearn.model_selection import train_test_split\\nfrom sklearn.model_selection import cross_val_score'); }\n",
       "    "
      ],
      "text/plain": [
       "<IPython.core.display.Javascript object>"
      ]
     },
     "metadata": {},
     "output_type": "display_data"
    },
    {
     "data": {
      "application/javascript": [
       "\n",
       "        if (window._pyforest_update_imports_cell) { window._pyforest_update_imports_cell('from sklearn.model_selection import StratifiedKFold\\nfrom sklearn.preprocessing import StandardScaler\\nfrom sklearn.model_selection import train_test_split\\nfrom sklearn.model_selection import cross_val_score'); }\n",
       "    "
      ],
      "text/plain": [
       "<IPython.core.display.Javascript object>"
      ]
     },
     "metadata": {},
     "output_type": "display_data"
    },
    {
     "data": {
      "application/javascript": [
       "\n",
       "        if (window._pyforest_update_imports_cell) { window._pyforest_update_imports_cell('from sklearn.model_selection import StratifiedKFold\\nfrom sklearn.preprocessing import StandardScaler\\nfrom sklearn.model_selection import train_test_split\\nfrom sklearn.model_selection import cross_val_score'); }\n",
       "    "
      ],
      "text/plain": [
       "<IPython.core.display.Javascript object>"
      ]
     },
     "metadata": {},
     "output_type": "display_data"
    },
    {
     "name": "stdout",
     "output_type": "stream",
     "text": [
      "================================================================================\n",
      "Model:  SVC()  -  Train  Clasification Report\n",
      "================================================================================\n",
      "              precision    recall  f1-score   support\n",
      "\n",
      "         1.0       0.83      0.17      0.28       346\n",
      "         2.0       0.83      0.19      0.31       377\n",
      "        99.0       0.66      0.98      0.79      1158\n",
      "\n",
      "    accuracy                           0.67      1881\n",
      "   macro avg       0.77      0.45      0.46      1881\n",
      "weighted avg       0.72      0.67      0.60      1881\n",
      "\n",
      "================================================================================\n",
      "Model:  SVC()  -  Val  Clasification Report\n",
      "================================================================================\n",
      "              precision    recall  f1-score   support\n",
      "\n",
      "         1.0       0.89      0.17      0.28        48\n",
      "         2.0       0.70      0.13      0.22        53\n",
      "        99.0       0.65      0.98      0.78       161\n",
      "\n",
      "    accuracy                           0.66       262\n",
      "   macro avg       0.74      0.42      0.43       262\n",
      "weighted avg       0.70      0.66      0.57       262\n",
      "\n",
      "================================================================================\n",
      "Model:  SVC()  -  Test  Clasification Report\n",
      "================================================================================\n",
      "              precision    recall  f1-score   support\n",
      "\n",
      "         1.0       0.87      0.15      0.25        87\n",
      "         2.0       0.78      0.19      0.31        94\n",
      "        99.0       0.65      0.98      0.78       290\n",
      "\n",
      "    accuracy                           0.67       471\n",
      "   macro avg       0.77      0.44      0.45       471\n",
      "weighted avg       0.72      0.67      0.59       471\n",
      "\n",
      "CV Train - F1 Score Macro mean: 0.406 -  CV F1 Score Macro min: 0.341 CV F1 Score Macro max: 0.438\n",
      "CV Val - F1 Score Macro mean: 0.274 -  CV F1 Score Macro min: 0.254 CV F1 Score Macro max: 0.354\n",
      "CV Test - F1 Score Macro mean: 0.500 -  CV F1 Score Macro min: 0.441 CV F1 Score Macro max: 0.546\n"
     ]
    },
    {
     "data": {
      "application/javascript": [
       "\n",
       "        if (window._pyforest_update_imports_cell) { window._pyforest_update_imports_cell('from sklearn.model_selection import StratifiedKFold\\nfrom sklearn.preprocessing import StandardScaler\\nfrom sklearn.model_selection import train_test_split\\nfrom sklearn.model_selection import cross_val_score'); }\n",
       "    "
      ],
      "text/plain": [
       "<IPython.core.display.Javascript object>"
      ]
     },
     "metadata": {},
     "output_type": "display_data"
    },
    {
     "name": "stdout",
     "output_type": "stream",
     "text": [
      "\n",
      "KNeighbors\n",
      "==========================================\n"
     ]
    },
    {
     "data": {
      "application/javascript": [
       "\n",
       "        if (window._pyforest_update_imports_cell) { window._pyforest_update_imports_cell('from sklearn.model_selection import StratifiedKFold\\nfrom sklearn.preprocessing import StandardScaler\\nfrom sklearn.model_selection import train_test_split\\nfrom sklearn.model_selection import cross_val_score'); }\n",
       "    "
      ],
      "text/plain": [
       "<IPython.core.display.Javascript object>"
      ]
     },
     "metadata": {},
     "output_type": "display_data"
    },
    {
     "data": {
      "application/javascript": [
       "\n",
       "        if (window._pyforest_update_imports_cell) { window._pyforest_update_imports_cell('from sklearn.model_selection import StratifiedKFold\\nfrom sklearn.preprocessing import StandardScaler\\nfrom sklearn.model_selection import train_test_split\\nfrom sklearn.model_selection import cross_val_score'); }\n",
       "    "
      ],
      "text/plain": [
       "<IPython.core.display.Javascript object>"
      ]
     },
     "metadata": {},
     "output_type": "display_data"
    },
    {
     "data": {
      "application/javascript": [
       "\n",
       "        if (window._pyforest_update_imports_cell) { window._pyforest_update_imports_cell('from sklearn.model_selection import StratifiedKFold\\nfrom sklearn.preprocessing import StandardScaler\\nfrom sklearn.model_selection import train_test_split\\nfrom sklearn.model_selection import cross_val_score'); }\n",
       "    "
      ],
      "text/plain": [
       "<IPython.core.display.Javascript object>"
      ]
     },
     "metadata": {},
     "output_type": "display_data"
    },
    {
     "name": "stdout",
     "output_type": "stream",
     "text": [
      "================================================================================\n",
      "Model:  KNeighborsClassifier()  -  Train  Clasification Report\n",
      "================================================================================\n",
      "              precision    recall  f1-score   support\n",
      "\n",
      "         1.0       0.61      0.60      0.60       346\n",
      "         2.0       0.65      0.51      0.57       377\n",
      "        99.0       0.78      0.84      0.81      1158\n",
      "\n",
      "    accuracy                           0.73      1881\n",
      "   macro avg       0.68      0.65      0.66      1881\n",
      "weighted avg       0.72      0.73      0.72      1881\n",
      "\n",
      "================================================================================\n",
      "Model:  KNeighborsClassifier()  -  Val  Clasification Report\n",
      "================================================================================\n",
      "              precision    recall  f1-score   support\n",
      "\n",
      "         1.0       0.42      0.35      0.39        48\n",
      "         2.0       0.44      0.40      0.42        53\n",
      "        99.0       0.68      0.74      0.71       161\n",
      "\n",
      "    accuracy                           0.60       262\n",
      "   macro avg       0.52      0.50      0.50       262\n",
      "weighted avg       0.59      0.60      0.59       262\n",
      "\n",
      "================================================================================\n",
      "Model:  KNeighborsClassifier()  -  Test  Clasification Report\n",
      "================================================================================\n",
      "              precision    recall  f1-score   support\n",
      "\n",
      "         1.0       0.44      0.39      0.41        87\n",
      "         2.0       0.44      0.39      0.41        94\n",
      "        99.0       0.70      0.75      0.72       290\n",
      "\n",
      "    accuracy                           0.61       471\n",
      "   macro avg       0.53      0.51      0.52       471\n",
      "weighted avg       0.60      0.61      0.61       471\n",
      "\n",
      "CV Train - F1 Score Macro mean: 0.481 -  CV F1 Score Macro min: 0.447 CV F1 Score Macro max: 0.503\n",
      "CV Val - F1 Score Macro mean: 0.458 -  CV F1 Score Macro min: 0.315 CV F1 Score Macro max: 0.570\n",
      "CV Test - F1 Score Macro mean: 0.513 -  CV F1 Score Macro min: 0.455 CV F1 Score Macro max: 0.539\n"
     ]
    },
    {
     "data": {
      "application/javascript": [
       "\n",
       "        if (window._pyforest_update_imports_cell) { window._pyforest_update_imports_cell('from sklearn.model_selection import StratifiedKFold\\nfrom sklearn.preprocessing import StandardScaler\\nfrom sklearn.model_selection import train_test_split\\nfrom sklearn.model_selection import cross_val_score'); }\n",
       "    "
      ],
      "text/plain": [
       "<IPython.core.display.Javascript object>"
      ]
     },
     "metadata": {},
     "output_type": "display_data"
    },
    {
     "name": "stdout",
     "output_type": "stream",
     "text": [
      "\n",
      "Gradient Boosting\n",
      "==========================================\n"
     ]
    },
    {
     "data": {
      "application/javascript": [
       "\n",
       "        if (window._pyforest_update_imports_cell) { window._pyforest_update_imports_cell('from sklearn.model_selection import StratifiedKFold\\nfrom sklearn.preprocessing import StandardScaler\\nfrom sklearn.model_selection import train_test_split\\nfrom sklearn.model_selection import cross_val_score'); }\n",
       "    "
      ],
      "text/plain": [
       "<IPython.core.display.Javascript object>"
      ]
     },
     "metadata": {},
     "output_type": "display_data"
    },
    {
     "data": {
      "application/javascript": [
       "\n",
       "        if (window._pyforest_update_imports_cell) { window._pyforest_update_imports_cell('from sklearn.model_selection import StratifiedKFold\\nfrom sklearn.preprocessing import StandardScaler\\nfrom sklearn.model_selection import train_test_split\\nfrom sklearn.model_selection import cross_val_score'); }\n",
       "    "
      ],
      "text/plain": [
       "<IPython.core.display.Javascript object>"
      ]
     },
     "metadata": {},
     "output_type": "display_data"
    },
    {
     "data": {
      "application/javascript": [
       "\n",
       "        if (window._pyforest_update_imports_cell) { window._pyforest_update_imports_cell('from sklearn.model_selection import StratifiedKFold\\nfrom sklearn.preprocessing import StandardScaler\\nfrom sklearn.model_selection import train_test_split\\nfrom sklearn.model_selection import cross_val_score'); }\n",
       "    "
      ],
      "text/plain": [
       "<IPython.core.display.Javascript object>"
      ]
     },
     "metadata": {},
     "output_type": "display_data"
    },
    {
     "name": "stdout",
     "output_type": "stream",
     "text": [
      "================================================================================\n",
      "Model:  GradientBoostingClassifier()  -  Train  Clasification Report\n",
      "================================================================================\n",
      "              precision    recall  f1-score   support\n",
      "\n",
      "         1.0       0.97      0.94      0.95       346\n",
      "         2.0       0.98      0.85      0.91       377\n",
      "        99.0       0.94      0.98      0.96      1158\n",
      "\n",
      "    accuracy                           0.95      1881\n",
      "   macro avg       0.96      0.93      0.94      1881\n",
      "weighted avg       0.95      0.95      0.95      1881\n",
      "\n",
      "================================================================================\n",
      "Model:  GradientBoostingClassifier()  -  Val  Clasification Report\n",
      "================================================================================\n",
      "              precision    recall  f1-score   support\n",
      "\n",
      "         1.0       0.87      0.81      0.84        48\n",
      "         2.0       0.78      0.68      0.73        53\n",
      "        99.0       0.85      0.90      0.87       161\n",
      "\n",
      "    accuracy                           0.84       262\n",
      "   macro avg       0.83      0.80      0.81       262\n",
      "weighted avg       0.84      0.84      0.84       262\n",
      "\n",
      "================================================================================\n",
      "Model:  GradientBoostingClassifier()  -  Test  Clasification Report\n",
      "================================================================================\n",
      "              precision    recall  f1-score   support\n",
      "\n",
      "         1.0       0.81      0.77      0.79        87\n",
      "         2.0       0.74      0.54      0.63        94\n",
      "        99.0       0.81      0.89      0.84       290\n",
      "\n",
      "    accuracy                           0.80       471\n",
      "   macro avg       0.78      0.73      0.75       471\n",
      "weighted avg       0.79      0.80      0.79       471\n",
      "\n",
      "CV Train - F1 Score Macro mean: 0.694 -  CV F1 Score Macro min: 0.669 CV F1 Score Macro max: 0.724\n",
      "CV Val - F1 Score Macro mean: 0.705 -  CV F1 Score Macro min: 0.662 CV F1 Score Macro max: 0.748\n",
      "CV Test - F1 Score Macro mean: 0.723 -  CV F1 Score Macro min: 0.643 CV F1 Score Macro max: 0.801\n"
     ]
    },
    {
     "data": {
      "application/javascript": [
       "\n",
       "        if (window._pyforest_update_imports_cell) { window._pyforest_update_imports_cell('from sklearn.model_selection import StratifiedKFold\\nfrom sklearn.preprocessing import StandardScaler\\nfrom sklearn.model_selection import train_test_split\\nfrom sklearn.model_selection import cross_val_score'); }\n",
       "    "
      ],
      "text/plain": [
       "<IPython.core.display.Javascript object>"
      ]
     },
     "metadata": {},
     "output_type": "display_data"
    },
    {
     "name": "stdout",
     "output_type": "stream",
     "text": [
      "\n",
      "Random Forest\n",
      "==========================================\n"
     ]
    },
    {
     "data": {
      "application/javascript": [
       "\n",
       "        if (window._pyforest_update_imports_cell) { window._pyforest_update_imports_cell('from sklearn.model_selection import StratifiedKFold\\nfrom sklearn.preprocessing import StandardScaler\\nfrom sklearn.model_selection import train_test_split\\nfrom sklearn.model_selection import cross_val_score'); }\n",
       "    "
      ],
      "text/plain": [
       "<IPython.core.display.Javascript object>"
      ]
     },
     "metadata": {},
     "output_type": "display_data"
    },
    {
     "data": {
      "application/javascript": [
       "\n",
       "        if (window._pyforest_update_imports_cell) { window._pyforest_update_imports_cell('from sklearn.model_selection import StratifiedKFold\\nfrom sklearn.preprocessing import StandardScaler\\nfrom sklearn.model_selection import train_test_split\\nfrom sklearn.model_selection import cross_val_score'); }\n",
       "    "
      ],
      "text/plain": [
       "<IPython.core.display.Javascript object>"
      ]
     },
     "metadata": {},
     "output_type": "display_data"
    },
    {
     "data": {
      "application/javascript": [
       "\n",
       "        if (window._pyforest_update_imports_cell) { window._pyforest_update_imports_cell('from sklearn.model_selection import StratifiedKFold\\nfrom sklearn.preprocessing import StandardScaler\\nfrom sklearn.model_selection import train_test_split\\nfrom sklearn.model_selection import cross_val_score'); }\n",
       "    "
      ],
      "text/plain": [
       "<IPython.core.display.Javascript object>"
      ]
     },
     "metadata": {},
     "output_type": "display_data"
    },
    {
     "name": "stdout",
     "output_type": "stream",
     "text": [
      "================================================================================\n",
      "Model:  RandomForestClassifier()  -  Train  Clasification Report\n",
      "================================================================================\n",
      "              precision    recall  f1-score   support\n",
      "\n",
      "         1.0       1.00      1.00      1.00       346\n",
      "         2.0       1.00      1.00      1.00       377\n",
      "        99.0       1.00      1.00      1.00      1158\n",
      "\n",
      "    accuracy                           1.00      1881\n",
      "   macro avg       1.00      1.00      1.00      1881\n",
      "weighted avg       1.00      1.00      1.00      1881\n",
      "\n",
      "================================================================================\n",
      "Model:  RandomForestClassifier()  -  Val  Clasification Report\n",
      "================================================================================\n",
      "              precision    recall  f1-score   support\n",
      "\n",
      "         1.0       0.87      0.71      0.78        48\n",
      "         2.0       0.70      0.49      0.58        53\n",
      "        99.0       0.78      0.90      0.84       161\n",
      "\n",
      "    accuracy                           0.78       262\n",
      "   macro avg       0.78      0.70      0.73       262\n",
      "weighted avg       0.78      0.78      0.77       262\n",
      "\n",
      "================================================================================\n",
      "Model:  RandomForestClassifier()  -  Test  Clasification Report\n",
      "================================================================================\n",
      "              precision    recall  f1-score   support\n",
      "\n",
      "         1.0       0.83      0.67      0.74        87\n",
      "         2.0       0.85      0.43      0.57        94\n",
      "        99.0       0.77      0.93      0.84       290\n",
      "\n",
      "    accuracy                           0.78       471\n",
      "   macro avg       0.82      0.68      0.72       471\n",
      "weighted avg       0.79      0.78      0.77       471\n",
      "\n",
      "CV Train - F1 Score Macro mean: 0.687 -  CV F1 Score Macro min: 0.648 CV F1 Score Macro max: 0.729\n",
      "CV Val - F1 Score Macro mean: 0.624 -  CV F1 Score Macro min: 0.505 CV F1 Score Macro max: 0.684\n",
      "CV Test - F1 Score Macro mean: 0.669 -  CV F1 Score Macro min: 0.599 CV F1 Score Macro max: 0.734\n"
     ]
    }
   ],
   "source": [
    "print('==========================================')\n",
    "print('Baselines Models')\n",
    "print('==========================================')\n",
    "results = {\n",
    "    'transformer0_train': [],\n",
    "    'transformer0_val': [],\n",
    "    'transformer0_test': [],\n",
    "}\n",
    "\n",
    "models = []\n",
    "names = []\n",
    "\n",
    "\n",
    "models.append(('Dummy Classifier', DummyClassifier(strategy='stratified')))\n",
    "models.append(('Decission Tree', DecisionTreeClassifier()))\n",
    "models.append(('XGBoost', XGBClassifier(eval_metric='mlogloss')))\n",
    "models.append(('LightGBM', LGBMClassifier())) \n",
    "models.append(('Support Vector', SVC()))\n",
    "models.append(('KNeighbors', KNeighborsClassifier())) \n",
    "models.append(('Gradient Boosting', GradientBoostingClassifier()))\n",
    "models.append(('Random Forest', RandomForestClassifier()))\n",
    "\n",
    "for name, model in models:\n",
    "    cv = StratifiedKFold(n_splits=5)\n",
    "    \n",
    "    print('')\n",
    "    print(f'{name}')\n",
    "    print('==========================================')\n",
    "    \n",
    "    cv_results_t0_train = cross_val_score(model, X_train, y_train, cv=cv, scoring='f1_macro')\n",
    "    cv_results_t0_val = cross_val_score(model, X_val, y_val, cv=cv, scoring='f1_macro')\n",
    "    cv_results_t0_test = cross_val_score(model, X_test, y_test, cv=cv, scoring='f1_macro')\n",
    "    \n",
    "    model_clf, clf_report_train, clf_report_val, clf_report_test = experiment2(model, X_train, X_val, X_test)\n",
    "    print_clf_reports(model_clf, clf_report_train, clf_report_val, clf_report_test)\n",
    "    \n",
    "    results['transformer0_train'].append(cv_results_t0_train)\n",
    "    results['transformer0_val'].append(cv_results_t0_val)\n",
    "    results['transformer0_test'].append(cv_results_t0_test)\n",
    "\n",
    "    names.append(name)\n",
    "\n",
    "    print('CV Train - F1 Score Macro mean: %.3f - ' % cv_results_t0_train.mean(), \\\n",
    "          'CV F1 Score Macro min: %.3f' % cv_results_t0_train.min(), \\\n",
    "          'CV F1 Score Macro max: %.3f' % cv_results_t0_train.max())\n",
    "    \n",
    "    print('CV Val - F1 Score Macro mean: %.3f - ' % cv_results_t0_val.mean(), \\\n",
    "          'CV F1 Score Macro min: %.3f' % cv_results_t0_val.min(), \\\n",
    "          'CV F1 Score Macro max: %.3f' % cv_results_t0_val.max())\n",
    "    \n",
    "    print('CV Test - F1 Score Macro mean: %.3f - ' % cv_results_t0_test.mean(), \\\n",
    "          'CV F1 Score Macro min: %.3f' % cv_results_t0_test.min(), \\\n",
    "          'CV F1 Score Macro max: %.3f' % cv_results_t0_test.max())"
   ]
  },
  {
   "cell_type": "code",
   "execution_count": 32,
   "metadata": {},
   "outputs": [
    {
     "data": {
      "image/png": "[encoded data removed]",
      "text/plain": [
       "<Figure size 864x720 with 1 Axes>"
      ]
     },
     "metadata": {
      "needs_background": "light"
     },
     "output_type": "display_data"
    },
    {
     "data": {
      "image/png": "[encoded data removed]",
      "text/plain": [
       "<Figure size 864x720 with 1 Axes>"
      ]
     },
     "metadata": {
      "needs_background": "light"
     },
     "output_type": "display_data"
    },
    {
     "data": {
      "image/png": "[encoded data removed]",
      "text/plain": [
       "<Figure size 864x720 with 1 Axes>"
      ]
     },
     "metadata": {
      "needs_background": "light"
     },
     "output_type": "display_data"
    },
    {
     "name": "stdout",
     "output_type": "stream",
     "text": [
      "\n"
     ]
    }
   ],
   "source": [
    "\n",
    "results_set = ['train', 'val', 'test']\n",
    "\n",
    "for i in results_set:\n",
    "    plt.figure(figsize=(12, 10))\n",
    "    plt.boxplot(results[f'transformer0_{i}'], labels=names)\n",
    "    plt.title(f\"Distribución de CV {i} - F1 Macro Score obtenidos por modelo \\n\")\n",
    "    plt.xticks(rotation=45)\n",
    "    plt.ylim(0.2, 1)\n",
    "    plt.show() \n",
    "print('')"
   ]
  },
  {
   "cell_type": "markdown",
   "metadata": {},
   "source": [
    "**Ampliamos en los modelos que mejores resultados han dado.**"
   ]
  },
  {
   "cell_type": "code",
   "execution_count": 33,
   "metadata": {},
   "outputs": [
    {
     "data": {
      "image/png": "[encoded data removed]",
      "text/plain": [
       "<Figure size 864x720 with 1 Axes>"
      ]
     },
     "metadata": {
      "needs_background": "light"
     },
     "output_type": "display_data"
    },
    {
     "data": {
      "image/png": "[encoded data removed]",
      "text/plain": [
       "<Figure size 864x720 with 1 Axes>"
      ]
     },
     "metadata": {
      "needs_background": "light"
     },
     "output_type": "display_data"
    },
    {
     "data": {
      "image/png": "[encoded data removed]",
      "text/plain": [
       "<Figure size 864x720 with 1 Axes>"
      ]
     },
     "metadata": {
      "needs_background": "light"
     },
     "output_type": "display_data"
    },
    {
     "name": "stdout",
     "output_type": "stream",
     "text": [
      "\n"
     ]
    }
   ],
   "source": [
    "for i in results_set:\n",
    "    plt.figure(figsize=(12, 10))\n",
    "    plt.boxplot(results[f'transformer0_{i}'], labels=names)\n",
    "    plt.title(f\"Distribución de CV {i} - F1 Macro Score obtenidos por modelo \\n\")\n",
    "    plt.xticks(rotation=45)\n",
    "    plt.ylim(0.45, 0.80)\n",
    "    plt.show() \n",
    "print('')"
   ]
  },
  {
   "cell_type": "code",
   "execution_count": 34,
   "metadata": {},
   "outputs": [],
   "source": [
    "# Training Learning Curve\n",
    "# Interpretation: \n",
    "# https://towardsdatascience.com/plotting-the-learning-curve-with-a-single-line-of-code-90a5bbb0f48a\n",
    "#for name, model in models:\n",
    "#    title = name\n",
    "#    estimator=model\n",
    "    \n",
    "#    plot_learning_curve(estimator, title, X_train, y_train, ylim=(0.5, 1.01),\n",
    "#                    cv=cv, n_jobs=4)"
   ]
  },
  {
   "cell_type": "markdown",
   "metadata": {},
   "source": [
    "### B) Búsqueda a grandes rasgos:\n",
    "\n",
    "**a)** Utilicen la mayor cantidad de algoritmos de aprendizaje automático supervisado que puedan (mínimo 3). Creen para cada uno un modelo bajo el paradigma de dicho método y entrénelo con el dataset elegido. Opcional:\n",
    "generar curvas de progreso de métricas y funciones de pérdida a lo largo del entrenamiento.\n",
    "\n",
    "**b)** No hace falta que la búsqueda de hiperparámetros extremadamente detallada, ya que esto se llevará a cabo en el inciso C), sino más bien una exploración general de las tendencias de cada modelo.\n",
    "\n",
    "**c)** Si encuentra resultados de las métricas analizadas o gráficos de entrenamiento ploteados que resulten destacables -no sólo porque sean valores más óptimos, sino también posibles casos extraños, situaciones de\n",
    "over y underfitting, etc- muéstrelos y analícelos en este inciso."
   ]
  },
  {
   "cell_type": "code",
   "execution_count": 35,
   "metadata": {},
   "outputs": [],
   "source": [
    "# Probar para los 4 mejores modelos correrlos con otros parámetros y plotear sus loss plots\n",
    "# XGBoost: 'mlogloss plot' y 'merror plot'"
   ]
  },
  {
   "cell_type": "markdown",
   "metadata": {},
   "source": [
    "¿Qué significa conceptualmente la pérdida logarítmica (logloss)?\n",
    "\n",
    "La pérdida logarítmica indica lo cerca que está la probabilidad de predicción del valor real/verdadero correspondiente (1, 2, 99, en éste caso de clasificación multiclase). Cuanto más se aleje la probabilidad predicha del valor real, mayor será el valor de la pérdida logarítmica."
   ]
  },
  {
   "cell_type": "markdown",
   "metadata": {},
   "source": [
    "**Entrenaremos los modelos baselines que mejores resultados han dado cambiando los parámetros por defecto:**\n",
    "\n",
    "- XGBoost\n",
    "- LGBM\n",
    "- RandomForest\n",
    "- Gradient Boosting"
   ]
  },
  {
   "cell_type": "markdown",
   "metadata": {},
   "source": [
    "#### XGBoost"
   ]
  },
  {
   "cell_type": "code",
   "execution_count": 36,
   "metadata": {},
   "outputs": [
    {
     "name": "stdout",
     "output_type": "stream",
     "text": [
      "================================================================================\n",
      "Model:  XGBClassifier  -  Train  Clasification Report\n",
      "================================================================================\n",
      "              precision    recall  f1-score   support\n",
      "\n",
      "         1.0       0.99      0.98      0.98       346\n",
      "         2.0       0.98      0.91      0.94       377\n",
      "        99.0       0.96      0.99      0.98      1158\n",
      "\n",
      "    accuracy                           0.97      1881\n",
      "   macro avg       0.98      0.96      0.97      1881\n",
      "weighted avg       0.97      0.97      0.97      1881\n",
      "\n",
      "================================================================================\n",
      "Model:  XGBClassifier  -  Val  Clasification Report\n",
      "================================================================================\n",
      "              precision    recall  f1-score   support\n",
      "\n",
      "         1.0       0.85      0.83      0.84        48\n",
      "         2.0       0.71      0.64      0.67        53\n",
      "        99.0       0.84      0.88      0.86       161\n",
      "\n",
      "    accuracy                           0.82       262\n",
      "   macro avg       0.80      0.78      0.79       262\n",
      "weighted avg       0.82      0.82      0.82       262\n",
      "\n",
      "================================================================================\n",
      "Model:  XGBClassifier  -  Test  Clasification Report\n",
      "================================================================================\n",
      "              precision    recall  f1-score   support\n",
      "\n",
      "         1.0       0.81      0.79      0.80        87\n",
      "         2.0       0.76      0.51      0.61        94\n",
      "        99.0       0.80      0.90      0.85       290\n",
      "\n",
      "    accuracy                           0.80       471\n",
      "   macro avg       0.79      0.73      0.75       471\n",
      "weighted avg       0.80      0.80      0.79       471\n",
      "\n"
     ]
    }
   ],
   "source": [
    "params = {\n",
    "    'alpha': 0.1,\n",
    "    'colsample_bytree': 0.5,\n",
    "    'gamma': 0.2,\n",
    "    'learning_rate': 0.2,\n",
    "    'max_depth': 3,\n",
    "    'min_child_weight': 1,\n",
    "    'subsample': 1.0\n",
    "}\n",
    "\n",
    "eval_set = [(X_train, y_train), (X_val, y_val), (X_test, y_test)]\n",
    "eval_metric = [\"merror\",\"mlogloss\"]\n",
    "fit_params = {\n",
    "    'eval_set': eval_set, \n",
    "    'eval_metric' : eval_metric, \n",
    "    'verbose': False\n",
    "}\n",
    "\n",
    "model_clf = XGBClassifier(**params)\n",
    "model_clf, clf_report_train, clf_report_val, clf_report_test = experiment3(model_clf, X_train, X_val, X_test, fit_params)\n",
    "\n",
    "#model_clf.fit(X_train, y_train, eval_set=eval_set, eval_metric=eval_metric, verbose=False)\n",
    "results = model_clf.evals_result()\n",
    "# validation_0 (Train) \n",
    "# validation_1 (Val)\n",
    "# validation_2 (Test)\n",
    "\n",
    "print_clf_reports(\"XGBClassifier\", clf_report_train, clf_report_val, clf_report_test)"
   ]
  },
  {
   "cell_type": "markdown",
   "metadata": {},
   "source": [
    "**Funciones de pérdida**"
   ]
  },
  {
   "cell_type": "code",
   "execution_count": 37,
   "metadata": {},
   "outputs": [
    {
     "data": {
      "image/png": "[encoded data removed]",
      "text/plain": [
       "<Figure size 432x288 with 1 Axes>"
      ]
     },
     "metadata": {
      "needs_background": "light"
     },
     "output_type": "display_data"
    }
   ],
   "source": [
    "# XGBoost MERROR\n",
    "\n",
    "epochs = len(results['validation_0']['merror'])\n",
    "x_axis = range(0, epochs)\n",
    "\n",
    "fig, ax = plt.subplots()\n",
    "ax.plot(x_axis, results['validation_0']['merror'], label='Train')\n",
    "ax.plot(x_axis, results['validation_1']['merror'], label='Val')\n",
    "ax.plot(x_axis, results['validation_2']['merror'], label='Test')\n",
    "ax.legend()\n",
    "plt.ylabel('merror')\n",
    "plt.title('XGBoost merror')\n",
    "plt.show()"
   ]
  },
  {
   "cell_type": "code",
   "execution_count": 38,
   "metadata": {},
   "outputs": [
    {
     "data": {
      "image/png": "[encoded data removed]",
      "text/plain": [
       "<Figure size 432x288 with 1 Axes>"
      ]
     },
     "metadata": {
      "needs_background": "light"
     },
     "output_type": "display_data"
    }
   ],
   "source": [
    "# XGBoost MLOGLOSS\n",
    "\n",
    "fig, ax = plt.subplots()\n",
    "ax.plot(x_axis, results['validation_0']['mlogloss'], label='Train')\n",
    "ax.plot(x_axis, results['validation_1']['mlogloss'], label='Val')\n",
    "ax.plot(x_axis, results['validation_2']['mlogloss'], label='Test')\n",
    "ax.legend()\n",
    "plt.ylabel('mlogloss')\n",
    "plt.title('XGBoost mlogloss')\n",
    "plt.show()"
   ]
  },
  {
   "cell_type": "markdown",
   "metadata": {},
   "source": [
    "**[TODO]** Ver cómo se interpretan las curvas de 'merror' y 'mlogloss'.\n",
    "\n",
    "Ver: https://machinelearningmastery.com/avoid-overfitting-by-early-stopping-with-xgboost-in-python/"
   ]
  },
  {
   "cell_type": "markdown",
   "metadata": {},
   "source": [
    "#### LGBM"
   ]
  },
  {
   "cell_type": "code",
   "execution_count": 39,
   "metadata": {},
   "outputs": [
    {
     "name": "stdout",
     "output_type": "stream",
     "text": [
      "================================================================================\n",
      "Model:  LGBMClassifier  -  Train  Clasification Report\n",
      "================================================================================\n",
      "              precision    recall  f1-score   support\n",
      "\n",
      "         1.0       0.95      0.81      0.87       346\n",
      "         2.0       0.98      0.63      0.77       377\n",
      "        99.0       0.85      0.98      0.91      1158\n",
      "\n",
      "    accuracy                           0.88      1881\n",
      "   macro avg       0.93      0.81      0.85      1881\n",
      "weighted avg       0.89      0.88      0.88      1881\n",
      "\n",
      "================================================================================\n",
      "Model:  LGBMClassifier  -  Val  Clasification Report\n",
      "================================================================================\n",
      "              precision    recall  f1-score   support\n",
      "\n",
      "         1.0       0.83      0.71      0.76        48\n",
      "         2.0       0.77      0.45      0.57        53\n",
      "        99.0       0.77      0.91      0.84       161\n",
      "\n",
      "    accuracy                           0.78       262\n",
      "   macro avg       0.79      0.69      0.72       262\n",
      "weighted avg       0.78      0.78      0.77       262\n",
      "\n",
      "================================================================================\n",
      "Model:  LGBMClassifier  -  Test  Clasification Report\n",
      "================================================================================\n",
      "              precision    recall  f1-score   support\n",
      "\n",
      "         1.0       0.86      0.66      0.75        87\n",
      "         2.0       0.85      0.37      0.52        94\n",
      "        99.0       0.76      0.95      0.84       290\n",
      "\n",
      "    accuracy                           0.78       471\n",
      "   macro avg       0.82      0.66      0.70       471\n",
      "weighted avg       0.80      0.78      0.76       471\n",
      "\n"
     ]
    }
   ],
   "source": [
    "import lightgbm as lgb\n",
    "\n",
    "params = {\n",
    "    'is_unbalance': True,\n",
    "    'learning_rate': 0.01,\n",
    "    'objective': 'multiclass'\n",
    "}\n",
    "\n",
    "eval_set = [(X_train, y_train), (X_val, y_val), (X_test, y_test)]\n",
    "eval_names = ['Train', 'Val', 'Test']\n",
    "eval_metric = [\"multi_logloss\"] # Only one metric supported because different metrics have various scales.\n",
    "fit_params = {\n",
    "    'eval_set': eval_set, \n",
    "    'eval_metric' : eval_metric,\n",
    "    'eval_names': eval_names,\n",
    "    'verbose': False\n",
    "}\n",
    "\n",
    "model_clf = LGBMClassifier(**params)\n",
    "model_clf, clf_report_train, clf_report_val, clf_report_test = experiment3(model_clf, X_train, X_val, X_test, fit_params)\n",
    "\n",
    "#model_clf.fit(X_train, y_train, eval_set=eval_set, eval_metric=eval_metric, verbose=False)\n",
    "#results = model_clf.evals_result()\n",
    "# validation_0 (Train) \n",
    "# validation_1 (Val)\n",
    "# validation_2 (Test)\n",
    "\n",
    "print_clf_reports(\"LGBMClassifier\", clf_report_train, clf_report_val, clf_report_test)"
   ]
  },
  {
   "cell_type": "code",
   "execution_count": 40,
   "metadata": {},
   "outputs": [
    {
     "data": {
      "image/png": "[encoded data removed]",
      "text/plain": [
       "<Figure size 432x288 with 1 Axes>"
      ]
     },
     "metadata": {
      "needs_background": "light"
     },
     "output_type": "display_data"
    }
   ],
   "source": [
    "lgb.plot_metric(model_clf) \n",
    "# Only one metric supported because different metrics have various scales.\n",
    "plt.title('LGBM multi_logloss')\n",
    "plt.show()"
   ]
  },
  {
   "cell_type": "markdown",
   "metadata": {},
   "source": [
    "#### Gradient Boosting\n",
    "\n",
    "Para las funciones de pérdida ver: https://scikit-learn.org/stable/modules/ensemble.html#loss-functions"
   ]
  },
  {
   "cell_type": "code",
   "execution_count": 41,
   "metadata": {},
   "outputs": [
    {
     "name": "stdout",
     "output_type": "stream",
     "text": [
      "================================================================================\n",
      "Model:  GradientBoostingClassifier  -  Train  Clasification Report\n",
      "================================================================================\n",
      "              precision    recall  f1-score   support\n",
      "\n",
      "         1.0       1.00      1.00      1.00       346\n",
      "         2.0       1.00      1.00      1.00       377\n",
      "        99.0       1.00      1.00      1.00      1158\n",
      "\n",
      "    accuracy                           1.00      1881\n",
      "   macro avg       1.00      1.00      1.00      1881\n",
      "weighted avg       1.00      1.00      1.00      1881\n",
      "\n",
      "================================================================================\n",
      "Model:  GradientBoostingClassifier  -  Val  Clasification Report\n",
      "================================================================================\n",
      "              precision    recall  f1-score   support\n",
      "\n",
      "         1.0       0.81      0.81      0.81        48\n",
      "         2.0       0.70      0.60      0.65        53\n",
      "        99.0       0.83      0.86      0.84       161\n",
      "\n",
      "    accuracy                           0.80       262\n",
      "   macro avg       0.78      0.76      0.77       262\n",
      "weighted avg       0.80      0.80      0.80       262\n",
      "\n",
      "================================================================================\n",
      "Model:  GradientBoostingClassifier  -  Test  Clasification Report\n",
      "================================================================================\n",
      "              precision    recall  f1-score   support\n",
      "\n",
      "         1.0       0.79      0.75      0.77        87\n",
      "         2.0       0.69      0.53      0.60        94\n",
      "        99.0       0.79      0.87      0.83       290\n",
      "\n",
      "    accuracy                           0.78       471\n",
      "   macro avg       0.76      0.72      0.73       471\n",
      "weighted avg       0.77      0.78      0.77       471\n",
      "\n"
     ]
    }
   ],
   "source": [
    "params = {\n",
    "    'n_estimators': 100,\n",
    "    'learning_rate': 0.5,\n",
    "    'max_features' : 'sqrt'  \n",
    "}\n",
    "\n",
    "#eval_set = [(X_train, y_train), (X_val, y_val), (X_test, y_test)]\n",
    "#eval_names = ['Train', 'Val', 'Test']\n",
    "#eval_metric = [\"multi_logloss\"] # loss: 'deviance', 'exponential'\n",
    "#fit_params = {\n",
    "#    'eval_set': eval_set, \n",
    "#    'eval_metric' : eval_metric,\n",
    "#    'eval_names': eval_names,\n",
    "#    'verbose': False\n",
    "#}\n",
    "\n",
    "model_clf = GradientBoostingClassifier(**params)\n",
    "model_clf, clf_report_train, clf_report_val, clf_report_test = experiment2(model_clf, X_train, X_val, X_test)\n",
    "\n",
    "#model_clf.fit(X_train, y_train, eval_set=eval_set, eval_metric=eval_metric, verbose=False)\n",
    "#results = model_clf.evals_result()\n",
    "# validation_0 (Train) \n",
    "# validation_1 (Val)\n",
    "# validation_2 (Test)\n",
    "\n",
    "print_clf_reports(\"GradientBoostingClassifier\", clf_report_train, clf_report_val, clf_report_test)"
   ]
  },
  {
   "cell_type": "markdown",
   "metadata": {},
   "source": [
    "#### Random Forest"
   ]
  },
  {
   "cell_type": "code",
   "execution_count": 42,
   "metadata": {},
   "outputs": [
    {
     "name": "stdout",
     "output_type": "stream",
     "text": [
      "================================================================================\n",
      "Model:  RandomForestClassifier  -  Train  Clasification Report\n",
      "================================================================================\n",
      "              precision    recall  f1-score   support\n",
      "\n",
      "         1.0       1.00      0.99      1.00       346\n",
      "         2.0       1.00      0.99      1.00       377\n",
      "        99.0       1.00      1.00      1.00      1158\n",
      "\n",
      "    accuracy                           1.00      1881\n",
      "   macro avg       1.00      1.00      1.00      1881\n",
      "weighted avg       1.00      1.00      1.00      1881\n",
      "\n",
      "================================================================================\n",
      "Model:  RandomForestClassifier  -  Val  Clasification Report\n",
      "================================================================================\n",
      "              precision    recall  f1-score   support\n",
      "\n",
      "         1.0       0.86      0.79      0.83        48\n",
      "         2.0       0.76      0.47      0.58        53\n",
      "        99.0       0.79      0.91      0.85       161\n",
      "\n",
      "    accuracy                           0.80       262\n",
      "   macro avg       0.81      0.73      0.75       262\n",
      "weighted avg       0.80      0.80      0.79       262\n",
      "\n",
      "================================================================================\n",
      "Model:  RandomForestClassifier  -  Test  Clasification Report\n",
      "================================================================================\n",
      "              precision    recall  f1-score   support\n",
      "\n",
      "         1.0       0.83      0.71      0.77        87\n",
      "         2.0       0.84      0.44      0.57        94\n",
      "        99.0       0.78      0.93      0.84       290\n",
      "\n",
      "    accuracy                           0.79       471\n",
      "   macro avg       0.81      0.69      0.73       471\n",
      "weighted avg       0.80      0.79      0.78       471\n",
      "\n"
     ]
    }
   ],
   "source": [
    "params = {\n",
    "    'n_estimators': 300,\n",
    "    'max_depth'   : 15,\n",
    "    'criterion'   : 'gini',\n",
    "    'max_features': 0.25,\n",
    "    'min_samples_split': 4\n",
    "}\n",
    "\n",
    "#eval_set = [(X_train, y_train), (X_val, y_val), (X_test, y_test)]\n",
    "#eval_names = ['Train', 'Val', 'Test']\n",
    "#eval_metric = [\"multi_logloss\"] \n",
    "#fit_params = {\n",
    "#    'eval_set': eval_set, \n",
    "#    'eval_metric' : eval_metric,\n",
    "#    'eval_names': eval_names,\n",
    "#    'verbose': False\n",
    "#}\n",
    "\n",
    "model_clf = RandomForestClassifier(**params)\n",
    "model_clf, clf_report_train, clf_report_val, clf_report_test = experiment2(model_clf, X_train, X_val, X_test)\n",
    "\n",
    "#model_clf.fit(X_train, y_train, eval_set=eval_set, eval_metric=eval_metric, verbose=False)\n",
    "#results = model_clf.evals_result()\n",
    "# validation_0 (Train) \n",
    "# validation_1 (Val)\n",
    "# validation_2 (Test)\n",
    "\n",
    "print_clf_reports(\"RandomForestClassifier\", clf_report_train, clf_report_val, clf_report_test)"
   ]
  },
  {
   "cell_type": "markdown",
   "metadata": {},
   "source": [
    "### C) Búsqueda puntualizada:\n",
    "\n",
    "**a)** Con el modelo que presente mejores resultados, lleve a cabo una búsqueda ahora sí más detallista, variando los hiperparámetros y funciones de costo. Si estos métodos permiten variar la cantidad de instancias/épocas de\n",
    "entrenamiento, analice lo que sucede cuando varía las duraciones de entrenamiento.\n",
    "\n",
    "**b)** Reporte los resultados obtenidos y seleccione el set completo de configuraciones que mejor resuelven, bajo su criterio, nuestro problema de clasificación."
   ]
  },
  {
   "cell_type": "markdown",
   "metadata": {},
   "source": [
    "**Random Forest con CV**"
   ]
  },
  {
   "cell_type": "code",
   "execution_count": 53,
   "metadata": {},
   "outputs": [
    {
     "data": {
      "application/javascript": [
       "\n",
       "        if (window._pyforest_update_imports_cell) { window._pyforest_update_imports_cell('from sklearn.model_selection import GridSearchCV\\nfrom sklearn.model_selection import cross_val_score\\nfrom sklearn.model_selection import StratifiedKFold\\nfrom sklearn.preprocessing import StandardScaler\\nfrom sklearn.model_selection import train_test_split'); }\n",
       "    "
      ],
      "text/plain": [
       "<IPython.core.display.Javascript object>"
      ]
     },
     "metadata": {},
     "output_type": "display_data"
    },
    {
     "name": "stdout",
     "output_type": "stream",
     "text": [
      "Fitting 3 folds for each of 72 candidates, totalling 216 fits\n"
     ]
    },
    {
     "data": {
      "text/plain": [
       "{'criterion': 'entropy',\n",
       " 'max_depth': None,\n",
       " 'max_features': 9,\n",
       " 'n_estimators': 100}"
      ]
     },
     "execution_count": 53,
     "metadata": {},
     "output_type": "execute_result"
    }
   ],
   "source": [
    "from sklearn.model_selection import RandomizedSearchCV\n",
    "\n",
    "param_grid = {\n",
    "    'n_estimators': [100,150,200],\n",
    "    'max_features': [5, 9,'log2','auto'],\n",
    "    'max_depth'   : [None, 10, 20],\n",
    "    'criterion'   : ['gini', 'entropy']\n",
    "}\n",
    "\n",
    "# Grid Search CV implementation\n",
    "rf = RandomForestClassifier(\n",
    "                oob_score    = True,\n",
    "                n_jobs       = -1,\n",
    "                random_state = 123)\n",
    "#rf_clf = RandomizedSearchCV(rf, param_grid, n_iter=50,scoring='f1', n_jobs=-1, cv=3, verbose = 3)\n",
    "rf_clf = GridSearchCV(rf, param_grid, scoring='f1_macro', n_jobs=-1, cv=3, verbose = 3)\n",
    "\n",
    "rf_clf.fit(X_train, y_train)\n",
    "rf_clf.best_params_"
   ]
  },
  {
   "cell_type": "code",
   "execution_count": null,
   "metadata": {},
   "outputs": [],
   "source": []
  },
  {
   "cell_type": "code",
   "execution_count": 54,
   "metadata": {},
   "outputs": [
    {
     "name": "stdout",
     "output_type": "stream",
     "text": [
      "====================================================================\n",
      "Random Forest Classifier con CV - Reporte de clasificación de train\n",
      "====================================================================\n",
      "              precision    recall  f1-score   support\n",
      "\n",
      "         1.0       1.00      1.00      1.00       346\n",
      "         2.0       1.00      1.00      1.00       377\n",
      "        99.0       1.00      1.00      1.00      1158\n",
      "\n",
      "    accuracy                           1.00      1881\n",
      "   macro avg       1.00      1.00      1.00      1881\n",
      "weighted avg       1.00      1.00      1.00      1881\n",
      "\n",
      "====================================================================\n",
      "Random Forest Classifier con CV - Reporte de clasificación de val\n",
      "====================================================================\n",
      "              precision    recall  f1-score   support\n",
      "\n",
      "         1.0       0.87      0.71      0.78        48\n",
      "         2.0       0.66      0.43      0.52        53\n",
      "        99.0       0.77      0.89      0.83       161\n",
      "\n",
      "    accuracy                           0.77       262\n",
      "   macro avg       0.76      0.68      0.71       262\n",
      "weighted avg       0.76      0.77      0.76       262\n",
      "\n",
      "====================================================================\n",
      "Random Forest Classifier con CV - Reporte de clasificación de val\n",
      "====================================================================\n",
      "              precision    recall  f1-score   support\n",
      "\n",
      "         1.0       0.83      0.72      0.77        87\n",
      "         2.0       0.81      0.41      0.55        94\n",
      "        99.0       0.77      0.92      0.84       290\n",
      "\n",
      "    accuracy                           0.79       471\n",
      "   macro avg       0.80      0.69      0.72       471\n",
      "weighted avg       0.79      0.79      0.77       471\n",
      "\n"
     ]
    }
   ],
   "source": [
    "print(\"====================================================================\")\n",
    "print(\"Random Forest Classifier con CV - Reporte de clasificación de train\")\n",
    "print(\"====================================================================\")\n",
    "print(classification_report(y_train, rf_clf.predict(X_train)))\n",
    "\n",
    "print(\"====================================================================\")\n",
    "print(\"Random Forest Classifier con CV - Reporte de clasificación de val\")\n",
    "print(\"====================================================================\")\n",
    "print(classification_report(y_val, rf_clf.predict(X_val)))\n",
    "\n",
    "print(\"====================================================================\")\n",
    "print(\"Random Forest Classifier con CV - Reporte de clasificación de val\")\n",
    "print(\"====================================================================\")\n",
    "print(classification_report(y_test, rf_clf.predict(X_test)))"
   ]
  },
  {
   "cell_type": "markdown",
   "metadata": {},
   "source": [
    "**Gradient Boosting con CV**"
   ]
  },
  {
   "cell_type": "code",
   "execution_count": 76,
   "metadata": {},
   "outputs": [
    {
     "name": "stdout",
     "output_type": "stream",
     "text": [
      "Fitting 3 folds for each of 10 candidates, totalling 30 fits\n"
     ]
    },
    {
     "ename": "KeyboardInterrupt",
     "evalue": "",
     "output_type": "error",
     "traceback": [
      "\u001b[0;31m---------------------------------------------------------------------------\u001b[0m",
      "\u001b[0;31mKeyboardInterrupt\u001b[0m                         Traceback (most recent call last)",
      "\u001b[0;32m<ipython-input-76-e5c82b0748a1>\u001b[0m in \u001b[0;36m<module>\u001b[0;34m\u001b[0m\n\u001b[1;32m     15\u001b[0m \u001b[0mgb_clf\u001b[0m \u001b[0;34m=\u001b[0m \u001b[0mRandomizedSearchCV\u001b[0m\u001b[0;34m(\u001b[0m\u001b[0mgb\u001b[0m\u001b[0;34m,\u001b[0m \u001b[0mparam_grid\u001b[0m\u001b[0;34m,\u001b[0m \u001b[0mn_iter\u001b[0m\u001b[0;34m=\u001b[0m\u001b[0;36m10\u001b[0m\u001b[0;34m,\u001b[0m\u001b[0mscoring\u001b[0m\u001b[0;34m=\u001b[0m\u001b[0;34m'f1_macro'\u001b[0m\u001b[0;34m,\u001b[0m \u001b[0mcv\u001b[0m\u001b[0;34m=\u001b[0m\u001b[0;36m3\u001b[0m\u001b[0;34m,\u001b[0m\u001b[0mn_jobs\u001b[0m\u001b[0;34m=\u001b[0m\u001b[0;34m-\u001b[0m\u001b[0;36m1\u001b[0m\u001b[0;34m,\u001b[0m \u001b[0mverbose\u001b[0m \u001b[0;34m=\u001b[0m \u001b[0;36m3\u001b[0m\u001b[0;34m)\u001b[0m\u001b[0;34m\u001b[0m\u001b[0;34m\u001b[0m\u001b[0m\n\u001b[1;32m     16\u001b[0m \u001b[0;34m\u001b[0m\u001b[0m\n\u001b[0;32m---> 17\u001b[0;31m \u001b[0mgb_clf\u001b[0m\u001b[0;34m.\u001b[0m\u001b[0mfit\u001b[0m\u001b[0;34m(\u001b[0m\u001b[0mX_train\u001b[0m\u001b[0;34m,\u001b[0m \u001b[0my_train\u001b[0m\u001b[0;34m)\u001b[0m\u001b[0;34m\u001b[0m\u001b[0;34m\u001b[0m\u001b[0m\n\u001b[0m\u001b[1;32m     18\u001b[0m \u001b[0mgb_clf\u001b[0m\u001b[0;34m.\u001b[0m\u001b[0mbest_params_\u001b[0m\u001b[0;34m\u001b[0m\u001b[0;34m\u001b[0m\u001b[0m\n",
      "\u001b[0;32m~/anaconda3/lib/python3.8/site-packages/sklearn/model_selection/_search.py\u001b[0m in \u001b[0;36mfit\u001b[0;34m(self, X, y, groups, **fit_params)\u001b[0m\n\u001b[1;32m    889\u001b[0m                 \u001b[0;32mreturn\u001b[0m \u001b[0mresults\u001b[0m\u001b[0;34m\u001b[0m\u001b[0;34m\u001b[0m\u001b[0m\n\u001b[1;32m    890\u001b[0m \u001b[0;34m\u001b[0m\u001b[0m\n\u001b[0;32m--> 891\u001b[0;31m             \u001b[0mself\u001b[0m\u001b[0;34m.\u001b[0m\u001b[0m_run_search\u001b[0m\u001b[0;34m(\u001b[0m\u001b[0mevaluate_candidates\u001b[0m\u001b[0;34m)\u001b[0m\u001b[0;34m\u001b[0m\u001b[0;34m\u001b[0m\u001b[0m\n\u001b[0m\u001b[1;32m    892\u001b[0m \u001b[0;34m\u001b[0m\u001b[0m\n\u001b[1;32m    893\u001b[0m             \u001b[0;31m# multimetric is determined here because in the case of a callable\u001b[0m\u001b[0;34m\u001b[0m\u001b[0;34m\u001b[0m\u001b[0;34m\u001b[0m\u001b[0m\n",
      "\u001b[0;32m~/anaconda3/lib/python3.8/site-packages/sklearn/model_selection/_search.py\u001b[0m in \u001b[0;36m_run_search\u001b[0;34m(self, evaluate_candidates)\u001b[0m\n\u001b[1;32m   1764\u001b[0m     \u001b[0;32mdef\u001b[0m \u001b[0m_run_search\u001b[0m\u001b[0;34m(\u001b[0m\u001b[0mself\u001b[0m\u001b[0;34m,\u001b[0m \u001b[0mevaluate_candidates\u001b[0m\u001b[0;34m)\u001b[0m\u001b[0;34m:\u001b[0m\u001b[0;34m\u001b[0m\u001b[0;34m\u001b[0m\u001b[0m\n\u001b[1;32m   1765\u001b[0m         \u001b[0;34m\"\"\"Search n_iter candidates from param_distributions\"\"\"\u001b[0m\u001b[0;34m\u001b[0m\u001b[0;34m\u001b[0m\u001b[0m\n\u001b[0;32m-> 1766\u001b[0;31m         evaluate_candidates(\n\u001b[0m\u001b[1;32m   1767\u001b[0m             ParameterSampler(\n\u001b[1;32m   1768\u001b[0m                 \u001b[0mself\u001b[0m\u001b[0;34m.\u001b[0m\u001b[0mparam_distributions\u001b[0m\u001b[0;34m,\u001b[0m \u001b[0mself\u001b[0m\u001b[0;34m.\u001b[0m\u001b[0mn_iter\u001b[0m\u001b[0;34m,\u001b[0m \u001b[0mrandom_state\u001b[0m\u001b[0;34m=\u001b[0m\u001b[0mself\u001b[0m\u001b[0;34m.\u001b[0m\u001b[0mrandom_state\u001b[0m\u001b[0;34m\u001b[0m\u001b[0;34m\u001b[0m\u001b[0m\n",
      "\u001b[0;32m~/anaconda3/lib/python3.8/site-packages/sklearn/model_selection/_search.py\u001b[0m in \u001b[0;36mevaluate_candidates\u001b[0;34m(candidate_params, cv, more_results)\u001b[0m\n\u001b[1;32m    836\u001b[0m                     )\n\u001b[1;32m    837\u001b[0m \u001b[0;34m\u001b[0m\u001b[0m\n\u001b[0;32m--> 838\u001b[0;31m                 out = parallel(\n\u001b[0m\u001b[1;32m    839\u001b[0m                     delayed(_fit_and_score)(\n\u001b[1;32m    840\u001b[0m                         \u001b[0mclone\u001b[0m\u001b[0;34m(\u001b[0m\u001b[0mbase_estimator\u001b[0m\u001b[0;34m)\u001b[0m\u001b[0;34m,\u001b[0m\u001b[0;34m\u001b[0m\u001b[0;34m\u001b[0m\u001b[0m\n",
      "\u001b[0;32m~/anaconda3/lib/python3.8/site-packages/joblib/parallel.py\u001b[0m in \u001b[0;36m__call__\u001b[0;34m(self, iterable)\u001b[0m\n\u001b[1;32m   1059\u001b[0m \u001b[0;34m\u001b[0m\u001b[0m\n\u001b[1;32m   1060\u001b[0m             \u001b[0;32mwith\u001b[0m \u001b[0mself\u001b[0m\u001b[0;34m.\u001b[0m\u001b[0m_backend\u001b[0m\u001b[0;34m.\u001b[0m\u001b[0mretrieval_context\u001b[0m\u001b[0;34m(\u001b[0m\u001b[0;34m)\u001b[0m\u001b[0;34m:\u001b[0m\u001b[0;34m\u001b[0m\u001b[0;34m\u001b[0m\u001b[0m\n\u001b[0;32m-> 1061\u001b[0;31m                 \u001b[0mself\u001b[0m\u001b[0;34m.\u001b[0m\u001b[0mretrieve\u001b[0m\u001b[0;34m(\u001b[0m\u001b[0;34m)\u001b[0m\u001b[0;34m\u001b[0m\u001b[0;34m\u001b[0m\u001b[0m\n\u001b[0m\u001b[1;32m   1062\u001b[0m             \u001b[0;31m# Make sure that we get a last message telling us we are done\u001b[0m\u001b[0;34m\u001b[0m\u001b[0;34m\u001b[0m\u001b[0;34m\u001b[0m\u001b[0m\n\u001b[1;32m   1063\u001b[0m             \u001b[0melapsed_time\u001b[0m \u001b[0;34m=\u001b[0m \u001b[0mtime\u001b[0m\u001b[0;34m.\u001b[0m\u001b[0mtime\u001b[0m\u001b[0;34m(\u001b[0m\u001b[0;34m)\u001b[0m \u001b[0;34m-\u001b[0m \u001b[0mself\u001b[0m\u001b[0;34m.\u001b[0m\u001b[0m_start_time\u001b[0m\u001b[0;34m\u001b[0m\u001b[0;34m\u001b[0m\u001b[0m\n",
      "\u001b[0;32m~/anaconda3/lib/python3.8/site-packages/joblib/parallel.py\u001b[0m in \u001b[0;36mretrieve\u001b[0;34m(self)\u001b[0m\n\u001b[1;32m    938\u001b[0m             \u001b[0;32mtry\u001b[0m\u001b[0;34m:\u001b[0m\u001b[0;34m\u001b[0m\u001b[0;34m\u001b[0m\u001b[0m\n\u001b[1;32m    939\u001b[0m                 \u001b[0;32mif\u001b[0m \u001b[0mgetattr\u001b[0m\u001b[0;34m(\u001b[0m\u001b[0mself\u001b[0m\u001b[0;34m.\u001b[0m\u001b[0m_backend\u001b[0m\u001b[0;34m,\u001b[0m \u001b[0;34m'supports_timeout'\u001b[0m\u001b[0;34m,\u001b[0m \u001b[0;32mFalse\u001b[0m\u001b[0;34m)\u001b[0m\u001b[0;34m:\u001b[0m\u001b[0;34m\u001b[0m\u001b[0;34m\u001b[0m\u001b[0m\n\u001b[0;32m--> 940\u001b[0;31m                     \u001b[0mself\u001b[0m\u001b[0;34m.\u001b[0m\u001b[0m_output\u001b[0m\u001b[0;34m.\u001b[0m\u001b[0mextend\u001b[0m\u001b[0;34m(\u001b[0m\u001b[0mjob\u001b[0m\u001b[0;34m.\u001b[0m\u001b[0mget\u001b[0m\u001b[0;34m(\u001b[0m\u001b[0mtimeout\u001b[0m\u001b[0;34m=\u001b[0m\u001b[0mself\u001b[0m\u001b[0;34m.\u001b[0m\u001b[0mtimeout\u001b[0m\u001b[0;34m)\u001b[0m\u001b[0;34m)\u001b[0m\u001b[0;34m\u001b[0m\u001b[0;34m\u001b[0m\u001b[0m\n\u001b[0m\u001b[1;32m    941\u001b[0m                 \u001b[0;32melse\u001b[0m\u001b[0;34m:\u001b[0m\u001b[0;34m\u001b[0m\u001b[0;34m\u001b[0m\u001b[0m\n\u001b[1;32m    942\u001b[0m                     \u001b[0mself\u001b[0m\u001b[0;34m.\u001b[0m\u001b[0m_output\u001b[0m\u001b[0;34m.\u001b[0m\u001b[0mextend\u001b[0m\u001b[0;34m(\u001b[0m\u001b[0mjob\u001b[0m\u001b[0;34m.\u001b[0m\u001b[0mget\u001b[0m\u001b[0;34m(\u001b[0m\u001b[0;34m)\u001b[0m\u001b[0;34m)\u001b[0m\u001b[0;34m\u001b[0m\u001b[0;34m\u001b[0m\u001b[0m\n",
      "\u001b[0;32m~/anaconda3/lib/python3.8/site-packages/joblib/_parallel_backends.py\u001b[0m in \u001b[0;36mwrap_future_result\u001b[0;34m(future, timeout)\u001b[0m\n\u001b[1;32m    540\u001b[0m         AsyncResults.get from multiprocessing.\"\"\"\n\u001b[1;32m    541\u001b[0m         \u001b[0;32mtry\u001b[0m\u001b[0;34m:\u001b[0m\u001b[0;34m\u001b[0m\u001b[0;34m\u001b[0m\u001b[0m\n\u001b[0;32m--> 542\u001b[0;31m             \u001b[0;32mreturn\u001b[0m \u001b[0mfuture\u001b[0m\u001b[0;34m.\u001b[0m\u001b[0mresult\u001b[0m\u001b[0;34m(\u001b[0m\u001b[0mtimeout\u001b[0m\u001b[0;34m=\u001b[0m\u001b[0mtimeout\u001b[0m\u001b[0;34m)\u001b[0m\u001b[0;34m\u001b[0m\u001b[0;34m\u001b[0m\u001b[0m\n\u001b[0m\u001b[1;32m    543\u001b[0m         \u001b[0;32mexcept\u001b[0m \u001b[0mCfTimeoutError\u001b[0m \u001b[0;32mas\u001b[0m \u001b[0me\u001b[0m\u001b[0;34m:\u001b[0m\u001b[0;34m\u001b[0m\u001b[0;34m\u001b[0m\u001b[0m\n\u001b[1;32m    544\u001b[0m             \u001b[0;32mraise\u001b[0m \u001b[0mTimeoutError\u001b[0m \u001b[0;32mfrom\u001b[0m \u001b[0me\u001b[0m\u001b[0;34m\u001b[0m\u001b[0;34m\u001b[0m\u001b[0m\n",
      "\u001b[0;32m~/anaconda3/lib/python3.8/concurrent/futures/_base.py\u001b[0m in \u001b[0;36mresult\u001b[0;34m(self, timeout)\u001b[0m\n\u001b[1;32m    432\u001b[0m                 \u001b[0;32mreturn\u001b[0m \u001b[0mself\u001b[0m\u001b[0;34m.\u001b[0m\u001b[0m__get_result\u001b[0m\u001b[0;34m(\u001b[0m\u001b[0;34m)\u001b[0m\u001b[0;34m\u001b[0m\u001b[0;34m\u001b[0m\u001b[0m\n\u001b[1;32m    433\u001b[0m \u001b[0;34m\u001b[0m\u001b[0m\n\u001b[0;32m--> 434\u001b[0;31m             \u001b[0mself\u001b[0m\u001b[0;34m.\u001b[0m\u001b[0m_condition\u001b[0m\u001b[0;34m.\u001b[0m\u001b[0mwait\u001b[0m\u001b[0;34m(\u001b[0m\u001b[0mtimeout\u001b[0m\u001b[0;34m)\u001b[0m\u001b[0;34m\u001b[0m\u001b[0;34m\u001b[0m\u001b[0m\n\u001b[0m\u001b[1;32m    435\u001b[0m \u001b[0;34m\u001b[0m\u001b[0m\n\u001b[1;32m    436\u001b[0m             \u001b[0;32mif\u001b[0m \u001b[0mself\u001b[0m\u001b[0;34m.\u001b[0m\u001b[0m_state\u001b[0m \u001b[0;32min\u001b[0m \u001b[0;34m[\u001b[0m\u001b[0mCANCELLED\u001b[0m\u001b[0;34m,\u001b[0m \u001b[0mCANCELLED_AND_NOTIFIED\u001b[0m\u001b[0;34m]\u001b[0m\u001b[0;34m:\u001b[0m\u001b[0;34m\u001b[0m\u001b[0;34m\u001b[0m\u001b[0m\n",
      "\u001b[0;32m~/anaconda3/lib/python3.8/threading.py\u001b[0m in \u001b[0;36mwait\u001b[0;34m(self, timeout)\u001b[0m\n\u001b[1;32m    300\u001b[0m         \u001b[0;32mtry\u001b[0m\u001b[0;34m:\u001b[0m    \u001b[0;31m# restore state no matter what (e.g., KeyboardInterrupt)\u001b[0m\u001b[0;34m\u001b[0m\u001b[0;34m\u001b[0m\u001b[0m\n\u001b[1;32m    301\u001b[0m             \u001b[0;32mif\u001b[0m \u001b[0mtimeout\u001b[0m \u001b[0;32mis\u001b[0m \u001b[0;32mNone\u001b[0m\u001b[0;34m:\u001b[0m\u001b[0;34m\u001b[0m\u001b[0;34m\u001b[0m\u001b[0m\n\u001b[0;32m--> 302\u001b[0;31m                 \u001b[0mwaiter\u001b[0m\u001b[0;34m.\u001b[0m\u001b[0macquire\u001b[0m\u001b[0;34m(\u001b[0m\u001b[0;34m)\u001b[0m\u001b[0;34m\u001b[0m\u001b[0;34m\u001b[0m\u001b[0m\n\u001b[0m\u001b[1;32m    303\u001b[0m                 \u001b[0mgotit\u001b[0m \u001b[0;34m=\u001b[0m \u001b[0;32mTrue\u001b[0m\u001b[0;34m\u001b[0m\u001b[0;34m\u001b[0m\u001b[0m\n\u001b[1;32m    304\u001b[0m             \u001b[0;32melse\u001b[0m\u001b[0;34m:\u001b[0m\u001b[0;34m\u001b[0m\u001b[0;34m\u001b[0m\u001b[0m\n",
      "\u001b[0;31mKeyboardInterrupt\u001b[0m: "
     ]
    }
   ],
   "source": [
    "param_grid = {\n",
    "    'n_estimators'  : [50,100,150],\n",
    "    'loss' : ['deviance', 'exponential'],\n",
    "    #'max_features'  :  [5, 9,'sqrt',None,'log2'],\n",
    "    'criterion'   : ['friedman_mse', 'squared_error', 'mse', 'mae'],\n",
    "   # 'max_depth'     : [None,3, 5],\n",
    "    #'subsample'     : [0.5, 1],\n",
    "    #'learning_rate' : [0.001, 0.01, 0.1]\n",
    "}\n",
    "\n",
    "\n",
    "\n",
    "gb = GradientBoostingClassifier()\n",
    "#gb_clf = GridSearchCV(gb, param_grid, scoring='f1_macro', n_jobs=-1, cv=3, verbose = 3)\n",
    "gb_clf = RandomizedSearchCV(gb, param_grid, n_iter=10,scoring='f1_macro', cv=3,n_jobs=-1, verbose = 3)\n",
    "\n",
    "gb_clf.fit(X_train, y_train)\n",
    "gb_clf.best_params_"
   ]
  },
  {
   "cell_type": "code",
   "execution_count": 67,
   "metadata": {},
   "outputs": [
    {
     "name": "stdout",
     "output_type": "stream",
     "text": [
      "====================================================================\n",
      "Gradient Boosting Classifier con CV - Reporte de clasificación de train\n",
      "====================================================================\n",
      "              precision    recall  f1-score   support\n",
      "\n",
      "         1.0       0.93      0.89      0.91       346\n",
      "         2.0       0.95      0.76      0.85       377\n",
      "        99.0       0.90      0.97      0.93      1158\n",
      "\n",
      "    accuracy                           0.91      1881\n",
      "   macro avg       0.93      0.87      0.90      1881\n",
      "weighted avg       0.92      0.91      0.91      1881\n",
      "\n",
      "====================================================================\n",
      "Gradient Boosting Classifier con CV - Reporte de clasificación de val\n",
      "====================================================================\n",
      "              precision    recall  f1-score   support\n",
      "\n",
      "         1.0       0.79      0.79      0.79        48\n",
      "         2.0       0.71      0.51      0.59        53\n",
      "        99.0       0.80      0.88      0.84       161\n",
      "\n",
      "    accuracy                           0.79       262\n",
      "   macro avg       0.77      0.73      0.74       262\n",
      "weighted avg       0.78      0.79      0.78       262\n",
      "\n",
      "====================================================================\n",
      "Gradient Boosting Classifier con CV - Reporte de clasificación de val\n",
      "====================================================================\n",
      "              precision    recall  f1-score   support\n",
      "\n",
      "         1.0       0.81      0.75      0.78        87\n",
      "         2.0       0.80      0.48      0.60        94\n",
      "        99.0       0.79      0.91      0.84       290\n",
      "\n",
      "    accuracy                           0.79       471\n",
      "   macro avg       0.80      0.71      0.74       471\n",
      "weighted avg       0.80      0.79      0.78       471\n",
      "\n"
     ]
    }
   ],
   "source": [
    "print(\"====================================================================\")\n",
    "print(\"Gradient Boosting Classifier con CV - Reporte de clasificación de train\")\n",
    "print(\"====================================================================\")\n",
    "print(classification_report(y_train, gb_clf.predict(X_train)))\n",
    "\n",
    "print(\"====================================================================\")\n",
    "print(\"Gradient Boosting Classifier con CV - Reporte de clasificación de val\")\n",
    "print(\"====================================================================\")\n",
    "print(classification_report(y_val, gb_clf.predict(X_val)))\n",
    "\n",
    "print(\"====================================================================\")\n",
    "print(\"Gradient Boosting Classifier con CV - Reporte de clasificación de val\")\n",
    "print(\"====================================================================\")\n",
    "print(classification_report(y_test, gb_clf.predict(X_test)))"
   ]
  },
  {
   "cell_type": "markdown",
   "metadata": {},
   "source": [
    "**XGBoost con CV**"
   ]
  },
  {
   "cell_type": "code",
   "execution_count": null,
   "metadata": {},
   "outputs": [],
   "source": [
    "# DA ERROR SI NO REEMPLAZO EL 99, PERO EN LAS MÉTRICAS SE SIGUE VIENDO, CORREGIR!!!\n",
    "y_train2 = y_train.astype('int').replace(99, 0)\n",
    "y_train2.unique()"
   ]
  },
  {
   "cell_type": "code",
   "execution_count": null,
   "metadata": {},
   "outputs": [],
   "source": [
    "y_train2.dtype"
   ]
  },
  {
   "cell_type": "code",
   "execution_count": null,
   "metadata": {},
   "outputs": [],
   "source": [
    "param_grid = {\n",
    "    \"learning_rate\"    : [0.10, 0.20, 0.30] ,\n",
    "    \"max_depth\"        : [ 3, 6, 10],\n",
    "    #\"min_child_weight\" : [ 1, 3],\n",
    "    #\"gamma\"            : [ 0.0, 0.1, 0.2 ],\n",
    "    #\"colsample_bytree\" : [ 0.3, 0.5 , 0.7],\n",
    "    #'subsample': [0.6, 0.8, 1.0],\n",
    "    #'alpha': (0.1, 10)\n",
    "}\n",
    "\n",
    "xgb = XGBClassifier(eval_metric='merror', use_label_encoder=False, objective = 'multi:softprob', num_class=3)\n",
    "xgb_clf = GridSearchCV(xgb, param_grid, scoring='f1', n_jobs=-1, cv=3)\n",
    "xgb_clf.fit(X_train, y_train2)\n",
    "xgb_clf.best_params_"
   ]
  },
  {
   "cell_type": "code",
   "execution_count": null,
   "metadata": {},
   "outputs": [],
   "source": [
    "print(\"====================================================================\")\n",
    "print(\"XGboost Classifier con CV - Reporte de clasificación de train\")\n",
    "print(\"====================================================================\")\n",
    "print(classification_report(y_train, xgb_clf.predict(X_train)))\n",
    "\n",
    "print(\"====================================================================\")\n",
    "print(\"XGboost Classifier con CV - Reporte de clasificación de val\")\n",
    "print(\"====================================================================\")\n",
    "print(classification_report(y_val, xgb_clf.predict(X_val)))\n",
    "\n",
    "print(\"====================================================================\")\n",
    "print(\"XGboost Classifier con CV - Reporte de clasificación de val\")\n",
    "print(\"====================================================================\")\n",
    "print(classification_report(y_test, xgb_clf.predict(X_test)))"
   ]
  },
  {
   "cell_type": "code",
   "execution_count": null,
   "metadata": {},
   "outputs": [],
   "source": []
  },
  {
   "cell_type": "markdown",
   "metadata": {},
   "source": [
    "#### LGBM"
   ]
  },
  {
   "cell_type": "code",
   "execution_count": 63,
   "metadata": {},
   "outputs": [
    {
     "data": {
      "application/javascript": [
       "\n",
       "        if (window._pyforest_update_imports_cell) { window._pyforest_update_imports_cell('from sklearn.model_selection import GridSearchCV\\nfrom sklearn.model_selection import cross_val_score\\nfrom sklearn.model_selection import StratifiedKFold\\nfrom sklearn.preprocessing import StandardScaler\\nfrom sklearn.model_selection import train_test_split'); }\n",
       "    "
      ],
      "text/plain": [
       "<IPython.core.display.Javascript object>"
      ]
     },
     "metadata": {},
     "output_type": "display_data"
    },
    {
     "name": "stdout",
     "output_type": "stream",
     "text": [
      "Fitting 3 folds for each of 72 candidates, totalling 216 fits\n"
     ]
    },
    {
     "data": {
      "text/plain": [
       "{'boosting_type': 'goss',\n",
       " 'class_weight': 'balanced',\n",
       " 'max_depth': -1,\n",
       " 'n_estimators': 100}"
      ]
     },
     "execution_count": 63,
     "metadata": {},
     "output_type": "execute_result"
    }
   ],
   "source": [
    "param_grid = {\n",
    "    'boosting_type' : ['gbdt','dart','goss'],\n",
    "    'class_weight': ['balanced',None],\n",
    "    'n_estimators'  : [50,100,150],\n",
    "    'max_depth'     : [-1,3, 5,10],\n",
    "    #'subsample'     : [0.5, 1],\n",
    "    #'learning_rate' : [0.001, 0.01, 0.1]\n",
    "}\n",
    "\n",
    "\n",
    "\n",
    "lgbm = LGBMClassifier()\n",
    "lgbm_clf = GridSearchCV(lgbm, param_grid, scoring='f1_macro', n_jobs=-1, cv=3, verbose = 3)\n",
    "#gb_clf = RandomizedSearchCV(gb, param_grid, n_iter=50,scoring='f1_macro', n_jobs=-1, cv=3, verbose = 3)\n",
    "\n",
    "lgbm_clf.fit(X_train, y_train)\n",
    "lgbm_clf.best_params_"
   ]
  },
  {
   "cell_type": "code",
   "execution_count": 72,
   "metadata": {},
   "outputs": [
    {
     "name": "stdout",
     "output_type": "stream",
     "text": [
      "====================================================================\n",
      "LGBM Classifier con CV - Reporte de clasificación de train\n",
      "====================================================================\n",
      "              precision    recall  f1-score   support\n",
      "\n",
      "         1.0       1.00      1.00      1.00       346\n",
      "         2.0       1.00      1.00      1.00       377\n",
      "        99.0       1.00      1.00      1.00      1158\n",
      "\n",
      "    accuracy                           1.00      1881\n",
      "   macro avg       1.00      1.00      1.00      1881\n",
      "weighted avg       1.00      1.00      1.00      1881\n",
      "\n",
      "====================================================================\n",
      "LGBM Classifier con CV - Reporte de clasificación de val\n",
      "====================================================================\n",
      "              precision    recall  f1-score   support\n",
      "\n",
      "         1.0       0.77      0.85      0.81        48\n",
      "         2.0       0.67      0.72      0.69        53\n",
      "        99.0       0.86      0.81      0.84       161\n",
      "\n",
      "    accuracy                           0.80       262\n",
      "   macro avg       0.77      0.79      0.78       262\n",
      "weighted avg       0.81      0.80      0.80       262\n",
      "\n",
      "====================================================================\n",
      "LGBM Classifier con CV - Reporte de clasificación de val\n",
      "====================================================================\n",
      "              precision    recall  f1-score   support\n",
      "\n",
      "         1.0       0.76      0.80      0.78        87\n",
      "         2.0       0.68      0.60      0.64        94\n",
      "        99.0       0.82      0.84      0.83       290\n",
      "\n",
      "    accuracy                           0.78       471\n",
      "   macro avg       0.75      0.75      0.75       471\n",
      "weighted avg       0.78      0.78      0.78       471\n",
      "\n"
     ]
    }
   ],
   "source": [
    "print(\"====================================================================\")\n",
    "print(\"LGBM Classifier con CV - Reporte de clasificación de train\")\n",
    "print(\"====================================================================\")\n",
    "print(classification_report(y_train, lgbm_clf.predict(X_train)))\n",
    "\n",
    "print(\"====================================================================\")\n",
    "print(\"LGBM Classifier con CV - Reporte de clasificación de val\")\n",
    "print(\"====================================================================\")\n",
    "print(classification_report(y_val, lgbm_clf.predict(X_val)))\n",
    "\n",
    "print(\"====================================================================\")\n",
    "print(\"LGBM Classifier con CV - Reporte de clasificación de val\")\n",
    "print(\"====================================================================\")\n",
    "print(classification_report(y_test, lgbm_clf.predict(X_test)))"
   ]
  },
  {
   "cell_type": "code",
   "execution_count": null,
   "metadata": {},
   "outputs": [],
   "source": []
  }
 ],
 "metadata": {
  "kernelspec": {
   "display_name": "Python 3",
   "language": "python",
   "name": "python3"
  },
  "language_info": {
   "codemirror_mode": {
    "name": "ipython",
    "version": 3
   },
   "file_extension": ".py",
   "mimetype": "text/x-python",
   "name": "python",
   "nbconvert_exporter": "python",
   "pygments_lexer": "ipython3",
   "version": "3.8.5"
  }
 },
 "nbformat": 4,
 "nbformat_minor": 5
}
