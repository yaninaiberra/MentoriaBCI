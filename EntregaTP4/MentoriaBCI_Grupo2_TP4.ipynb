{
 "cells": [
  {
   "cell_type": "raw",
   "id": "a8355690",
   "metadata": {},
   "source": [
    "! pip install tsfel"
   ]
  },
  {
   "cell_type": "code",
   "execution_count": 1,
   "id": "c4759a54",
   "metadata": {},
   "outputs": [],
   "source": [
    "from pathlib import Path\n",
    "import utils\n",
    "from typing import Callable\n",
    "import scipy\n",
    "import scipy.signal as sgn\n",
    "import numpy as np\n",
    "import matplotlib.pyplot as plt\n",
    "import pandas as pd\n",
    "import seaborn as sns\n",
    "\n",
    "from xgboost import XGBClassifier\n",
    "from lightgbm import LGBMClassifier\n",
    "from sklearn.tree import DecisionTreeClassifier\n",
    "from sklearn.ensemble import RandomForestClassifier\n",
    "from sklearn.svm import SVC\n",
    "from sklearn.neighbors import KNeighborsClassifier\n",
    "from sklearn.ensemble import GradientBoostingClassifier\n",
    "\n",
    "from sklearn.metrics import classification_report\n",
    "from sklearn.model_selection import learning_curve\n",
    "import matplotlib.pyplot as plt\n",
    "\n",
    "from tsfel.feature_extraction import features\n",
    "\n",
    "import sys\n",
    "import warnings\n",
    "\n",
    "if not sys.warnoptions:\n",
    "    warnings.simplefilter(\"ignore\")"
   ]
  },
  {
   "cell_type": "code",
   "execution_count": 2,
   "id": "bfc42abb",
   "metadata": {},
   "outputs": [],
   "source": [
    "def filtered_fft_features(signal_matrix):\n",
    "    N = signal_matrix.shape[1]\n",
    "    dt = 1/200\n",
    "    T = N*dt\n",
    "    sf = 200\n",
    "    Q = 30\n",
    "    f_notch = 50\n",
    "    b_notch, a_notch = sgn.iirnotch(w0=f_notch, Q=Q, fs=sf)\n",
    "    sig_notch = sgn.filtfilt(b_notch, a_notch, signal_matrix, axis=1)\n",
    "\n",
    "    #Ahora creamos el filtro pasabanda Butterworth\n",
    "    f_nq = sf/2\n",
    "    f_low = 5\n",
    "    f_high = 40\n",
    "    order = 4\n",
    "    b_band, a_band = sgn.iirfilter(\n",
    "        N=order, Wn=[f_low/f_nq, f_high/f_nq], btype=\"bandpass\", ftype=\"butter\"\n",
    "    )\n",
    "    sig_filt = sgn.filtfilt(b_band, a_band, sig_notch, axis=1)\n",
    "\n",
    "    fft = np.fft.rfft(sig_filt)\n",
    "    Sxx = np.real(((2*dt**2)/T)*fft*fft.conj())\n",
    "    return Sxx\n",
    "\n",
    "\n",
    "def naif_fft_features(signal_matrix):\n",
    "    N = signal_matrix.shape[1]\n",
    "    dt = 1/200\n",
    "    T = N*dt\n",
    "    fft = np.fft.rfft(signal_matrix)\n",
    "    Sxx = np.real(((2*dt**2)/T)*fft*fft.conj())\n",
    "    return Sxx\n",
    "\n",
    "def calc_statistics(s):\n",
    "    maxim = np.max(s, axis = 1)[:, np.newaxis]\n",
    "    minim = np.min(s, axis = 1)[:, np.newaxis]\n",
    "    mean = np.mean(s, axis = 1)[:, np.newaxis]\n",
    "    \n",
    "    mode = scipy.stats.mode(s, axis = 1)[0]\n",
    "    \n",
    "    return np.concatenate([maxim, minim, mean, mode], axis = 1)\n",
    "\n",
    "def generate_df(data,features, chanels): \n",
    "    #le paso la data resultante de la extraccion de features, los nombres de los features en una lista y de \n",
    "    #los canales\n",
    "    features_name=[]\n",
    "    for ch in chanels:\n",
    "        for feature in features:\n",
    "            features_name.append(feature + 'ch ' + str (ch))\n",
    "    return pd.DataFrame(data, columns=features_name)"
   ]
  },
  {
   "cell_type": "code",
   "execution_count": 3,
   "id": "084ff36d",
   "metadata": {},
   "outputs": [],
   "source": [
    "def fft_neighbours(signal):\n",
    "    N = signal.shape[1]\n",
    "    dt = 1/200\n",
    "    T = N*dt\n",
    "    sf = 200\n",
    "    Q = 30\n",
    "    f_notch = 50\n",
    "    b_notch, a_notch = sgn.iirnotch(w0=f_notch, Q=Q, fs=sf)\n",
    "    sig_notch = sgn.filtfilt(b_notch, a_notch, signal, axis=1)\n",
    "\n",
    "    #Ahora creamos el filtro pasabanda Butterworth\n",
    "    f_nq = sf/2\n",
    "    f_low = 5\n",
    "    f_high = 40\n",
    "    order = 4\n",
    "    b_band, a_band = sgn.iirfilter(\n",
    "        N=order, Wn=[f_low/f_nq, f_high/f_nq], btype=\"bandpass\", ftype=\"butter\"\n",
    "    )\n",
    "    sig_filt = sgn.filtfilt(b_band, a_band, sig_notch, axis=1)\n",
    "    \n",
    "    frq = np.fft.rfftfreq(N, dt)\n",
    "    tf = abs(np.fft.rfft(sig_filt, axis = 1))\n",
    "    \n",
    "    #Interest Frequencies:\n",
    "    interest_frq = [12.5, 16.5]\n",
    "    harmonics = True\n",
    "    bandwidth = 1.0\n",
    "    \n",
    "    mask = []\n",
    "    selected_frq = []\n",
    "    \n",
    "    for f in frq:\n",
    "        if any([int_f - bandwidth < f < int_f + bandwidth for int_f in interest_frq]):\n",
    "            mask.append(True)\n",
    "            selected_frq.append(f)\n",
    "        elif harmonics and any([2*int_f - bandwidth < f < 2*int_f + bandwidth for int_f in interest_frq]):\n",
    "            mask.append(True)\n",
    "            selected_frq.append(f)\n",
    "        else:\n",
    "            mask.append(False)\n",
    "        \n",
    "    #print(selected_frq)\n",
    "    \n",
    "    return tf[:, mask]"
   ]
  },
  {
   "cell_type": "code",
   "execution_count": 4,
   "id": "43e8cc2b",
   "metadata": {},
   "outputs": [],
   "source": [
    "def calc_max_filtered(signal_matrix):\n",
    "    N = signal_matrix.shape[1]\n",
    "    dt = 1/200\n",
    "    T = N*dt\n",
    "    sf = 200\n",
    "    Q = 30\n",
    "    f_notch = 50\n",
    "    b_notch, a_notch = sgn.iirnotch(w0=f_notch, Q=Q, fs=sf)\n",
    "    sig_notch = sgn.filtfilt(b_notch, a_notch, signal_matrix, axis=1)\n",
    "\n",
    "    #Ahora creamos el filtro pasabanda Butterworth\n",
    "    f_nq = sf/2\n",
    "    f_low = 9\n",
    "    f_high = 22\n",
    "    order = 4\n",
    "    b_band, a_band = sgn.iirfilter(\n",
    "        N=order, Wn=[f_low/f_nq, f_high/f_nq], btype=\"bandpass\", ftype=\"butter\"\n",
    "    )\n",
    "    sig_filt = sgn.filtfilt(b_band, a_band, sig_notch, axis=1)\n",
    "    \n",
    "    fft = np.fft.rfft(sig_filt)\n",
    "    Sxx = np.real(((2*dt**2)/T)*fft*fft.conj())\n",
    "    freqs = np.fft.rfftfreq(n=N, d=dt)\n",
    "    \n",
    "    maximum = np.argmax(Sxx, axis=1)\n",
    "  \n",
    "    item=freqs[maximum]\n",
    "    return item.reshape((signal_matrix.shape[0], 1))"
   ]
  },
  {
   "cell_type": "code",
   "execution_count": 5,
   "id": "e97721b4",
   "metadata": {},
   "outputs": [],
   "source": [
    "def filtered_range(signal_matrix):\n",
    "    N = signal_matrix.shape[1]\n",
    "    dt = 1/200\n",
    "    T = N*dt\n",
    "    sf = 200\n",
    "    Q = 30\n",
    "    f_notch = 50\n",
    "    b_notch, a_notch = sgn.iirnotch(w0=f_notch, Q=Q, fs=sf)\n",
    "    sig_notch = sgn.filtfilt(b_notch, a_notch, signal_matrix, axis=1)\n",
    "\n",
    "    #Ahora creamos el filtro pasabanda Butterworth\n",
    "    f_nq = sf/2\n",
    "    f_low = 9\n",
    "    f_high = 35\n",
    "    order = 4\n",
    "    b_band, a_band = sgn.iirfilter(\n",
    "        N=order, Wn=[f_low/f_nq, f_high/f_nq], btype=\"bandpass\", ftype=\"butter\"\n",
    "    )\n",
    "    sig_filt = sgn.filtfilt(b_band, a_band, sig_notch, axis=1)\n",
    "\n",
    "    fft = np.fft.rfft(sig_filt)\n",
    "    Sxx = np.real(((2*dt**2)/T)*fft*fft.conj())\n",
    "    freqs = np.fft.rfftfreq(n=N, d=dt)\n",
    "    \n",
    "    index_low=np.where(freqs>=10)[0][0]\n",
    "\n",
    "    index_high=np.where(freqs>=35)[0][0]\n",
    "\n",
    "    \n",
    "    return Sxx[:,index_low:index_high]"
   ]
  },
  {
   "cell_type": "code",
   "execution_count": 6,
   "id": "a11f19ac",
   "metadata": {},
   "outputs": [],
   "source": [
    "def filtered_pca(signal_matrix):\n",
    "    N = signal_matrix.shape[1]\n",
    "    dt = 1/200\n",
    "    T = N*dt\n",
    "    sf = 200\n",
    "    Q = 30\n",
    "    f_notch = 50\n",
    "    b_notch, a_notch = sgn.iirnotch(w0=f_notch, Q=Q, fs=sf)\n",
    "    sig_notch = sgn.filtfilt(b_notch, a_notch, signal_matrix, axis=1)\n",
    "\n",
    "    #Ahora creamos el filtro pasabanda Butterworth\n",
    "    f_nq = sf/2\n",
    "    f_low = 10\n",
    "    f_high = 35\n",
    "    order = 4\n",
    "    b_band, a_band = sgn.iirfilter(\n",
    "        N=order, Wn=[f_low/f_nq, f_high/f_nq], btype=\"bandpass\", ftype=\"butter\"\n",
    "    )\n",
    "    sig_filt = sgn.filtfilt(b_band, a_band, sig_notch, axis=1)\n",
    "\n",
    "    fft = np.fft.rfft(sig_filt)\n",
    "    Sxx = np.real(((2*dt**2)/T)*fft*fft.conj())\n",
    "    freqs = np.fft.rfftfreq(n=N, d=dt)\n",
    "    \n",
    "    index_low=np.where(freqs>=10)[0][0]\n",
    "\n",
    "    index_high=np.where(freqs>=35)[0][0]    \n",
    "    \n",
    "    from sklearn.decomposition import PCA\n",
    "    pca = PCA(n_components=3)\n",
    "    pca.fit(Sxx[:,index_low:index_high])\n",
    "    proyected_features_freq = pca.transform(Sxx[:,index_low:index_high])\n",
    "    \n",
    "    return proyected_features_freq.reshape((signal_matrix.shape[0], 3))"
   ]
  },
  {
   "cell_type": "code",
   "execution_count": 7,
   "id": "61a7c199",
   "metadata": {},
   "outputs": [],
   "source": [
    "class BCIDataset():\n",
    "    def __init__(\n",
    "        self, \n",
    "        csvs_path, \n",
    "        subject: str = 'all', \n",
    "        session: str = 'all',\n",
    "        channel: str = 'all', \n",
    "        overlapping_fraction: float = 1/3, \n",
    "        window_size: int = 900,\n",
    "        feature_extractor: Callable = naif_fft_features\n",
    "    ):\n",
    "        '''\n",
    "        Object containing all examples from a time series from the dataset.\n",
    "        Args:\n",
    "            csvs_path (str): path al directorio donde estan los csv de los datos\n",
    "            subject (str): sujeto a estudiar.\n",
    "                Si se indica 'all' el dataset final generado tendrá ejemplos de todos los sujetos\n",
    "            session (str): sesión a estudiar del sujeto seleccionado.\n",
    "                si se indica 'all'  el dataset final generado tendrá ejemplos de todas las sesiones\n",
    "            channel (str): 'ch0', 'ch1', 'ch2', 'ch3'. Si se indica 'all', los ejemplos serán la\n",
    "                concatenación de los 4 canales.\n",
    "            overlapping_fraction (float): porcentaje de desplazamiento de la \"ventana\" que hace el ejemplo\n",
    "            window_size (int): tamaño de la ventana de tiempo que hace a un ejemplo (en muestras).\n",
    "            feature_extractor (func): Función de extracción de features, le ingresa un arreglo\n",
    "                (ejemplos en las filas, muestras en las columnas) y devuelve un arreglo (ejemplos en\n",
    "                las filas y features en las columnas)\n",
    "        '''\n",
    "        self.csvs_path = Path(csvs_path)\n",
    "        self.channel = channel\n",
    "        self.parts = int(1 / overlapping_fraction)\n",
    "        self.fraction = 1 / self.parts\n",
    "        self.ws = window_size\n",
    "        self.subject = subject\n",
    "        self.session = session\n",
    "        self.channels = ['ch0','ch1','ch2','ch3']\n",
    "        self.feature_extractor = feature_extractor\n",
    "        self.complete_dataset = utils.read_all_datasets(self.csvs_path)\n",
    "        \n",
    "        self.complete_examples_signal, self.complete_examples_features, \\\n",
    "        self.complete_labels, self.complete_metadata = \\\n",
    "            self.generate_examples()\n",
    "        \n",
    "    def generate_examples(self):\n",
    "        # For each session generate the signal examples,\n",
    "        # the feature extraction examples and labels arrays\n",
    "        complete_examples_signal, complete_examples_features = [], []\n",
    "        complete_labels, complete_metadata = [], []\n",
    "        \n",
    "        for subject in self.complete_dataset.subject.unique():\n",
    "            # Just load the selected subject\n",
    "            if self.subject != 'all' and subject != self.subject:\n",
    "                continue\n",
    "            sessions = \\\n",
    "                self.complete_dataset.loc[self.complete_dataset.subject==subject].session.unique()\n",
    "            for session in sessions:\n",
    "                # Just load the selected session\n",
    "                if self.session != 'all' and session != self.session:\n",
    "                    continue\n",
    "                \n",
    "                print(f'Processing subject: {subject} - session: {session}...')\n",
    "                \n",
    "                # Generate a subset of the dataset only with the desired rows\n",
    "                selection = self.complete_dataset.loc[\n",
    "                    (self.complete_dataset.subject==subject) &\n",
    "                    (self.complete_dataset.session==session)\n",
    "                ]\n",
    "                \n",
    "                # Standarize length of the array to a multiple to window size\n",
    "                labels = selection.label.values\n",
    "                n_rows = labels.shape[0] // self.ws\n",
    "                labels = labels[: n_rows * self.ws]\n",
    "\n",
    "                # Generate examples from the signal\n",
    "                n_examples = n_rows * self.parts - (self.parts - 1)\n",
    "                examples = np.empty((n_examples, self.ws))\n",
    "                most_frec_labels = np.empty((n_examples, self.ws))\n",
    "                times = np.empty((n_examples, self.ws))\n",
    "                \n",
    "                concat_ch_examples_signal, concat_ch_examples_features = [], []\n",
    "\n",
    "                for k, ch in enumerate(self.channels):\n",
    "                    # Use the four channels or just one\n",
    "                    if self.channel != 'all' and self.channel != ch:\n",
    "                        continue\n",
    "                    \n",
    "                    # Standarize length of the signal to a multiple to window size\n",
    "                    signal = selection[ch].values\n",
    "                    signal = signal[: n_rows * self.ws]\n",
    "                    time = selection.time.values\n",
    "                    time = time[: n_rows * self.ws]\n",
    "\n",
    "                    # Increase the number of examples by overlapping the windows\n",
    "                    for part in range(self.parts):\n",
    "                        \n",
    "                        # Find the place in the output array for each example\n",
    "                        position = np.arange(part, n_examples, self.parts)\n",
    "                        #position = position if part == 0 else position[:-part]\n",
    "\n",
    "                        # Crop the signal according to the window size and overlap\n",
    "                        start = int(self.ws / self.parts) * part\n",
    "                        end = -int(self.ws - (self.ws / self.parts) * part)\n",
    "                        end = end if part!=0 else signal.shape[0]\n",
    "                        subset_signal = signal[start:end]\n",
    "                        subset_labels = labels[start:end]\n",
    "                        subset_times = time[start:end]\n",
    "\n",
    "                        # Generate the examples\n",
    "                        n_rows_ = int(subset_signal.shape[0]/self.ws)\n",
    "                        examples[position, :] = subset_signal.reshape((n_rows_, self.ws))\n",
    "                        most_frec_labels[position, :] = subset_labels.reshape((n_rows_, self.ws))\n",
    "                        times[position, :] = subset_times.reshape((n_rows_, self.ws))\n",
    "                    \n",
    "                    # Obtain most frequent label\n",
    "                    labels_ = scipy.stats.mode(most_frec_labels, axis=1).mode\n",
    "                    labels_temp = scipy.stats.mode(most_frec_labels, axis=1).count\n",
    "                    pureness = labels_temp == self.ws\n",
    "                    # Get first and last time of the window\n",
    "                    times_ = np.asarray([np.min(times, axis=1), np.max(times, axis=1)]).T\n",
    "                    # Extract features\n",
    "                    features = self.feature_extractor(examples)\n",
    "\n",
    "                    concat_ch_examples_signal.append(examples.copy())\n",
    "                    concat_ch_examples_features.append(features)\n",
    "\n",
    "                concat_ch_examples_signal = np.concatenate(concat_ch_examples_signal, axis=1)\n",
    "                concat_ch_examples_features = np.concatenate(concat_ch_examples_features, axis=1)\n",
    "\n",
    "                complete_examples_signal.append(concat_ch_examples_signal)\n",
    "                complete_examples_features.append(concat_ch_examples_features)\n",
    "                complete_labels.append(labels_)\n",
    "                lt = len(times_)\n",
    "                metadata_ = np.concatenate(\n",
    "                    [pureness, times_, np.repeat(subject, lt)[:,None], np.repeat(session, lt)[:,None]],\n",
    "                    axis=1\n",
    "                )\n",
    "                complete_metadata.append(metadata_)\n",
    "\n",
    "        complete_examples_signal = np.concatenate(complete_examples_signal)\n",
    "        complete_examples_features = np.concatenate(complete_examples_features)\n",
    "        complete_labels = np.concatenate(complete_labels)\n",
    "        complete_metadata = np.concatenate(complete_metadata)\n",
    "        \n",
    "        return complete_examples_signal, complete_examples_features, complete_labels, complete_metadata\n",
    "    \n",
    "    def __len__(self):\n",
    "        return self.complete_examples_signal.shape[0]\n",
    "    \n",
    "    def __getitem__(self, idx):\n",
    "        return {\n",
    "            'signal': self.complete_examples_signal[idx,:],\n",
    "            'features': self.complete_examples_features[idx,:],\n",
    "            'label': self.complete_labels[idx,:],\n",
    "            'metadata': self.complete_metadata[idx,:]\n",
    "        }\n",
    "\n",
    "    def get_X_signal(self):\n",
    "        return self.complete_examples_signal\n",
    "\n",
    "    def get_X_features(self):\n",
    "        return self.complete_examples_features\n",
    "\n",
    "    def get_Y(self):\n",
    "        return self.complete_labels\n",
    "\n",
    "    def get_metadata(self):\n",
    "        return self.complete_metadata\n"
   ]
  },
  {
   "cell_type": "markdown",
   "id": "b795436e",
   "metadata": {},
   "source": [
    "Para levantar los datasets desde txt o csv:\n",
    "- Este notebook, o el notebook que usen que tenga la clase arriba definida, tiene que estar en el mismo directorio que el archivo utils.py, que tiene algunas funciones usadas en los métodos de la clase.\n",
    "- Descarguen el .zip de la base de datos de nuevo y extraiganlos a un directorio llamado <path al repo en su máquina>/MentoriaBCI/Database/\n",
    "- Definan el csvs_path acorde al directorio anterior:\n",
    "    - csvs_path = '<PATH AL REPO>/MetoriaBCI/Database' ej: '/home/joaquin/Desktop/MentoriaDiploDatos/MetoriaBCI/Database'"
   ]
  },
  {
   "cell_type": "markdown",
   "id": "f780b9ae",
   "metadata": {},
   "source": [
    "# Recorrido por el código BCIDataset"
   ]
  },
  {
   "cell_type": "markdown",
   "id": "cd79704e",
   "metadata": {},
   "source": [
    "Generamos diferentes datasets en base a las funciones de extracción de features del punto anterior."
   ]
  },
  {
   "cell_type": "code",
   "execution_count": 8,
   "id": "b13e9b2c",
   "metadata": {},
   "outputs": [],
   "source": [
    "csvs_path = '../../data'"
   ]
  },
  {
   "cell_type": "code",
   "execution_count": 9,
   "id": "e0ebc504",
   "metadata": {},
   "outputs": [
    {
     "name": "stdout",
     "output_type": "stream",
     "text": [
      "Processing subject: AA - session: 1...\n",
      "Processing subject: AA - session: 0...\n",
      "Processing subject: AA - session: 2...\n",
      "Processing subject: JA - session: 1...\n",
      "Processing subject: JA - session: 2...\n",
      "Processing subject: HA - session: 1...\n",
      "Processing subject: MA - session: 1...\n"
     ]
    }
   ],
   "source": [
    "# dataset con los valores de frecuencia donde aparece la amplitud máxima\n",
    "dataset_filtered_max = BCIDataset(csvs_path,\n",
    "                         window_size=750,\n",
    "                        feature_extractor=calc_max_filtered)\n",
    "\n",
    "df_max_freq=generate_df(dataset_filtered_max.complete_examples_features,['max freq '], [0,1,2,3])\n",
    "df_max_freq['max_freq_mean'] = df_max_freq.mean(axis=1)\n",
    "df_max_freq['max_freq_mode'] = scipy.stats.mode(df_max_freq,axis=1)[0]\n",
    "df_max_freq['max_freq_median']=np.median(df_max_freq,axis=1)\n",
    "df_max_freq['max_freq_quantile']=np.quantile(df_max_freq,0.9,axis=1)\n",
    "df_max_freq['max_freq_std']=np.std(df_max_freq,axis=1)\n",
    "df_max_freq['max_freq_var']=np.var(df_max_freq,axis=1)\n",
    "df_max_freq['max_freq_entropy'] = scipy.stats.entropy(df_max_freq,axis=1)\n",
    "df_max_freq['max_freq_skew'] = scipy.stats.skew(df_max_freq,axis=1)"
   ]
  },
  {
   "cell_type": "code",
   "execution_count": 10,
   "id": "cdd285c1",
   "metadata": {},
   "outputs": [],
   "source": [
    "labels = pd.DataFrame(dataset_filtered_max.complete_labels,columns=['labels'])\n",
    "metadata_all = pd.DataFrame(dataset_filtered_max.complete_metadata, columns = ['purness', 't_start', 't_end', \n",
    "                                                                      'subject', 'session'])\n",
    "max_freq_with_labels = df_max_freq.merge(labels,left_index=True,right_index=True)"
   ]
  },
  {
   "cell_type": "code",
   "execution_count": 11,
   "id": "3f9d08e0",
   "metadata": {},
   "outputs": [
    {
     "name": "stdout",
     "output_type": "stream",
     "text": [
      "Processing subject: AA - session: 1...\n",
      "Processing subject: AA - session: 0...\n",
      "Processing subject: AA - session: 2...\n",
      "Processing subject: JA - session: 1...\n",
      "Processing subject: JA - session: 2...\n",
      "Processing subject: HA - session: 1...\n",
      "Processing subject: MA - session: 1...\n"
     ]
    }
   ],
   "source": [
    "# dataset con la senal filtrada y aplicando pca\n",
    "dataset_filtered_pca = BCIDataset(csvs_path,\n",
    "                         window_size=750,\n",
    "                        feature_extractor=filtered_pca)\n",
    "df_pca_freq=generate_df(dataset_filtered_pca.complete_examples_features,['pca 0 ', 'pca 1 ','pca 2 '], [0,1,2,3])\n",
    "pca_with_labels = df_pca_freq.merge(labels,left_index=True,right_index=True)"
   ]
  },
  {
   "cell_type": "code",
   "execution_count": 12,
   "id": "d633adc5",
   "metadata": {},
   "outputs": [
    {
     "name": "stdout",
     "output_type": "stream",
     "text": [
      "Processing subject: AA - session: 1...\n",
      "Processing subject: AA - session: 0...\n",
      "Processing subject: AA - session: 2...\n",
      "Processing subject: JA - session: 1...\n",
      "Processing subject: JA - session: 2...\n",
      "Processing subject: HA - session: 1...\n",
      "Processing subject: MA - session: 1...\n"
     ]
    }
   ],
   "source": [
    "# dataset con la senal filtrada y sólo teniendo el rango de frecuencias de interés\n",
    "dataset_filtered_range = BCIDataset(csvs_path,\n",
    "                         window_size=750,\n",
    "                        feature_extractor=filtered_range)"
   ]
  },
  {
   "cell_type": "code",
   "execution_count": 13,
   "id": "ad51e042",
   "metadata": {},
   "outputs": [],
   "source": [
    "N=dataset_filtered_range.complete_examples_signal.shape[1]\n",
    "dt = 1/200\n",
    "freqs_all = np.fft.rfftfreq(n=int(N/4), d=dt)\n",
    "index_low=np.where(freqs_all>=10)[0][0]\n",
    "index_high=np.where(freqs_all>=35)[0][0]\n",
    "name= [str(i) for i in list(freqs_all[index_low:index_high].round(2))]\n",
    "df_range_freq=pd.DataFrame(dataset_filtered_range.complete_examples_features,columns=name+name+name+name)\n",
    "\n",
    "df_range_freq['freq_label_1_mean_log']=np.log(df_range_freq[['12.0','12.27','12.53','12.8','13.07']].mean(axis=1))\n",
    "df_range_freq['freq_label_2_mean_log']=np.log(df_range_freq[[ '16.0','16.27', '16.53', '16.8','17.07']].mean(axis=1))\n",
    "\n",
    "df_range_freq['freq_label_1_median_log']=np.log(np.median(df_range_freq[['12.0','12.27','12.53','12.8','13.07']],axis=1))\n",
    "df_range_freq['freq_label_2_median_log']=np.log(np.median(df_range_freq[[ '16.0','16.27', '16.53', '16.8','17.07']],axis=1))\n",
    "\n",
    "df_range_freq['freq_label_1_sum_log'] = np.log(df_range_freq[['12.0','12.27','12.53','12.8','13.07']].sum(axis=1)/4)\n",
    "df_range_freq['freq_label_2_sum_log'] = np.log(df_range_freq[[ '16.0','16.27', '16.53', '16.8','17.07']].sum(axis=1)/4)\n",
    "\n",
    "df_range_freq['freq_label_1_quantile_log']=np.log(np.quantile(df_range_freq[['12.0','12.27','12.53','12.8','13.07']],0.9,axis=1))\n",
    "df_range_freq['freq_label_2_quantile_log']=np.log(np.quantile(df_range_freq[[ '16.0','16.27', '16.53', '16.8','17.07']],0.9,axis=1))\n",
    "\n",
    "df_range_freq['freq_label_1_std_log']=np.log(np.std(df_range_freq[['12.0','12.27','12.53','12.8','13.07']],axis=1))\n",
    "df_range_freq['freq_label_2_std_log']=np.log(np.std(df_range_freq[[ '16.0','16.27', '16.53', '16.8','17.07']],axis=1))\n",
    "\n",
    "df_range_freq['freq_label_1_var_log']=np.log(np.var(df_range_freq[['12.0','12.27','12.53','12.8','13.07']],axis=1))\n",
    "df_range_freq['freq_label_2_var_log']=np.log(np.var(df_range_freq[[ '16.0','16.27', '16.53', '16.8','17.07']],axis=1))\n",
    "\n",
    "df_range_freq['freq_label_1_entropy_log']=np.log(scipy.stats.entropy(df_range_freq[['12.0','12.27','12.53','12.8','13.07']],axis=1))\n",
    "df_range_freq['freq_label_2_entropy_log']=np.log(scipy.stats.entropy(df_range_freq[[ '16.0','16.27', '16.53', '16.8','17.07']],axis=1))\n",
    "\n",
    "df_range_freq['freq_label_1_skew']=scipy.stats.skew(df_range_freq[['12.0','12.27','12.53','12.8','13.07']],axis=1)\n",
    "df_range_freq['freq_label_2_skew']=scipy.stats.skew(df_range_freq[[ '16.0','16.27', '16.53', '16.8','17.07']],axis=1)\n",
    "\n",
    "df_range_freq['freq_label_1_kurtosis']=scipy.stats.kurtosis(df_range_freq[['12.0','12.27','12.53','12.8','13.07']],axis=1)\n",
    "df_range_freq['freq_label_2_kurtosis']=scipy.stats.kurtosis(df_range_freq[[ '16.0','16.27', '16.53', '16.8','17.07']],axis=1)\n",
    "\n",
    "\n",
    "#features sin log\n",
    "\n",
    "df_range_freq['freq_label_1_mean']=df_range_freq[['12.0','12.27','12.53','12.8','13.07']].mean(axis=1)\n",
    "df_range_freq['freq_label_2_mean']=df_range_freq[[ '16.0','16.27', '16.53', '16.8','17.07']].mean(axis=1)\n",
    "\n",
    "df_range_freq['freq_label_1_median']=np.median(df_range_freq[['12.0','12.27','12.53','12.8','13.07']],axis=1)\n",
    "df_range_freq['freq_label_2_median']=np.median(df_range_freq[[ '16.0','16.27', '16.53', '16.8','17.07']],axis=1)\n",
    "\n",
    "df_range_freq['freq_label_1_sum'] = df_range_freq[['12.0','12.27','12.53','12.8','13.07']].sum(axis=1)/4\n",
    "df_range_freq['freq_label_2_sum'] = df_range_freq[[ '16.0','16.27', '16.53', '16.8','17.07']].sum(axis=1)/4\n",
    "\n",
    "df_range_freq['freq_label_1_quantile']=np.quantile(df_range_freq[['12.0','12.27','12.53','12.8','13.07']],0.9,axis=1)\n",
    "df_range_freq['freq_label_2_quantile']=np.quantile(df_range_freq[[ '16.0','16.27', '16.53', '16.8','17.07']],0.9,axis=1)\n",
    "\n",
    "df_range_freq['freq_label_1_std']=np.std(df_range_freq[['12.0','12.27','12.53','12.8','13.07']],axis=1)\n",
    "df_range_freq['freq_label_2_std']=np.std(df_range_freq[[ '16.0','16.27', '16.53', '16.8','17.07']],axis=1)\n",
    "\n",
    "df_range_freq['freq_label_1_var']=np.var(df_range_freq[['12.0','12.27','12.53','12.8','13.07']],axis=1)\n",
    "df_range_freq['freq_label_2_var']=np.var(df_range_freq[[ '16.0','16.27', '16.53', '16.8','17.07']],axis=1)\n",
    "\n",
    "df_range_freq['freq_label_1_entropy']=scipy.stats.entropy(df_range_freq[['12.0','12.27','12.53','12.8','13.07']],axis=1)\n",
    "df_range_freq['freq_label_2_entropy']=scipy.stats.entropy(df_range_freq[[ '16.0','16.27', '16.53', '16.8','17.07']],axis=1)\n",
    "\n",
    "array_freqs_label_1=df_range_freq[['12.0','12.27','12.53','12.8','13.07']].to_numpy()\n",
    "array_freqs_label_2=df_range_freq[['16.0','16.27', '16.53', '16.8','17.07']].to_numpy()\n",
    "#Hago una suma ponderada de los 4 canales en cjto. tener en cuenta que primero aparecen los valores \n",
    "#de cada frecuencia repetida por los cuatro canales\n",
    "sum_weighted_1_log=np.log(np.dot(array_freqs_label_1,[0.1/4,0.1/4,0.1/4,0.1/4,\n",
    "                                 0.2/4,0.2/4,0.2/4,0.2/4,\n",
    "                                 0.4/4,0.4/4,0.4/4,0.4/4,\n",
    "                                 0.2/4,0.2/4,0.2/4,0.2/4,\n",
    "                                 0.1/4,0.1/4,0.1/4,0.1/4]))\n",
    "\n",
    "sum_weighted_2_log=np.log(np.dot(array_freqs_label_2,[0.1/4,0.1/4,0.1/4,0.1/4,\n",
    "                                 0.2/4,0.2/4,0.2/4,0.2/4,\n",
    "                                 0.4/4,0.4/4,0.4/4,0.4/4,\n",
    "                                 0.2/4,0.2/4,0.2/4,0.2/4,\n",
    "                                 0.1/4,0.1/4,0.1/4,0.1/4]))\n",
    "\n",
    "sum_weighted_1=np.dot(array_freqs_label_1,[0.1/4,0.1/4,0.1/4,0.1/4,\n",
    "                                 0.2/4,0.2/4,0.2/4,0.2/4,\n",
    "                                 0.4/4,0.4/4,0.4/4,0.4/4,\n",
    "                                 0.2/4,0.2/4,0.2/4,0.2/4,\n",
    "                                 0.1/4,0.1/4,0.1/4,0.1/4])\n",
    "\n",
    "sum_weighted_2=np.dot(array_freqs_label_2,[0.1/4,0.1/4,0.1/4,0.1/4,\n",
    "                                 0.2/4,0.2/4,0.2/4,0.2/4,\n",
    "                                 0.4/4,0.4/4,0.4/4,0.4/4,\n",
    "                                 0.2/4,0.2/4,0.2/4,0.2/4,\n",
    "                                 0.1/4,0.1/4,0.1/4,0.1/4])\n",
    "\n",
    "df_range_freq['sum_weighted_label_1']= sum_weighted_1.tolist()\n",
    "df_range_freq['sum_weighted_label_2']= sum_weighted_2.tolist()\n",
    "df_range_freq['sum_weighted_label_1_log']= sum_weighted_1_log.tolist()\n",
    "df_range_freq['sum_weighted_label_2_log']= sum_weighted_2_log.tolist()"
   ]
  },
  {
   "cell_type": "code",
   "execution_count": 14,
   "id": "31c09172",
   "metadata": {},
   "outputs": [],
   "source": [
    "N=dataset_filtered_range.complete_examples_signal.shape[1]\n",
    "dt = 1/200\n",
    "freqs_all = np.fft.rfftfreq(n=int(N/4), d=dt)\n",
    "index_low=np.where(freqs_all>=10)[0][0]\n",
    "index_high=np.where(freqs_all>=35)[0][0]\n",
    "name= [str(i) for i in list(freqs_all[index_low:index_high].round(2))]\n",
    "df_range_freq=pd.DataFrame(dataset_filtered_range.complete_examples_features,columns=name+name+name+name)\n",
    "\n",
    "df_range_freq['freq_label_1_mean']=np.log(df_range_freq[['12.27','12.53','12.8']].mean(axis=1))\n",
    "df_range_freq['freq_label_2_mean']=np.log(df_range_freq[[ '16.27', '16.53', '16.8']].mean(axis=1))\n",
    "\n",
    "df_range_freq['freq_label_1_median']=np.log(np.median(df_range_freq[['12.27','12.53','12.8']],axis=1))\n",
    "df_range_freq['freq_label_2_median']=np.log(np.median(df_range_freq[[ '16.27', '16.53', '16.8']],axis=1))\n",
    "\n",
    "df_range_freq['freq_label_1_sum'] = np.log(df_range_freq[['12.27','12.53','12.8']].sum(axis=1)/4)\n",
    "df_range_freq['freq_label_2_sum'] = np.log(df_range_freq[[ '16.27', '16.53', '16.8']].sum(axis=1)/4)\n",
    "\n",
    "df_range_freq['freq_label_1_quantile']=np.log(np.quantile(df_range_freq[['12.27','12.53','12.8']],0.9,axis=1))\n",
    "df_range_freq['freq_label_2_quantile']=np.log(np.quantile(df_range_freq[[ '16.27', '16.53', '16.8']],0.9,axis=1))\n",
    "\n",
    "df_range_freq['freq_label_1_std']=np.log(np.std(df_range_freq[['12.27','12.53','12.8']],axis=1))\n",
    "df_range_freq['freq_label_2_std']=np.log(np.std(df_range_freq[[ '16.27', '16.53', '16.8']],axis=1))\n",
    "\n",
    "df_range_freq['freq_label_1_var']=np.log(np.var(df_range_freq[['12.27','12.53','12.8']],axis=1))\n",
    "df_range_freq['freq_label_2_var']=np.log(np.var(df_range_freq[[ '16.27', '16.53', '16.8']],axis=1))\n",
    "\n",
    "\n",
    "df_range_freq['freq_label_1_entropy']=np.log(scipy.stats.entropy(df_range_freq[['12.27','12.53','12.8']],axis=1))\n",
    "df_range_freq['freq_label_2_entropy']=np.log(scipy.stats.entropy(df_range_freq[[ '16.27', '16.53', '16.8']],axis=1))\n",
    "df_range_freq['freq_label_1_skew']=scipy.stats.skew(df_range_freq[['12.27','12.53','12.8']],axis=1)\n",
    "df_range_freq['freq_label_2_skew']=scipy.stats.skew(df_range_freq[[ '16.27', '16.53', '16.8']],axis=1)\n",
    "df_range_freq['freq_label_1_kurtosis']=scipy.stats.kurtosis(df_range_freq[['12.27','12.53','12.8']],axis=1)\n",
    "df_range_freq['freq_label_2_kurtosis']=scipy.stats.kurtosis(df_range_freq[[ '16.27', '16.53', '16.8']],axis=1)\n",
    "\n",
    "array_freqs_label_1=df_range_freq[['12.27','12.53','12.8']].to_numpy()\n",
    "array_freqs_label_2=df_range_freq[['16.27', '16.53', '16.8']].to_numpy()\n",
    "#Hago una suma ponderada de los 4 canales en cjto. tener en cuenta que primero aparecen los valores \n",
    "#de cada frecuencia repetida por los cuatro canales\n",
    "sum_weighted_1_log=np.log(np.dot(array_freqs_label_1,[\n",
    "                                 0.2/4,0.2/4,0.2/4,0.2/4,\n",
    "                                 0.6/4,0.6/4,0.6/4,0.6/4,\n",
    "                                 0.2/4,0.2/4,0.2/4,0.2/4,\n",
    "                                ]))\n",
    "\n",
    "sum_weighted_2_log=np.log(np.dot(array_freqs_label_2,[\n",
    "                                 0.2/4,0.2/4,0.2/4,0.2/4,\n",
    "                                 0.6/4,0.6/4,0.6/4,0.6/4,\n",
    "                                 0.2/4,0.2/4,0.2/4,0.2/4,\n",
    "                                 ]))\n",
    "\n",
    "\n",
    "df_range_freq['sum_weighted_label_1']= sum_weighted_1_log.tolist()\n",
    "df_range_freq['sum_weighted_label_2']= sum_weighted_2_log.tolist()"
   ]
  },
  {
   "cell_type": "code",
   "execution_count": 15,
   "id": "f5fad364",
   "metadata": {},
   "outputs": [],
   "source": [
    "freq_range_with_labels = df_range_freq.merge(labels,left_index=True,right_index=True)"
   ]
  },
  {
   "cell_type": "code",
   "execution_count": 16,
   "id": "a650e452",
   "metadata": {},
   "outputs": [
    {
     "name": "stdout",
     "output_type": "stream",
     "text": [
      "(2614, 82)\n"
     ]
    },
    {
     "data": {
      "text/html": [
       "<div>\n",
       "<style scoped>\n",
       "    .dataframe tbody tr th:only-of-type {\n",
       "        vertical-align: middle;\n",
       "    }\n",
       "\n",
       "    .dataframe tbody tr th {\n",
       "        vertical-align: top;\n",
       "    }\n",
       "\n",
       "    .dataframe thead th {\n",
       "        text-align: right;\n",
       "    }\n",
       "</style>\n",
       "<table border=\"1\" class=\"dataframe\">\n",
       "  <thead>\n",
       "    <tr style=\"text-align: right;\">\n",
       "      <th></th>\n",
       "      <th>max freq ch 0</th>\n",
       "      <th>max freq ch 1</th>\n",
       "      <th>max freq ch 2</th>\n",
       "      <th>max freq ch 3</th>\n",
       "      <th>max_freq_mean</th>\n",
       "      <th>max_freq_mode</th>\n",
       "      <th>max_freq_median</th>\n",
       "      <th>max_freq_quantile</th>\n",
       "      <th>max_freq_std</th>\n",
       "      <th>max_freq_var</th>\n",
       "      <th>...</th>\n",
       "      <th>33.07</th>\n",
       "      <th>33.07</th>\n",
       "      <th>33.07</th>\n",
       "      <th>33.07</th>\n",
       "      <th>33.33</th>\n",
       "      <th>33.33</th>\n",
       "      <th>33.33</th>\n",
       "      <th>33.33</th>\n",
       "      <th>purness</th>\n",
       "      <th>labels</th>\n",
       "    </tr>\n",
       "  </thead>\n",
       "  <tbody>\n",
       "    <tr>\n",
       "      <th>0</th>\n",
       "      <td>11.733333</td>\n",
       "      <td>11.733333</td>\n",
       "      <td>11.733333</td>\n",
       "      <td>11.733333</td>\n",
       "      <td>11.733333</td>\n",
       "      <td>11.733333</td>\n",
       "      <td>11.733333</td>\n",
       "      <td>11.733333</td>\n",
       "      <td>0.000000</td>\n",
       "      <td>13.597147</td>\n",
       "      <td>...</td>\n",
       "      <td>1.472229</td>\n",
       "      <td>1.370570</td>\n",
       "      <td>2.093168</td>\n",
       "      <td>0.211346</td>\n",
       "      <td>0.884257</td>\n",
       "      <td>0.676288</td>\n",
       "      <td>1.064803</td>\n",
       "      <td>0.008336</td>\n",
       "      <td>1</td>\n",
       "      <td>99.0</td>\n",
       "    </tr>\n",
       "    <tr>\n",
       "      <th>1</th>\n",
       "      <td>10.666667</td>\n",
       "      <td>10.666667</td>\n",
       "      <td>11.200000</td>\n",
       "      <td>12.533333</td>\n",
       "      <td>11.266667</td>\n",
       "      <td>10.666667</td>\n",
       "      <td>10.933333</td>\n",
       "      <td>11.773333</td>\n",
       "      <td>0.615828</td>\n",
       "      <td>11.429167</td>\n",
       "      <td>...</td>\n",
       "      <td>2.379324</td>\n",
       "      <td>2.171561</td>\n",
       "      <td>3.160919</td>\n",
       "      <td>0.159395</td>\n",
       "      <td>0.965217</td>\n",
       "      <td>0.888867</td>\n",
       "      <td>1.087494</td>\n",
       "      <td>0.145097</td>\n",
       "      <td>1</td>\n",
       "      <td>99.0</td>\n",
       "    </tr>\n",
       "    <tr>\n",
       "      <th>2</th>\n",
       "      <td>10.666667</td>\n",
       "      <td>10.400000</td>\n",
       "      <td>10.400000</td>\n",
       "      <td>12.533333</td>\n",
       "      <td>11.000000</td>\n",
       "      <td>10.400000</td>\n",
       "      <td>10.533333</td>\n",
       "      <td>11.613333</td>\n",
       "      <td>0.716806</td>\n",
       "      <td>10.785793</td>\n",
       "      <td>...</td>\n",
       "      <td>2.090235</td>\n",
       "      <td>2.210341</td>\n",
       "      <td>2.608475</td>\n",
       "      <td>0.208388</td>\n",
       "      <td>1.329910</td>\n",
       "      <td>1.588233</td>\n",
       "      <td>1.819665</td>\n",
       "      <td>0.193827</td>\n",
       "      <td>1</td>\n",
       "      <td>99.0</td>\n",
       "    </tr>\n",
       "    <tr>\n",
       "      <th>3</th>\n",
       "      <td>13.066667</td>\n",
       "      <td>11.466667</td>\n",
       "      <td>13.600000</td>\n",
       "      <td>18.400000</td>\n",
       "      <td>14.133333</td>\n",
       "      <td>11.466667</td>\n",
       "      <td>13.333333</td>\n",
       "      <td>15.840000</td>\n",
       "      <td>2.151000</td>\n",
       "      <td>17.777155</td>\n",
       "      <td>...</td>\n",
       "      <td>0.300431</td>\n",
       "      <td>0.654669</td>\n",
       "      <td>0.659388</td>\n",
       "      <td>0.046883</td>\n",
       "      <td>0.112584</td>\n",
       "      <td>0.112536</td>\n",
       "      <td>0.138392</td>\n",
       "      <td>0.021539</td>\n",
       "      <td>1</td>\n",
       "      <td>99.0</td>\n",
       "    </tr>\n",
       "    <tr>\n",
       "      <th>4</th>\n",
       "      <td>12.266667</td>\n",
       "      <td>9.866667</td>\n",
       "      <td>16.800000</td>\n",
       "      <td>12.266667</td>\n",
       "      <td>12.800000</td>\n",
       "      <td>12.266667</td>\n",
       "      <td>12.266667</td>\n",
       "      <td>14.400000</td>\n",
       "      <td>1.879716</td>\n",
       "      <td>15.063020</td>\n",
       "      <td>...</td>\n",
       "      <td>0.398019</td>\n",
       "      <td>0.333563</td>\n",
       "      <td>0.477870</td>\n",
       "      <td>0.210116</td>\n",
       "      <td>0.258850</td>\n",
       "      <td>0.254798</td>\n",
       "      <td>0.228850</td>\n",
       "      <td>0.072188</td>\n",
       "      <td>1</td>\n",
       "      <td>99.0</td>\n",
       "    </tr>\n",
       "  </tbody>\n",
       "</table>\n",
       "<p>5 rows × 82 columns</p>\n",
       "</div>"
      ],
      "text/plain": [
       "   max freq ch 0  max freq ch 1  max freq ch 2  max freq ch 3  max_freq_mean  \\\n",
       "0      11.733333      11.733333      11.733333      11.733333      11.733333   \n",
       "1      10.666667      10.666667      11.200000      12.533333      11.266667   \n",
       "2      10.666667      10.400000      10.400000      12.533333      11.000000   \n",
       "3      13.066667      11.466667      13.600000      18.400000      14.133333   \n",
       "4      12.266667       9.866667      16.800000      12.266667      12.800000   \n",
       "\n",
       "   max_freq_mode  max_freq_median  max_freq_quantile  max_freq_std  \\\n",
       "0      11.733333        11.733333          11.733333      0.000000   \n",
       "1      10.666667        10.933333          11.773333      0.615828   \n",
       "2      10.400000        10.533333          11.613333      0.716806   \n",
       "3      11.466667        13.333333          15.840000      2.151000   \n",
       "4      12.266667        12.266667          14.400000      1.879716   \n",
       "\n",
       "   max_freq_var  ...     33.07     33.07     33.07     33.07     33.33  \\\n",
       "0     13.597147  ...  1.472229  1.370570  2.093168  0.211346  0.884257   \n",
       "1     11.429167  ...  2.379324  2.171561  3.160919  0.159395  0.965217   \n",
       "2     10.785793  ...  2.090235  2.210341  2.608475  0.208388  1.329910   \n",
       "3     17.777155  ...  0.300431  0.654669  0.659388  0.046883  0.112584   \n",
       "4     15.063020  ...  0.398019  0.333563  0.477870  0.210116  0.258850   \n",
       "\n",
       "      33.33     33.33     33.33  purness  labels  \n",
       "0  0.676288  1.064803  0.008336        1    99.0  \n",
       "1  0.888867  1.087494  0.145097        1    99.0  \n",
       "2  1.588233  1.819665  0.193827        1    99.0  \n",
       "3  0.112536  0.138392  0.021539        1    99.0  \n",
       "4  0.254798  0.228850  0.072188        1    99.0  \n",
       "\n",
       "[5 rows x 82 columns]"
      ]
     },
     "execution_count": 16,
     "metadata": {},
     "output_type": "execute_result"
    }
   ],
   "source": [
    "# IMPORTANTE: Eliminar features que tengan alta correlación entre sí, \n",
    "# ya que suele mejorar las métricas de los modelos\n",
    "\n",
    "# concatenamos los dfs\n",
    "\n",
    "best_features=df_max_freq.merge(df_range_freq[['freq_label_1_mean','freq_label_2_mean','freq_label_1_sum','freq_label_2_sum',\n",
    "          'freq_label_1_median','freq_label_2_median','freq_label_1_quantile','freq_label_2_quantile'\n",
    "                                 ,'sum_weighted_label_1','sum_weighted_label_2','freq_label_1_std',\n",
    "                                 'freq_label_2_std','freq_label_1_var','freq_label_2_var','freq_label_1_entropy',\n",
    "                                 'freq_label_2_entropy','freq_label_1_skew','freq_label_2_skew','freq_label_1_kurtosis',\n",
    "                                 'freq_label_2_kurtosis','12.27','12.53','12.8','16.27', '16.53', '16.8'\n",
    "                                               ,'24.8', '25.07', '25.33','32.8','33.07', '33.33'\n",
    "                                ]],left_index=True,right_index=True)\n",
    "best_features[\"purness\"]=metadata_all[\"purness\"].replace({'True':1,'False':0})\n",
    "best_features = best_features.merge(labels,left_index=True,right_index=True)\n",
    "\n",
    "print(best_features.shape)\n",
    "best_features.head()"
   ]
  },
  {
   "cell_type": "markdown",
   "id": "72de010d",
   "metadata": {},
   "source": [
    "## Aprendizaje Supervisado"
   ]
  },
  {
   "cell_type": "markdown",
   "id": "6d41c5be",
   "metadata": {},
   "source": [
    "**A) Benchmarking y desarrollo del algoritmo evaluador:**\n",
    "       \n",
    "**a)** Utilice una clasificación aleatoria de los ejemplos para utilizar como benchmark de los resultados posteriores. Este benchmark representa el peor de los desempeños de clasificación posibles.\n",
    "\n",
    "**b)** Evalúe el desempeño/rendimiento de este benchmark bajo las métricas seleccionadas en el apartado anterior. Considere repetir este procesamiento algunas veces para obtener un promedio, máximo, mínimo u otro representante de estos resultados, ya que se trata de un proceso completamente aleatorizado."
   ]
  },
  {
   "cell_type": "code",
   "execution_count": 17,
   "id": "25e94635",
   "metadata": {},
   "outputs": [
    {
     "data": {
      "text/plain": [
       "array([99.,  2.,  1.])"
      ]
     },
     "execution_count": 17,
     "metadata": {},
     "output_type": "execute_result"
    }
   ],
   "source": [
    "best_features.labels.unique()"
   ]
  },
  {
   "cell_type": "markdown",
   "id": "434c72af",
   "metadata": {},
   "source": [
    "**División en los conjuntos de train, test y validation**"
   ]
  },
  {
   "cell_type": "code",
   "execution_count": 18,
   "id": "a94a30f4",
   "metadata": {},
   "outputs": [],
   "source": [
    "X, y = best_features.iloc[:, :-1], best_features.labels"
   ]
  },
  {
   "cell_type": "code",
   "execution_count": 19,
   "id": "8fa5e205",
   "metadata": {},
   "outputs": [
    {
     "data": {
      "application/javascript": [
       "\n",
       "        if (window._pyforest_update_imports_cell) { window._pyforest_update_imports_cell('from sklearn.model_selection import train_test_split'); }\n",
       "    "
      ],
      "text/plain": [
       "<IPython.core.display.Javascript object>"
      ]
     },
     "metadata": {},
     "output_type": "display_data"
    },
    {
     "data": {
      "application/javascript": [
       "\n",
       "        if (window._pyforest_update_imports_cell) { window._pyforest_update_imports_cell('from sklearn.model_selection import train_test_split'); }\n",
       "    "
      ],
      "text/plain": [
       "<IPython.core.display.Javascript object>"
      ]
     },
     "metadata": {},
     "output_type": "display_data"
    }
   ],
   "source": [
    "X_train, X_val, y_train, y_val = train_test_split(X, y, test_size=0.1, random_state=42, stratify=y) # se queda con el 10% para validación\n",
    "X_train, X_test, y_train, y_test = train_test_split(X_train, y_train, test_size=0.2, random_state=42, stratify=y_train) # del 90% hace 20% para train y 80% para test"
   ]
  },
  {
   "cell_type": "markdown",
   "id": "62cb7261",
   "metadata": {},
   "source": [
    "Veamos la proporción del target (columna 'labels') en el dataset antes de la división:"
   ]
  },
  {
   "cell_type": "code",
   "execution_count": 20,
   "id": "a1c48404",
   "metadata": {},
   "outputs": [
    {
     "data": {
      "text/plain": [
       "99.0    1609\n",
       "2.0      524\n",
       "1.0      481\n",
       "Name: labels, dtype: int64"
      ]
     },
     "execution_count": 20,
     "metadata": {},
     "output_type": "execute_result"
    }
   ],
   "source": [
    "y.value_counts()"
   ]
  },
  {
   "cell_type": "markdown",
   "id": "cd0ae5e7",
   "metadata": {},
   "source": [
    "Vemos que la proporción de la etiqueta '99' es casi 3 a 1 con respecto a las etiquetas '1' y '2'.\n",
    "\n",
    "Chequeamos el desbalanceo en los conjuntos de train, test y val:"
   ]
  },
  {
   "cell_type": "code",
   "execution_count": 21,
   "id": "ac7d63f7",
   "metadata": {},
   "outputs": [
    {
     "data": {
      "text/plain": [
       "99.0    1158\n",
       "2.0      377\n",
       "1.0      346\n",
       "Name: labels, dtype: int64"
      ]
     },
     "execution_count": 21,
     "metadata": {},
     "output_type": "execute_result"
    }
   ],
   "source": [
    "y_train.value_counts()"
   ]
  },
  {
   "cell_type": "code",
   "execution_count": 22,
   "id": "dc94c881",
   "metadata": {},
   "outputs": [
    {
     "data": {
      "text/plain": [
       "99.0    161\n",
       "2.0      53\n",
       "1.0      48\n",
       "Name: labels, dtype: int64"
      ]
     },
     "execution_count": 22,
     "metadata": {},
     "output_type": "execute_result"
    }
   ],
   "source": [
    "y_val.value_counts()"
   ]
  },
  {
   "cell_type": "code",
   "execution_count": 23,
   "id": "5fb46bfe",
   "metadata": {},
   "outputs": [
    {
     "data": {
      "text/plain": [
       "99.0    290\n",
       "2.0      94\n",
       "1.0      87\n",
       "Name: labels, dtype: int64"
      ]
     },
     "execution_count": 23,
     "metadata": {},
     "output_type": "execute_result"
    }
   ],
   "source": [
    "y_test.value_counts()"
   ]
  },
  {
   "cell_type": "markdown",
   "id": "a00b6523",
   "metadata": {},
   "source": [
    "Vemos que la proporción de la etiqueta '99' se mantiene casi 3 a 1 con respecto a las etiquetas '1' y '2', tanto en train, test y val."
   ]
  },
  {
   "cell_type": "markdown",
   "id": "9097b168",
   "metadata": {},
   "source": [
    "### Scaling data"
   ]
  },
  {
   "cell_type": "code",
   "execution_count": 24,
   "id": "38b94956",
   "metadata": {},
   "outputs": [
    {
     "data": {
      "application/javascript": [
       "\n",
       "        if (window._pyforest_update_imports_cell) { window._pyforest_update_imports_cell('from sklearn.model_selection import train_test_split\\nfrom sklearn.preprocessing import StandardScaler'); }\n",
       "    "
      ],
      "text/plain": [
       "<IPython.core.display.Javascript object>"
      ]
     },
     "metadata": {},
     "output_type": "display_data"
    }
   ],
   "source": [
    "scaler = StandardScaler()\n",
    "X_train = scaler.fit_transform(X_train)\n",
    "X_val = scaler.transform(X_val)\n",
    "X_test = scaler.transform(X_test)"
   ]
  },
  {
   "cell_type": "markdown",
   "id": "caa3c9ca",
   "metadata": {},
   "source": [
    "### Ancillary functions"
   ]
  },
  {
   "cell_type": "code",
   "execution_count": 25,
   "id": "cf1f0af9",
   "metadata": {},
   "outputs": [],
   "source": [
    "def experiment(model, params, X_train, X_val, X_test):\n",
    "    model_clf = model(**params)\n",
    "    model_clf.fit(X_train, y_train)\n",
    "    y_train_pred=model_clf.predict(X_train)\n",
    "    y_val_pred = model_clf.predict(X_val)\n",
    "    y_test_pred = model_clf.predict(X_test)\n",
    "    clf_report_train = classification_report(y_train, y_train_pred)\n",
    "    clf_report_val = classification_report(y_val, y_val_pred)\n",
    "    clf_report_test = classification_report(y_test, y_test_pred)\n",
    "    return model_clf, clf_report_train, clf_report_val, clf_report_test\n",
    "\n",
    "def experiment2(model_clf, X_train, X_val, X_test):\n",
    "    model_clf.fit(X_train, y_train)\n",
    "    y_train_pred=model_clf.predict(X_train)\n",
    "    y_val_pred = model_clf.predict(X_val)\n",
    "    y_test_pred = model_clf.predict(X_test)\n",
    "    clf_report_train = classification_report(y_train, y_train_pred)\n",
    "    clf_report_val = classification_report(y_val, y_val_pred)\n",
    "    clf_report_test = classification_report(y_test, y_test_pred)\n",
    "    return model_clf, clf_report_train, clf_report_val, clf_report_test\n",
    "\n",
    "\n",
    "def experiment3(model_clf, X_train, X_val, X_test, fit_params):\n",
    "    model_clf.fit(X_train, y_train, **fit_params)\n",
    "    y_train_pred=model_clf.predict(X_train)\n",
    "    y_val_pred = model_clf.predict(X_val)\n",
    "    y_test_pred = model_clf.predict(X_test)\n",
    "    clf_report_train = classification_report(y_train, y_train_pred)\n",
    "    clf_report_val = classification_report(y_val, y_val_pred)\n",
    "    clf_report_test = classification_report(y_test, y_test_pred)\n",
    "    return model_clf, clf_report_train, clf_report_val, clf_report_test\n",
    "\n",
    "def print_clf_reports(model, clf_report_train, clf_report_val, clf_report_test):\n",
    "    set_dict = {\n",
    "        'Train': clf_report_train, \n",
    "        'Val': clf_report_val, \n",
    "        'Test': clf_report_test\n",
    "    }\n",
    "    \n",
    "    for key in set_dict:\n",
    "        print(\"================================================================================\")\n",
    "        print(\"Model: \", str(model), \" - \" , key, \" Clasification Report\")\n",
    "        print(\"================================================================================\")\n",
    "        print(set_dict[key])\n",
    "\n",
    "\n",
    "def plot_learning_curve(estimator, title, X, y, axes=None, ylim=None, cv=None,\n",
    "                        n_jobs=None, train_sizes=np.linspace(.1, 1.0, 5), scoring=None):\n",
    "    \"\"\"\n",
    "    Generate 3 plots: the test and training learning curve, the training\n",
    "    samples vs fit times curve, the fit times vs score curve.\n",
    "\n",
    "    Parameters\n",
    "    ----------\n",
    "    estimator : estimator instance\n",
    "        An estimator instance implementing `fit` and `predict` methods which\n",
    "        will be cloned for each validation.\n",
    "\n",
    "    title : str\n",
    "        Title for the chart.\n",
    "\n",
    "    X : array-like of shape (n_samples, n_features)\n",
    "        Training vector, where ``n_samples`` is the number of samples and\n",
    "        ``n_features`` is the number of features.\n",
    "\n",
    "    y : array-like of shape (n_samples) or (n_samples, n_features)\n",
    "        Target relative to ``X`` for classification or regression;\n",
    "        None for unsupervised learning.\n",
    "\n",
    "    axes : array-like of shape (3,), default=None\n",
    "        Axes to use for plotting the curves.\n",
    "\n",
    "    ylim : tuple of shape (2,), default=None\n",
    "        Defines minimum and maximum y-values plotted, e.g. (ymin, ymax).\n",
    "\n",
    "    cv : int, cross-validation generator or an iterable, default=None\n",
    "        Determines the cross-validation splitting strategy.\n",
    "        Possible inputs for cv are:\n",
    "\n",
    "          - None, to use the default 5-fold cross-validation,\n",
    "          - integer, to specify the number of folds.\n",
    "          - :term:`CV splitter`,\n",
    "          - An iterable yielding (train, test) splits as arrays of indices.\n",
    "\n",
    "        For integer/None inputs, if ``y`` is binary or multiclass,\n",
    "        :class:`StratifiedKFold` used. If the estimator is not a classifier\n",
    "        or if ``y`` is neither binary nor multiclass, :class:`KFold` is used.\n",
    "\n",
    "        Refer :ref:`User Guide <cross_validation>` for the various\n",
    "        cross-validators that can be used here.\n",
    "\n",
    "    n_jobs : int or None, default=None\n",
    "        Number of jobs to run in parallel.\n",
    "        ``None`` means 1 unless in a :obj:`joblib.parallel_backend` context.\n",
    "        ``-1`` means using all processors. See :term:`Glossary <n_jobs>`\n",
    "        for more details.\n",
    "\n",
    "    train_sizes : array-like of shape (n_ticks,)\n",
    "        Relative or absolute numbers of training examples that will be used to\n",
    "        generate the learning curve. If the ``dtype`` is float, it is regarded\n",
    "        as a fraction of the maximum size of the training set (that is\n",
    "        determined by the selected validation method), i.e. it has to be within\n",
    "        (0, 1]. Otherwise it is interpreted as absolute sizes of the training\n",
    "        sets. Note that for classification the number of samples usually have\n",
    "        to be big enough to contain at least one sample from each class.\n",
    "        (default: np.linspace(0.1, 1.0, 5))\n",
    "    \"\"\"\n",
    "    if axes is None:\n",
    "        _, axes = plt.subplots(1, 3, figsize=(20, 5))\n",
    "\n",
    "    axes[0].set_title(title)\n",
    "    if ylim is not None:\n",
    "        axes[0].set_ylim(*ylim)\n",
    "    axes[0].set_xlabel(\"Training examples\")\n",
    "    axes[0].set_ylabel(\"Score\")\n",
    "\n",
    "    train_sizes, train_scores, test_scores, fit_times, _ = \\\n",
    "        learning_curve(estimator, X, y, cv=cv, n_jobs=n_jobs,\n",
    "                       train_sizes=train_sizes,\n",
    "                       return_times=True, scoring = scoring)\n",
    "    train_scores_mean = np.mean(train_scores, axis=1)\n",
    "    train_scores_std = np.std(train_scores, axis=1)\n",
    "    test_scores_mean = np.mean(test_scores, axis=1)\n",
    "    test_scores_std = np.std(test_scores, axis=1)\n",
    "    fit_times_mean = np.mean(fit_times, axis=1)\n",
    "    fit_times_std = np.std(fit_times, axis=1)\n",
    "\n",
    "    # Plot learning curve\n",
    "    axes[0].grid()\n",
    "    axes[0].fill_between(train_sizes, train_scores_mean - train_scores_std,\n",
    "                         train_scores_mean + train_scores_std, alpha=0.1,\n",
    "                         color=\"r\")\n",
    "    axes[0].fill_between(train_sizes, test_scores_mean - test_scores_std,\n",
    "                         test_scores_mean + test_scores_std, alpha=0.1,\n",
    "                         color=\"g\")\n",
    "    axes[0].plot(train_sizes, train_scores_mean, 'o-', color=\"r\",\n",
    "                 label=\"Training score\")\n",
    "    axes[0].plot(train_sizes, test_scores_mean, 'o-', color=\"g\",\n",
    "                 label=\"Cross-validation score\")\n",
    "    axes[0].legend(loc=\"best\")\n",
    "\n",
    "    # Plot n_samples vs fit_times\n",
    "    axes[1].grid()\n",
    "    axes[1].plot(train_sizes, fit_times_mean, 'o-')\n",
    "    axes[1].fill_between(train_sizes, fit_times_mean - fit_times_std,\n",
    "                         fit_times_mean + fit_times_std, alpha=0.1)\n",
    "    axes[1].set_xlabel(\"Training examples\")\n",
    "    axes[1].set_ylabel(\"fit_times\")\n",
    "    axes[1].set_title(\"Scalability of the model\")\n",
    "\n",
    "    # Plot fit_time vs score\n",
    "    axes[2].grid()\n",
    "    axes[2].plot(fit_times_mean, test_scores_mean, 'o-')\n",
    "    axes[2].fill_between(fit_times_mean, test_scores_mean - test_scores_std,\n",
    "                         test_scores_mean + test_scores_std, alpha=0.1)\n",
    "    axes[2].set_xlabel(\"fit_times\")\n",
    "    axes[2].set_ylabel(\"Score\")\n",
    "    axes[2].set_title(\"Performance of the model\")\n",
    "\n",
    "    return plt\n",
    "    "
   ]
  },
  {
   "cell_type": "markdown",
   "id": "f869476e",
   "metadata": {},
   "source": [
    "### Baseline model: Dumy Classifier\n",
    "\n",
    "Como se espera de una estrategia uniforme, la distribución del target es aleatoria y no refleja la verdadera distribución de las etiquetas.\n",
    "\n",
    "Para tener en cuenta el inconveniente mencionado anteriormente, podemos utilizar la estrategia \"estratificada\". Las predicciones se generan aleatoriamente, pero se mantiene la distribución de las clases del conjunto de entrenamiento. Al igual que en la estrategia estratificada train_test_split."
   ]
  },
  {
   "cell_type": "code",
   "execution_count": 26,
   "id": "bd03f12b",
   "metadata": {},
   "outputs": [
    {
     "name": "stdout",
     "output_type": "stream",
     "text": [
      "================================================================================\n",
      "Model:  DummyClassifier(strategy='stratified')  -  Train  Clasification Report\n",
      "================================================================================\n",
      "              precision    recall  f1-score   support\n",
      "\n",
      "         1.0       0.20      0.18      0.19       346\n",
      "         2.0       0.19      0.19      0.19       377\n",
      "        99.0       0.61      0.63      0.62      1158\n",
      "\n",
      "    accuracy                           0.46      1881\n",
      "   macro avg       0.33      0.33      0.33      1881\n",
      "weighted avg       0.45      0.46      0.46      1881\n",
      "\n",
      "================================================================================\n",
      "Model:  DummyClassifier(strategy='stratified')  -  Val  Clasification Report\n",
      "================================================================================\n",
      "              precision    recall  f1-score   support\n",
      "\n",
      "         1.0       0.24      0.23      0.23        48\n",
      "         2.0       0.29      0.23      0.25        53\n",
      "        99.0       0.66      0.71      0.69       161\n",
      "\n",
      "    accuracy                           0.53       262\n",
      "   macro avg       0.40      0.39      0.39       262\n",
      "weighted avg       0.51      0.53      0.52       262\n",
      "\n",
      "================================================================================\n",
      "Model:  DummyClassifier(strategy='stratified')  -  Test  Clasification Report\n",
      "================================================================================\n",
      "              precision    recall  f1-score   support\n",
      "\n",
      "         1.0       0.23      0.23      0.23        87\n",
      "         2.0       0.21      0.20      0.21        94\n",
      "        99.0       0.64      0.64      0.64       290\n",
      "\n",
      "    accuracy                           0.48       471\n",
      "   macro avg       0.36      0.36      0.36       471\n",
      "weighted avg       0.48      0.48      0.48       471\n",
      "\n"
     ]
    }
   ],
   "source": [
    "from sklearn.dummy import DummyClassifier\n",
    "\n",
    "params = {\n",
    "    'strategy':'stratified'\n",
    "}\n",
    "\n",
    "model = DummyClassifier\n",
    "model_clf, clf_report_train, clf_report_val, clf_report_test = experiment(model, params, X_train, X_val, X_test)\n",
    "print_clf_reports(model_clf, clf_report_train, clf_report_val, clf_report_test)"
   ]
  },
  {
   "cell_type": "markdown",
   "id": "dc7e690b",
   "metadata": {},
   "source": [
    "**Métricas:**\n",
    "\n",
    "- 'F1 Score' de cada clase.\n",
    "- y el 'F1 Micro Score average'.\n",
    "\n",
    "https://scikit-learn.org/stable/modules/generated/sklearn.metrics.f1_score.html\n",
    "\n",
    "- 'micro':\n",
    "Calculate metrics globally by counting the total true positives, false negatives and false positives.\n",
    "\n",
    "- 'macro':\n",
    "Calculate metrics for each label, and find their unweighted mean. This does not take label imbalance into account.\n",
    "\n",
    "- 'weighted':\n",
    "Calculate metrics for each label, and find their average weighted by support (the number of true instances for each label). This alters ‘macro’ to account for label imbalance; it can result in an F-score that is not between precision and recall.\n",
    "\n",
    "- 'samples':\n",
    "Calculate metrics for each instance, and find their average (only meaningful for multilabel classification where this differs from accuracy_score).\n",
    "\n",
    "Los micro y macro promedios (para cualquier métrica) calcularán cosas ligeramente diferentes y, por lo tanto, su interpretación difiere. Un macro-promedio calculará la métrica independientemente para cada clase y luego tomará el promedio (por lo tanto, tratará a todas las clases por igual), mientras que un micro-promedio agregará las contribuciones de todas las clases para calcular la métrica promedio. En una configuración de clasificación de varias clases, es preferible el micro-promedio si sospecha que puede haber un desequilibrio de clase (es decir, puede tener muchos más ejemplos de una clase que de otras clases).\n",
    "\n",
    "Ver:\n",
    "\n",
    "https://towardsdatascience.com/multi-class-metrics-made-simple-part-i-precision-and-recall-9250280bddc2\n",
    "\n",
    "https://towardsdatascience.com/multi-class-metrics-made-simple-part-ii-the-f1-score-ebe8b2c2ca1"
   ]
  },
  {
   "cell_type": "markdown",
   "id": "2cbe3872",
   "metadata": {},
   "source": [
    "**Comparemos las métricas obtenidas por un modelo baseline \"Dummy Clasiffier\", y otros modelos con sus parámetros por defecto.**"
   ]
  },
  {
   "cell_type": "code",
   "execution_count": 27,
   "id": "1faf5a1d",
   "metadata": {},
   "outputs": [
    {
     "name": "stdout",
     "output_type": "stream",
     "text": [
      "==========================================\n",
      "Baselines Models\n",
      "==========================================\n"
     ]
    },
    {
     "data": {
      "application/javascript": [
       "\n",
       "        if (window._pyforest_update_imports_cell) { window._pyforest_update_imports_cell('from sklearn.model_selection import StratifiedKFold\\nfrom sklearn.model_selection import train_test_split\\nfrom sklearn.preprocessing import StandardScaler'); }\n",
       "    "
      ],
      "text/plain": [
       "<IPython.core.display.Javascript object>"
      ]
     },
     "metadata": {},
     "output_type": "display_data"
    },
    {
     "name": "stdout",
     "output_type": "stream",
     "text": [
      "\n",
      "Dummy Classifier\n",
      "==========================================\n"
     ]
    },
    {
     "data": {
      "application/javascript": [
       "\n",
       "        if (window._pyforest_update_imports_cell) { window._pyforest_update_imports_cell('from sklearn.model_selection import cross_val_score\\nfrom sklearn.model_selection import StratifiedKFold\\nfrom sklearn.model_selection import train_test_split\\nfrom sklearn.preprocessing import StandardScaler'); }\n",
       "    "
      ],
      "text/plain": [
       "<IPython.core.display.Javascript object>"
      ]
     },
     "metadata": {},
     "output_type": "display_data"
    },
    {
     "data": {
      "application/javascript": [
       "\n",
       "        if (window._pyforest_update_imports_cell) { window._pyforest_update_imports_cell('from sklearn.model_selection import cross_val_score\\nfrom sklearn.model_selection import StratifiedKFold\\nfrom sklearn.model_selection import train_test_split\\nfrom sklearn.preprocessing import StandardScaler'); }\n",
       "    "
      ],
      "text/plain": [
       "<IPython.core.display.Javascript object>"
      ]
     },
     "metadata": {},
     "output_type": "display_data"
    },
    {
     "data": {
      "application/javascript": [
       "\n",
       "        if (window._pyforest_update_imports_cell) { window._pyforest_update_imports_cell('from sklearn.model_selection import cross_val_score\\nfrom sklearn.model_selection import StratifiedKFold\\nfrom sklearn.model_selection import train_test_split\\nfrom sklearn.preprocessing import StandardScaler'); }\n",
       "    "
      ],
      "text/plain": [
       "<IPython.core.display.Javascript object>"
      ]
     },
     "metadata": {},
     "output_type": "display_data"
    },
    {
     "name": "stdout",
     "output_type": "stream",
     "text": [
      "================================================================================\n",
      "Model:  DummyClassifier(strategy='stratified')  -  Train  Clasification Report\n",
      "================================================================================\n",
      "              precision    recall  f1-score   support\n",
      "\n",
      "         1.0       0.20      0.18      0.19       346\n",
      "         2.0       0.19      0.18      0.18       377\n",
      "        99.0       0.62      0.64      0.63      1158\n",
      "\n",
      "    accuracy                           0.46      1881\n",
      "   macro avg       0.33      0.33      0.33      1881\n",
      "weighted avg       0.45      0.46      0.46      1881\n",
      "\n",
      "================================================================================\n",
      "Model:  DummyClassifier(strategy='stratified')  -  Val  Clasification Report\n",
      "================================================================================\n",
      "              precision    recall  f1-score   support\n",
      "\n",
      "         1.0       0.13      0.12      0.13        48\n",
      "         2.0       0.11      0.09      0.10        53\n",
      "        99.0       0.57      0.60      0.58       161\n",
      "\n",
      "    accuracy                           0.41       262\n",
      "   macro avg       0.27      0.27      0.27       262\n",
      "weighted avg       0.40      0.41      0.40       262\n",
      "\n",
      "================================================================================\n",
      "Model:  DummyClassifier(strategy='stratified')  -  Test  Clasification Report\n",
      "================================================================================\n",
      "              precision    recall  f1-score   support\n",
      "\n",
      "         1.0       0.21      0.20      0.20        87\n",
      "         2.0       0.21      0.24      0.23        94\n",
      "        99.0       0.62      0.60      0.61       290\n",
      "\n",
      "    accuracy                           0.46       471\n",
      "   macro avg       0.35      0.35      0.35       471\n",
      "weighted avg       0.46      0.46      0.46       471\n",
      "\n",
      "CV Train - F1 Score Macro mean: 0.330 -  CV F1 Score Macro min: 0.309 CV F1 Score Macro max: 0.351\n",
      "CV Val - F1 Score Macro mean: 0.353 -  CV F1 Score Macro min: 0.277 CV F1 Score Macro max: 0.449\n",
      "CV Test - F1 Score Macro mean: 0.330 -  CV F1 Score Macro min: 0.264 CV F1 Score Macro max: 0.424\n"
     ]
    },
    {
     "data": {
      "application/javascript": [
       "\n",
       "        if (window._pyforest_update_imports_cell) { window._pyforest_update_imports_cell('from sklearn.model_selection import cross_val_score\\nfrom sklearn.model_selection import StratifiedKFold\\nfrom sklearn.model_selection import train_test_split\\nfrom sklearn.preprocessing import StandardScaler'); }\n",
       "    "
      ],
      "text/plain": [
       "<IPython.core.display.Javascript object>"
      ]
     },
     "metadata": {},
     "output_type": "display_data"
    },
    {
     "name": "stdout",
     "output_type": "stream",
     "text": [
      "\n",
      "Decission Tree\n",
      "==========================================\n"
     ]
    },
    {
     "data": {
      "application/javascript": [
       "\n",
       "        if (window._pyforest_update_imports_cell) { window._pyforest_update_imports_cell('from sklearn.model_selection import cross_val_score\\nfrom sklearn.model_selection import StratifiedKFold\\nfrom sklearn.model_selection import train_test_split\\nfrom sklearn.preprocessing import StandardScaler'); }\n",
       "    "
      ],
      "text/plain": [
       "<IPython.core.display.Javascript object>"
      ]
     },
     "metadata": {},
     "output_type": "display_data"
    },
    {
     "data": {
      "application/javascript": [
       "\n",
       "        if (window._pyforest_update_imports_cell) { window._pyforest_update_imports_cell('from sklearn.model_selection import cross_val_score\\nfrom sklearn.model_selection import StratifiedKFold\\nfrom sklearn.model_selection import train_test_split\\nfrom sklearn.preprocessing import StandardScaler'); }\n",
       "    "
      ],
      "text/plain": [
       "<IPython.core.display.Javascript object>"
      ]
     },
     "metadata": {},
     "output_type": "display_data"
    },
    {
     "data": {
      "application/javascript": [
       "\n",
       "        if (window._pyforest_update_imports_cell) { window._pyforest_update_imports_cell('from sklearn.model_selection import cross_val_score\\nfrom sklearn.model_selection import StratifiedKFold\\nfrom sklearn.model_selection import train_test_split\\nfrom sklearn.preprocessing import StandardScaler'); }\n",
       "    "
      ],
      "text/plain": [
       "<IPython.core.display.Javascript object>"
      ]
     },
     "metadata": {},
     "output_type": "display_data"
    },
    {
     "name": "stdout",
     "output_type": "stream",
     "text": [
      "================================================================================\n",
      "Model:  DecisionTreeClassifier()  -  Train  Clasification Report\n",
      "================================================================================\n",
      "              precision    recall  f1-score   support\n",
      "\n",
      "         1.0       1.00      1.00      1.00       346\n",
      "         2.0       1.00      1.00      1.00       377\n",
      "        99.0       1.00      1.00      1.00      1158\n",
      "\n",
      "    accuracy                           1.00      1881\n",
      "   macro avg       1.00      1.00      1.00      1881\n",
      "weighted avg       1.00      1.00      1.00      1881\n",
      "\n",
      "================================================================================\n",
      "Model:  DecisionTreeClassifier()  -  Val  Clasification Report\n",
      "================================================================================\n",
      "              precision    recall  f1-score   support\n",
      "\n",
      "         1.0       0.65      0.69      0.67        48\n",
      "         2.0       0.43      0.53      0.47        53\n",
      "        99.0       0.76      0.69      0.72       161\n",
      "\n",
      "    accuracy                           0.66       262\n",
      "   macro avg       0.61      0.64      0.62       262\n",
      "weighted avg       0.67      0.66      0.66       262\n",
      "\n",
      "================================================================================\n",
      "Model:  DecisionTreeClassifier()  -  Test  Clasification Report\n",
      "================================================================================\n",
      "              precision    recall  f1-score   support\n",
      "\n",
      "         1.0       0.61      0.60      0.60        87\n",
      "         2.0       0.51      0.48      0.49        94\n",
      "        99.0       0.75      0.77      0.76       290\n",
      "\n",
      "    accuracy                           0.68       471\n",
      "   macro avg       0.62      0.61      0.62       471\n",
      "weighted avg       0.67      0.68      0.68       471\n",
      "\n",
      "CV Train - F1 Score Macro mean: 0.603 -  CV F1 Score Macro min: 0.581 CV F1 Score Macro max: 0.632\n",
      "CV Val - F1 Score Macro mean: 0.499 -  CV F1 Score Macro min: 0.363 CV F1 Score Macro max: 0.642\n",
      "CV Test - F1 Score Macro mean: 0.629 -  CV F1 Score Macro min: 0.551 CV F1 Score Macro max: 0.704\n"
     ]
    },
    {
     "data": {
      "application/javascript": [
       "\n",
       "        if (window._pyforest_update_imports_cell) { window._pyforest_update_imports_cell('from sklearn.model_selection import cross_val_score\\nfrom sklearn.model_selection import StratifiedKFold\\nfrom sklearn.model_selection import train_test_split\\nfrom sklearn.preprocessing import StandardScaler'); }\n",
       "    "
      ],
      "text/plain": [
       "<IPython.core.display.Javascript object>"
      ]
     },
     "metadata": {},
     "output_type": "display_data"
    },
    {
     "name": "stdout",
     "output_type": "stream",
     "text": [
      "\n",
      "XGBoost\n",
      "==========================================\n"
     ]
    },
    {
     "data": {
      "application/javascript": [
       "\n",
       "        if (window._pyforest_update_imports_cell) { window._pyforest_update_imports_cell('from sklearn.model_selection import cross_val_score\\nfrom sklearn.model_selection import StratifiedKFold\\nfrom sklearn.model_selection import train_test_split\\nfrom sklearn.preprocessing import StandardScaler'); }\n",
       "    "
      ],
      "text/plain": [
       "<IPython.core.display.Javascript object>"
      ]
     },
     "metadata": {},
     "output_type": "display_data"
    },
    {
     "data": {
      "application/javascript": [
       "\n",
       "        if (window._pyforest_update_imports_cell) { window._pyforest_update_imports_cell('from sklearn.model_selection import cross_val_score\\nfrom sklearn.model_selection import StratifiedKFold\\nfrom sklearn.model_selection import train_test_split\\nfrom sklearn.preprocessing import StandardScaler'); }\n",
       "    "
      ],
      "text/plain": [
       "<IPython.core.display.Javascript object>"
      ]
     },
     "metadata": {},
     "output_type": "display_data"
    },
    {
     "data": {
      "application/javascript": [
       "\n",
       "        if (window._pyforest_update_imports_cell) { window._pyforest_update_imports_cell('from sklearn.model_selection import cross_val_score\\nfrom sklearn.model_selection import StratifiedKFold\\nfrom sklearn.model_selection import train_test_split\\nfrom sklearn.preprocessing import StandardScaler'); }\n",
       "    "
      ],
      "text/plain": [
       "<IPython.core.display.Javascript object>"
      ]
     },
     "metadata": {},
     "output_type": "display_data"
    },
    {
     "name": "stdout",
     "output_type": "stream",
     "text": [
      "================================================================================\n",
      "Model:  XGBClassifier(base_score=0.5, booster='gbtree', colsample_bylevel=1,\n",
      "              colsample_bynode=1, colsample_bytree=1, eval_metric='mlogloss',\n",
      "              gamma=0, gpu_id=-1, importance_type='gain',\n",
      "              interaction_constraints='', learning_rate=0.300000012,\n",
      "              max_delta_step=0, max_depth=6, min_child_weight=1, missing=nan,\n",
      "              monotone_constraints='()', n_estimators=100, n_jobs=8,\n",
      "              num_parallel_tree=1, objective='multi:softprob', random_state=0,\n",
      "              reg_alpha=0, reg_lambda=1, scale_pos_weight=None, subsample=1,\n",
      "              tree_method='exact', validate_parameters=1, verbosity=None)  -  Train  Clasification Report\n",
      "================================================================================\n",
      "              precision    recall  f1-score   support\n",
      "\n",
      "         1.0       1.00      1.00      1.00       346\n",
      "         2.0       1.00      1.00      1.00       377\n",
      "        99.0       1.00      1.00      1.00      1158\n",
      "\n",
      "    accuracy                           1.00      1881\n",
      "   macro avg       1.00      1.00      1.00      1881\n",
      "weighted avg       1.00      1.00      1.00      1881\n",
      "\n",
      "================================================================================\n",
      "Model:  XGBClassifier(base_score=0.5, booster='gbtree', colsample_bylevel=1,\n",
      "              colsample_bynode=1, colsample_bytree=1, eval_metric='mlogloss',\n",
      "              gamma=0, gpu_id=-1, importance_type='gain',\n",
      "              interaction_constraints='', learning_rate=0.300000012,\n",
      "              max_delta_step=0, max_depth=6, min_child_weight=1, missing=nan,\n",
      "              monotone_constraints='()', n_estimators=100, n_jobs=8,\n",
      "              num_parallel_tree=1, objective='multi:softprob', random_state=0,\n",
      "              reg_alpha=0, reg_lambda=1, scale_pos_weight=None, subsample=1,\n",
      "              tree_method='exact', validate_parameters=1, verbosity=None)  -  Val  Clasification Report\n",
      "================================================================================\n",
      "              precision    recall  f1-score   support\n",
      "\n",
      "         1.0       0.81      0.79      0.80        48\n",
      "         2.0       0.64      0.51      0.57        53\n",
      "        99.0       0.79      0.85      0.82       161\n",
      "\n",
      "    accuracy                           0.77       262\n",
      "   macro avg       0.75      0.72      0.73       262\n",
      "weighted avg       0.76      0.77      0.77       262\n",
      "\n",
      "================================================================================\n",
      "Model:  XGBClassifier(base_score=0.5, booster='gbtree', colsample_bylevel=1,\n",
      "              colsample_bynode=1, colsample_bytree=1, eval_metric='mlogloss',\n",
      "              gamma=0, gpu_id=-1, importance_type='gain',\n",
      "              interaction_constraints='', learning_rate=0.300000012,\n",
      "              max_delta_step=0, max_depth=6, min_child_weight=1, missing=nan,\n",
      "              monotone_constraints='()', n_estimators=100, n_jobs=8,\n",
      "              num_parallel_tree=1, objective='multi:softprob', random_state=0,\n",
      "              reg_alpha=0, reg_lambda=1, scale_pos_weight=None, subsample=1,\n",
      "              tree_method='exact', validate_parameters=1, verbosity=None)  -  Test  Clasification Report\n",
      "================================================================================\n",
      "              precision    recall  f1-score   support\n",
      "\n",
      "         1.0       0.81      0.74      0.77        87\n",
      "         2.0       0.79      0.51      0.62        94\n",
      "        99.0       0.79      0.91      0.85       290\n",
      "\n",
      "    accuracy                           0.80       471\n",
      "   macro avg       0.80      0.72      0.75       471\n",
      "weighted avg       0.80      0.80      0.79       471\n",
      "\n",
      "CV Train - F1 Score Macro mean: 0.720 -  CV F1 Score Macro min: 0.684 CV F1 Score Macro max: 0.749\n",
      "CV Val - F1 Score Macro mean: 0.656 -  CV F1 Score Macro min: 0.593 CV F1 Score Macro max: 0.714\n",
      "CV Test - F1 Score Macro mean: 0.735 -  CV F1 Score Macro min: 0.676 CV F1 Score Macro max: 0.779\n"
     ]
    },
    {
     "data": {
      "application/javascript": [
       "\n",
       "        if (window._pyforest_update_imports_cell) { window._pyforest_update_imports_cell('from sklearn.model_selection import cross_val_score\\nfrom sklearn.model_selection import StratifiedKFold\\nfrom sklearn.model_selection import train_test_split\\nfrom sklearn.preprocessing import StandardScaler'); }\n",
       "    "
      ],
      "text/plain": [
       "<IPython.core.display.Javascript object>"
      ]
     },
     "metadata": {},
     "output_type": "display_data"
    },
    {
     "name": "stdout",
     "output_type": "stream",
     "text": [
      "\n",
      "LightGBM\n",
      "==========================================\n"
     ]
    },
    {
     "data": {
      "application/javascript": [
       "\n",
       "        if (window._pyforest_update_imports_cell) { window._pyforest_update_imports_cell('from sklearn.model_selection import cross_val_score\\nfrom sklearn.model_selection import StratifiedKFold\\nfrom sklearn.model_selection import train_test_split\\nfrom sklearn.preprocessing import StandardScaler'); }\n",
       "    "
      ],
      "text/plain": [
       "<IPython.core.display.Javascript object>"
      ]
     },
     "metadata": {},
     "output_type": "display_data"
    },
    {
     "data": {
      "application/javascript": [
       "\n",
       "        if (window._pyforest_update_imports_cell) { window._pyforest_update_imports_cell('from sklearn.model_selection import cross_val_score\\nfrom sklearn.model_selection import StratifiedKFold\\nfrom sklearn.model_selection import train_test_split\\nfrom sklearn.preprocessing import StandardScaler'); }\n",
       "    "
      ],
      "text/plain": [
       "<IPython.core.display.Javascript object>"
      ]
     },
     "metadata": {},
     "output_type": "display_data"
    },
    {
     "data": {
      "application/javascript": [
       "\n",
       "        if (window._pyforest_update_imports_cell) { window._pyforest_update_imports_cell('from sklearn.model_selection import cross_val_score\\nfrom sklearn.model_selection import StratifiedKFold\\nfrom sklearn.model_selection import train_test_split\\nfrom sklearn.preprocessing import StandardScaler'); }\n",
       "    "
      ],
      "text/plain": [
       "<IPython.core.display.Javascript object>"
      ]
     },
     "metadata": {},
     "output_type": "display_data"
    },
    {
     "name": "stdout",
     "output_type": "stream",
     "text": [
      "================================================================================\n",
      "Model:  LGBMClassifier()  -  Train  Clasification Report\n",
      "================================================================================\n",
      "              precision    recall  f1-score   support\n",
      "\n",
      "         1.0       1.00      1.00      1.00       346\n",
      "         2.0       1.00      1.00      1.00       377\n",
      "        99.0       1.00      1.00      1.00      1158\n",
      "\n",
      "    accuracy                           1.00      1881\n",
      "   macro avg       1.00      1.00      1.00      1881\n",
      "weighted avg       1.00      1.00      1.00      1881\n",
      "\n",
      "================================================================================\n",
      "Model:  LGBMClassifier()  -  Val  Clasification Report\n",
      "================================================================================\n",
      "              precision    recall  f1-score   support\n",
      "\n",
      "         1.0       0.79      0.79      0.79        48\n",
      "         2.0       0.64      0.51      0.57        53\n",
      "        99.0       0.79      0.84      0.82       161\n",
      "\n",
      "    accuracy                           0.77       262\n",
      "   macro avg       0.74      0.72      0.73       262\n",
      "weighted avg       0.76      0.77      0.76       262\n",
      "\n",
      "================================================================================\n",
      "Model:  LGBMClassifier()  -  Test  Clasification Report\n",
      "================================================================================\n",
      "              precision    recall  f1-score   support\n",
      "\n",
      "         1.0       0.82      0.74      0.78        87\n",
      "         2.0       0.81      0.57      0.67        94\n",
      "        99.0       0.81      0.91      0.85       290\n",
      "\n",
      "    accuracy                           0.81       471\n",
      "   macro avg       0.81      0.74      0.77       471\n",
      "weighted avg       0.81      0.81      0.80       471\n",
      "\n",
      "CV Train - F1 Score Macro mean: 0.738 -  CV F1 Score Macro min: 0.710 CV F1 Score Macro max: 0.782\n",
      "CV Val - F1 Score Macro mean: 0.666 -  CV F1 Score Macro min: 0.598 CV F1 Score Macro max: 0.750\n",
      "CV Test - F1 Score Macro mean: 0.722 -  CV F1 Score Macro min: 0.676 CV F1 Score Macro max: 0.751\n"
     ]
    },
    {
     "data": {
      "application/javascript": [
       "\n",
       "        if (window._pyforest_update_imports_cell) { window._pyforest_update_imports_cell('from sklearn.model_selection import cross_val_score\\nfrom sklearn.model_selection import StratifiedKFold\\nfrom sklearn.model_selection import train_test_split\\nfrom sklearn.preprocessing import StandardScaler'); }\n",
       "    "
      ],
      "text/plain": [
       "<IPython.core.display.Javascript object>"
      ]
     },
     "metadata": {},
     "output_type": "display_data"
    },
    {
     "name": "stdout",
     "output_type": "stream",
     "text": [
      "\n",
      "Support Vector\n",
      "==========================================\n"
     ]
    },
    {
     "data": {
      "application/javascript": [
       "\n",
       "        if (window._pyforest_update_imports_cell) { window._pyforest_update_imports_cell('from sklearn.model_selection import cross_val_score\\nfrom sklearn.model_selection import StratifiedKFold\\nfrom sklearn.model_selection import train_test_split\\nfrom sklearn.preprocessing import StandardScaler'); }\n",
       "    "
      ],
      "text/plain": [
       "<IPython.core.display.Javascript object>"
      ]
     },
     "metadata": {},
     "output_type": "display_data"
    },
    {
     "data": {
      "application/javascript": [
       "\n",
       "        if (window._pyforest_update_imports_cell) { window._pyforest_update_imports_cell('from sklearn.model_selection import cross_val_score\\nfrom sklearn.model_selection import StratifiedKFold\\nfrom sklearn.model_selection import train_test_split\\nfrom sklearn.preprocessing import StandardScaler'); }\n",
       "    "
      ],
      "text/plain": [
       "<IPython.core.display.Javascript object>"
      ]
     },
     "metadata": {},
     "output_type": "display_data"
    },
    {
     "data": {
      "application/javascript": [
       "\n",
       "        if (window._pyforest_update_imports_cell) { window._pyforest_update_imports_cell('from sklearn.model_selection import cross_val_score\\nfrom sklearn.model_selection import StratifiedKFold\\nfrom sklearn.model_selection import train_test_split\\nfrom sklearn.preprocessing import StandardScaler'); }\n",
       "    "
      ],
      "text/plain": [
       "<IPython.core.display.Javascript object>"
      ]
     },
     "metadata": {},
     "output_type": "display_data"
    },
    {
     "name": "stdout",
     "output_type": "stream",
     "text": [
      "================================================================================\n",
      "Model:  SVC()  -  Train  Clasification Report\n",
      "================================================================================\n",
      "              precision    recall  f1-score   support\n",
      "\n",
      "         1.0       0.83      0.16      0.27       346\n",
      "         2.0       0.79      0.20      0.32       377\n",
      "        99.0       0.66      0.97      0.79      1158\n",
      "\n",
      "    accuracy                           0.67      1881\n",
      "   macro avg       0.76      0.45      0.46      1881\n",
      "weighted avg       0.71      0.67      0.60      1881\n",
      "\n",
      "================================================================================\n",
      "Model:  SVC()  -  Val  Clasification Report\n",
      "================================================================================\n",
      "              precision    recall  f1-score   support\n",
      "\n",
      "         1.0       0.77      0.21      0.33        48\n",
      "         2.0       0.75      0.23      0.35        53\n",
      "        99.0       0.67      0.96      0.79       161\n",
      "\n",
      "    accuracy                           0.68       262\n",
      "   macro avg       0.73      0.47      0.49       262\n",
      "weighted avg       0.70      0.68      0.61       262\n",
      "\n",
      "================================================================================\n",
      "Model:  SVC()  -  Test  Clasification Report\n",
      "================================================================================\n",
      "              precision    recall  f1-score   support\n",
      "\n",
      "         1.0       0.93      0.15      0.26        87\n",
      "         2.0       0.71      0.26      0.37        94\n",
      "        99.0       0.66      0.96      0.78       290\n",
      "\n",
      "    accuracy                           0.67       471\n",
      "   macro avg       0.76      0.46      0.47       471\n",
      "weighted avg       0.72      0.67      0.60       471\n",
      "\n",
      "CV Train - F1 Score Macro mean: 0.413 -  CV F1 Score Macro min: 0.380 CV F1 Score Macro max: 0.435\n",
      "CV Val - F1 Score Macro mean: 0.293 -  CV F1 Score Macro min: 0.254 CV F1 Score Macro max: 0.347\n",
      "CV Test - F1 Score Macro mean: 0.378 -  CV F1 Score Macro min: 0.361 CV F1 Score Macro max: 0.399\n"
     ]
    },
    {
     "data": {
      "application/javascript": [
       "\n",
       "        if (window._pyforest_update_imports_cell) { window._pyforest_update_imports_cell('from sklearn.model_selection import cross_val_score\\nfrom sklearn.model_selection import StratifiedKFold\\nfrom sklearn.model_selection import train_test_split\\nfrom sklearn.preprocessing import StandardScaler'); }\n",
       "    "
      ],
      "text/plain": [
       "<IPython.core.display.Javascript object>"
      ]
     },
     "metadata": {},
     "output_type": "display_data"
    },
    {
     "name": "stdout",
     "output_type": "stream",
     "text": [
      "\n",
      "KNeighbors\n",
      "==========================================\n"
     ]
    },
    {
     "data": {
      "application/javascript": [
       "\n",
       "        if (window._pyforest_update_imports_cell) { window._pyforest_update_imports_cell('from sklearn.model_selection import cross_val_score\\nfrom sklearn.model_selection import StratifiedKFold\\nfrom sklearn.model_selection import train_test_split\\nfrom sklearn.preprocessing import StandardScaler'); }\n",
       "    "
      ],
      "text/plain": [
       "<IPython.core.display.Javascript object>"
      ]
     },
     "metadata": {},
     "output_type": "display_data"
    },
    {
     "data": {
      "application/javascript": [
       "\n",
       "        if (window._pyforest_update_imports_cell) { window._pyforest_update_imports_cell('from sklearn.model_selection import cross_val_score\\nfrom sklearn.model_selection import StratifiedKFold\\nfrom sklearn.model_selection import train_test_split\\nfrom sklearn.preprocessing import StandardScaler'); }\n",
       "    "
      ],
      "text/plain": [
       "<IPython.core.display.Javascript object>"
      ]
     },
     "metadata": {},
     "output_type": "display_data"
    },
    {
     "data": {
      "application/javascript": [
       "\n",
       "        if (window._pyforest_update_imports_cell) { window._pyforest_update_imports_cell('from sklearn.model_selection import cross_val_score\\nfrom sklearn.model_selection import StratifiedKFold\\nfrom sklearn.model_selection import train_test_split\\nfrom sklearn.preprocessing import StandardScaler'); }\n",
       "    "
      ],
      "text/plain": [
       "<IPython.core.display.Javascript object>"
      ]
     },
     "metadata": {},
     "output_type": "display_data"
    },
    {
     "name": "stdout",
     "output_type": "stream",
     "text": [
      "================================================================================\n",
      "Model:  KNeighborsClassifier()  -  Train  Clasification Report\n",
      "================================================================================\n",
      "              precision    recall  f1-score   support\n",
      "\n",
      "         1.0       0.64      0.59      0.61       346\n",
      "         2.0       0.66      0.56      0.60       377\n",
      "        99.0       0.79      0.85      0.82      1158\n",
      "\n",
      "    accuracy                           0.75      1881\n",
      "   macro avg       0.70      0.67      0.68      1881\n",
      "weighted avg       0.74      0.75      0.74      1881\n",
      "\n",
      "================================================================================\n",
      "Model:  KNeighborsClassifier()  -  Val  Clasification Report\n",
      "================================================================================\n",
      "              precision    recall  f1-score   support\n",
      "\n",
      "         1.0       0.44      0.48      0.46        48\n",
      "         2.0       0.34      0.30      0.32        53\n",
      "        99.0       0.68      0.69      0.69       161\n",
      "\n",
      "    accuracy                           0.57       262\n",
      "   macro avg       0.49      0.49      0.49       262\n",
      "weighted avg       0.57      0.57      0.57       262\n",
      "\n",
      "================================================================================\n",
      "Model:  KNeighborsClassifier()  -  Test  Clasification Report\n",
      "================================================================================\n",
      "              precision    recall  f1-score   support\n",
      "\n",
      "         1.0       0.50      0.41      0.45        87\n",
      "         2.0       0.42      0.45      0.44        94\n",
      "        99.0       0.73      0.76      0.74       290\n",
      "\n",
      "    accuracy                           0.63       471\n",
      "   macro avg       0.55      0.54      0.54       471\n",
      "weighted avg       0.63      0.63      0.63       471\n",
      "\n",
      "CV Train - F1 Score Macro mean: 0.507 -  CV F1 Score Macro min: 0.465 CV F1 Score Macro max: 0.554\n",
      "CV Val - F1 Score Macro mean: 0.478 -  CV F1 Score Macro min: 0.354 CV F1 Score Macro max: 0.599\n",
      "CV Test - F1 Score Macro mean: 0.472 -  CV F1 Score Macro min: 0.417 CV F1 Score Macro max: 0.506\n"
     ]
    },
    {
     "data": {
      "application/javascript": [
       "\n",
       "        if (window._pyforest_update_imports_cell) { window._pyforest_update_imports_cell('from sklearn.model_selection import cross_val_score\\nfrom sklearn.model_selection import StratifiedKFold\\nfrom sklearn.model_selection import train_test_split\\nfrom sklearn.preprocessing import StandardScaler'); }\n",
       "    "
      ],
      "text/plain": [
       "<IPython.core.display.Javascript object>"
      ]
     },
     "metadata": {},
     "output_type": "display_data"
    },
    {
     "name": "stdout",
     "output_type": "stream",
     "text": [
      "\n",
      "Gradient Boosting\n",
      "==========================================\n"
     ]
    },
    {
     "data": {
      "application/javascript": [
       "\n",
       "        if (window._pyforest_update_imports_cell) { window._pyforest_update_imports_cell('from sklearn.model_selection import cross_val_score\\nfrom sklearn.model_selection import StratifiedKFold\\nfrom sklearn.model_selection import train_test_split\\nfrom sklearn.preprocessing import StandardScaler'); }\n",
       "    "
      ],
      "text/plain": [
       "<IPython.core.display.Javascript object>"
      ]
     },
     "metadata": {},
     "output_type": "display_data"
    },
    {
     "data": {
      "application/javascript": [
       "\n",
       "        if (window._pyforest_update_imports_cell) { window._pyforest_update_imports_cell('from sklearn.model_selection import cross_val_score\\nfrom sklearn.model_selection import StratifiedKFold\\nfrom sklearn.model_selection import train_test_split\\nfrom sklearn.preprocessing import StandardScaler'); }\n",
       "    "
      ],
      "text/plain": [
       "<IPython.core.display.Javascript object>"
      ]
     },
     "metadata": {},
     "output_type": "display_data"
    },
    {
     "data": {
      "application/javascript": [
       "\n",
       "        if (window._pyforest_update_imports_cell) { window._pyforest_update_imports_cell('from sklearn.model_selection import cross_val_score\\nfrom sklearn.model_selection import StratifiedKFold\\nfrom sklearn.model_selection import train_test_split\\nfrom sklearn.preprocessing import StandardScaler'); }\n",
       "    "
      ],
      "text/plain": [
       "<IPython.core.display.Javascript object>"
      ]
     },
     "metadata": {},
     "output_type": "display_data"
    },
    {
     "name": "stdout",
     "output_type": "stream",
     "text": [
      "================================================================================\n",
      "Model:  GradientBoostingClassifier()  -  Train  Clasification Report\n",
      "================================================================================\n",
      "              precision    recall  f1-score   support\n",
      "\n",
      "         1.0       0.97      0.95      0.96       346\n",
      "         2.0       0.98      0.87      0.92       377\n",
      "        99.0       0.94      0.99      0.96      1158\n",
      "\n",
      "    accuracy                           0.96      1881\n",
      "   macro avg       0.96      0.93      0.95      1881\n",
      "weighted avg       0.96      0.96      0.95      1881\n",
      "\n",
      "================================================================================\n",
      "Model:  GradientBoostingClassifier()  -  Val  Clasification Report\n",
      "================================================================================\n",
      "              precision    recall  f1-score   support\n",
      "\n",
      "         1.0       0.82      0.75      0.78        48\n",
      "         2.0       0.72      0.53      0.61        53\n",
      "        99.0       0.80      0.89      0.84       161\n",
      "\n",
      "    accuracy                           0.79       262\n",
      "   macro avg       0.78      0.72      0.74       262\n",
      "weighted avg       0.79      0.79      0.78       262\n",
      "\n",
      "================================================================================\n",
      "Model:  GradientBoostingClassifier()  -  Test  Clasification Report\n",
      "================================================================================\n",
      "              precision    recall  f1-score   support\n",
      "\n",
      "         1.0       0.81      0.74      0.77        87\n",
      "         2.0       0.73      0.48      0.58        94\n",
      "        99.0       0.78      0.89      0.84       290\n",
      "\n",
      "    accuracy                           0.78       471\n",
      "   macro avg       0.77      0.70      0.73       471\n",
      "weighted avg       0.78      0.78      0.77       471\n",
      "\n",
      "CV Train - F1 Score Macro mean: 0.709 -  CV F1 Score Macro min: 0.669 CV F1 Score Macro max: 0.735\n",
      "CV Val - F1 Score Macro mean: 0.582 -  CV F1 Score Macro min: 0.469 CV F1 Score Macro max: 0.671\n",
      "CV Test - F1 Score Macro mean: 0.712 -  CV F1 Score Macro min: 0.631 CV F1 Score Macro max: 0.773\n"
     ]
    },
    {
     "data": {
      "application/javascript": [
       "\n",
       "        if (window._pyforest_update_imports_cell) { window._pyforest_update_imports_cell('from sklearn.model_selection import cross_val_score\\nfrom sklearn.model_selection import StratifiedKFold\\nfrom sklearn.model_selection import train_test_split\\nfrom sklearn.preprocessing import StandardScaler'); }\n",
       "    "
      ],
      "text/plain": [
       "<IPython.core.display.Javascript object>"
      ]
     },
     "metadata": {},
     "output_type": "display_data"
    },
    {
     "name": "stdout",
     "output_type": "stream",
     "text": [
      "\n",
      "Random Forest\n",
      "==========================================\n"
     ]
    },
    {
     "data": {
      "application/javascript": [
       "\n",
       "        if (window._pyforest_update_imports_cell) { window._pyforest_update_imports_cell('from sklearn.model_selection import cross_val_score\\nfrom sklearn.model_selection import StratifiedKFold\\nfrom sklearn.model_selection import train_test_split\\nfrom sklearn.preprocessing import StandardScaler'); }\n",
       "    "
      ],
      "text/plain": [
       "<IPython.core.display.Javascript object>"
      ]
     },
     "metadata": {},
     "output_type": "display_data"
    },
    {
     "data": {
      "application/javascript": [
       "\n",
       "        if (window._pyforest_update_imports_cell) { window._pyforest_update_imports_cell('from sklearn.model_selection import cross_val_score\\nfrom sklearn.model_selection import StratifiedKFold\\nfrom sklearn.model_selection import train_test_split\\nfrom sklearn.preprocessing import StandardScaler'); }\n",
       "    "
      ],
      "text/plain": [
       "<IPython.core.display.Javascript object>"
      ]
     },
     "metadata": {},
     "output_type": "display_data"
    },
    {
     "data": {
      "application/javascript": [
       "\n",
       "        if (window._pyforest_update_imports_cell) { window._pyforest_update_imports_cell('from sklearn.model_selection import cross_val_score\\nfrom sklearn.model_selection import StratifiedKFold\\nfrom sklearn.model_selection import train_test_split\\nfrom sklearn.preprocessing import StandardScaler'); }\n",
       "    "
      ],
      "text/plain": [
       "<IPython.core.display.Javascript object>"
      ]
     },
     "metadata": {},
     "output_type": "display_data"
    },
    {
     "name": "stdout",
     "output_type": "stream",
     "text": [
      "================================================================================\n",
      "Model:  RandomForestClassifier()  -  Train  Clasification Report\n",
      "================================================================================\n",
      "              precision    recall  f1-score   support\n",
      "\n",
      "         1.0       1.00      1.00      1.00       346\n",
      "         2.0       1.00      1.00      1.00       377\n",
      "        99.0       1.00      1.00      1.00      1158\n",
      "\n",
      "    accuracy                           1.00      1881\n",
      "   macro avg       1.00      1.00      1.00      1881\n",
      "weighted avg       1.00      1.00      1.00      1881\n",
      "\n",
      "================================================================================\n",
      "Model:  RandomForestClassifier()  -  Val  Clasification Report\n",
      "================================================================================\n",
      "              precision    recall  f1-score   support\n",
      "\n",
      "         1.0       0.89      0.71      0.79        48\n",
      "         2.0       0.69      0.47      0.56        53\n",
      "        99.0       0.78      0.91      0.84       161\n",
      "\n",
      "    accuracy                           0.78       262\n",
      "   macro avg       0.79      0.70      0.73       262\n",
      "weighted avg       0.78      0.78      0.77       262\n",
      "\n",
      "================================================================================\n",
      "Model:  RandomForestClassifier()  -  Test  Clasification Report\n",
      "================================================================================\n",
      "              precision    recall  f1-score   support\n",
      "\n",
      "         1.0       0.87      0.70      0.78        87\n",
      "         2.0       0.83      0.43      0.56        94\n",
      "        99.0       0.77      0.94      0.85       290\n",
      "\n",
      "    accuracy                           0.79       471\n",
      "   macro avg       0.83      0.69      0.73       471\n",
      "weighted avg       0.80      0.79      0.78       471\n",
      "\n",
      "CV Train - F1 Score Macro mean: 0.692 -  CV F1 Score Macro min: 0.659 CV F1 Score Macro max: 0.717\n",
      "CV Val - F1 Score Macro mean: 0.644 -  CV F1 Score Macro min: 0.576 CV F1 Score Macro max: 0.774\n",
      "CV Test - F1 Score Macro mean: 0.685 -  CV F1 Score Macro min: 0.642 CV F1 Score Macro max: 0.728\n"
     ]
    }
   ],
   "source": [
    "print('==========================================')\n",
    "print('Baselines Models')\n",
    "print('==========================================')\n",
    "results = {\n",
    "    'transformer0_train': [],\n",
    "    'transformer0_val': [],\n",
    "    'transformer0_test': [],\n",
    "}\n",
    "\n",
    "models = []\n",
    "names = []\n",
    "\n",
    "\n",
    "models.append(('Dummy Classifier', DummyClassifier(strategy='stratified')))\n",
    "models.append(('Decission Tree', DecisionTreeClassifier()))\n",
    "models.append(('XGBoost', XGBClassifier(eval_metric='mlogloss')))\n",
    "models.append(('LightGBM', LGBMClassifier())) \n",
    "models.append(('Support Vector', SVC()))\n",
    "models.append(('KNeighbors', KNeighborsClassifier())) \n",
    "models.append(('Gradient Boosting', GradientBoostingClassifier()))\n",
    "models.append(('Random Forest', RandomForestClassifier()))\n",
    "\n",
    "for name, model in models:\n",
    "    cv = StratifiedKFold(n_splits=5)\n",
    "    \n",
    "    print('')\n",
    "    print(f'{name}')\n",
    "    print('==========================================')\n",
    "    \n",
    "    cv_results_t0_train = cross_val_score(model, X_train, y_train, cv=cv, scoring='f1_macro')\n",
    "    cv_results_t0_val = cross_val_score(model, X_val, y_val, cv=cv, scoring='f1_macro')\n",
    "    cv_results_t0_test = cross_val_score(model, X_test, y_test, cv=cv, scoring='f1_macro')\n",
    "    \n",
    "    model_clf, clf_report_train, clf_report_val, clf_report_test = experiment2(model, X_train, X_val, X_test)\n",
    "    print_clf_reports(model_clf, clf_report_train, clf_report_val, clf_report_test)\n",
    "    \n",
    "    results['transformer0_train'].append(cv_results_t0_train)\n",
    "    results['transformer0_val'].append(cv_results_t0_val)\n",
    "    results['transformer0_test'].append(cv_results_t0_test)\n",
    "\n",
    "    names.append(name)\n",
    "\n",
    "    print('CV Train - F1 Score Macro mean: %.3f - ' % cv_results_t0_train.mean(), \\\n",
    "          'CV F1 Score Macro min: %.3f' % cv_results_t0_train.min(), \\\n",
    "          'CV F1 Score Macro max: %.3f' % cv_results_t0_train.max())\n",
    "    \n",
    "    print('CV Val - F1 Score Macro mean: %.3f - ' % cv_results_t0_val.mean(), \\\n",
    "          'CV F1 Score Macro min: %.3f' % cv_results_t0_val.min(), \\\n",
    "          'CV F1 Score Macro max: %.3f' % cv_results_t0_val.max())\n",
    "    \n",
    "    print('CV Test - F1 Score Macro mean: %.3f - ' % cv_results_t0_test.mean(), \\\n",
    "          'CV F1 Score Macro min: %.3f' % cv_results_t0_test.min(), \\\n",
    "          'CV F1 Score Macro max: %.3f' % cv_results_t0_test.max())"
   ]
  },
  {
   "cell_type": "code",
   "execution_count": 28,
   "id": "c2afc6e4",
   "metadata": {},
   "outputs": [
    {
     "data": {
      "image/png": "[encoded data removed]",
      "text/plain": [
       "<Figure size 864x720 with 1 Axes>"
      ]
     },
     "metadata": {
      "needs_background": "light"
     },
     "output_type": "display_data"
    },
    {
     "data": {
      "image/png": "[encoded data removed]",
      "text/plain": [
       "<Figure size 864x720 with 1 Axes>"
      ]
     },
     "metadata": {
      "needs_background": "light"
     },
     "output_type": "display_data"
    },
    {
     "data": {
      "image/png": "[encoded data removed]",
      "text/plain": [
       "<Figure size 864x720 with 1 Axes>"
      ]
     },
     "metadata": {
      "needs_background": "light"
     },
     "output_type": "display_data"
    },
    {
     "name": "stdout",
     "output_type": "stream",
     "text": [
      "\n"
     ]
    }
   ],
   "source": [
    "\n",
    "results_set = ['train', 'val', 'test']\n",
    "\n",
    "for i in results_set:\n",
    "    plt.figure(figsize=(12, 10))\n",
    "    plt.boxplot(results[f'transformer0_{i}'], labels=names)\n",
    "    plt.title(f\"Distribución de CV {i} - F1 Macro Score obtenidos por modelo \\n\")\n",
    "    plt.xticks(rotation=45)\n",
    "    plt.ylim(0.2, 1)\n",
    "    plt.show() \n",
    "print('')"
   ]
  },
  {
   "cell_type": "markdown",
   "id": "1452f7bf",
   "metadata": {},
   "source": [
    "**Ampliamos en los modelos que mejores resultados han dado.**"
   ]
  },
  {
   "cell_type": "code",
   "execution_count": 29,
   "id": "4cb67bc3",
   "metadata": {},
   "outputs": [
    {
     "data": {
      "image/png": "[encoded data removed]",
      "text/plain": [
       "<Figure size 864x720 with 1 Axes>"
      ]
     },
     "metadata": {
      "needs_background": "light"
     },
     "output_type": "display_data"
    },
    {
     "data": {
      "image/png": "[encoded data removed]",
      "text/plain": [
       "<Figure size 864x720 with 1 Axes>"
      ]
     },
     "metadata": {
      "needs_background": "light"
     },
     "output_type": "display_data"
    },
    {
     "data": {
      "image/png": "[encoded data removed]",
      "text/plain": [
       "<Figure size 864x720 with 1 Axes>"
      ]
     },
     "metadata": {
      "needs_background": "light"
     },
     "output_type": "display_data"
    },
    {
     "name": "stdout",
     "output_type": "stream",
     "text": [
      "\n"
     ]
    }
   ],
   "source": [
    "for i in results_set:\n",
    "    plt.figure(figsize=(12, 10))\n",
    "    plt.boxplot(results[f'transformer0_{i}'], labels=names)\n",
    "    plt.title(f\"Distribución de CV {i} - F1 Macro Score obtenidos por modelo \\n\")\n",
    "    plt.xticks(rotation=45)\n",
    "    plt.ylim(0.45, 0.80)\n",
    "    plt.show() \n",
    "print('')"
   ]
  },
  {
   "cell_type": "code",
   "execution_count": 30,
   "id": "91ca58ce",
   "metadata": {},
   "outputs": [
    {
     "ename": "IndentationError",
     "evalue": "unexpected indent (<ipython-input-30-f4587513514d>, line 9)",
     "output_type": "error",
     "traceback": [
      "\u001b[0;36m  File \u001b[0;32m\"<ipython-input-30-f4587513514d>\"\u001b[0;36m, line \u001b[0;32m9\u001b[0m\n\u001b[0;31m    cv=cv, n_jobs=4)\u001b[0m\n\u001b[0m    ^\u001b[0m\n\u001b[0;31mIndentationError\u001b[0m\u001b[0;31m:\u001b[0m unexpected indent\n"
     ]
    }
   ],
   "source": [
    "# Training Learning Curve\n",
    "# Interpretation: \n",
    "# https://towardsdatascience.com/plotting-the-learning-curve-with-a-single-line-of-code-90a5bbb0f48a\n",
    "#for name, model in models:\n",
    "#    title = name\n",
    "#    estimator=model\n",
    "    \n",
    "#    plot_learning_curve(estimator, title, X_train, y_train, ylim=(0.5, 1.01),\n",
    "#                    cv=cv, n_jobs=4)"
   ]
  },
  {
   "cell_type": "markdown",
   "id": "3ef476ea",
   "metadata": {},
   "source": [
    "### B) Búsqueda a grandes rasgos:\n",
    "\n",
    "**a)** Utilicen la mayor cantidad de algoritmos de aprendizaje automático supervisado que puedan (mínimo 3). Creen para cada uno un modelo bajo el paradigma de dicho método y entrénelo con el dataset elegido. Opcional:\n",
    "generar curvas de progreso de métricas y funciones de pérdida a lo largo del entrenamiento.\n",
    "\n",
    "**b)** No hace falta que la búsqueda de hiperparámetros extremadamente detallada, ya que esto se llevará a cabo en el inciso C), sino más bien una exploración general de las tendencias de cada modelo.\n",
    "\n",
    "**c)** Si encuentra resultados de las métricas analizadas o gráficos de entrenamiento ploteados que resulten destacables -no sólo porque sean valores más óptimos, sino también posibles casos extraños, situaciones de\n",
    "over y underfitting, etc- muéstrelos y analícelos en este inciso."
   ]
  },
  {
   "cell_type": "code",
   "execution_count": null,
   "id": "e70e0611",
   "metadata": {},
   "outputs": [],
   "source": [
    "# Probar para los 4 mejores modelos correrlos con otros parámetros y plotear sus loss plots\n",
    "# XGBoost: 'mlogloss plot' y 'merror plot'"
   ]
  },
  {
   "cell_type": "markdown",
   "id": "6a6ee6af",
   "metadata": {},
   "source": [
    "¿Qué significa conceptualmente la pérdida logarítmica (logloss)?\n",
    "\n",
    "La pérdida logarítmica indica lo cerca que está la probabilidad de predicción del valor real/verdadero correspondiente (1, 2, 99, en éste caso de clasificación multiclase). Cuanto más se aleje la probabilidad predicha del valor real, mayor será el valor de la pérdida logarítmica."
   ]
  },
  {
   "cell_type": "markdown",
   "id": "976aa640",
   "metadata": {},
   "source": [
    "**Entrenaremos los modelos baselines que mejores resultados han dado cambiando los parámetros por defecto:**\n",
    "\n",
    "- XGBoost\n",
    "- LGBM\n",
    "- RandomForest\n",
    "- Gradient Boosting"
   ]
  },
  {
   "cell_type": "markdown",
   "id": "8fb15594",
   "metadata": {},
   "source": [
    "#### XGBoost"
   ]
  },
  {
   "cell_type": "code",
   "execution_count": 31,
   "id": "658b5ea8",
   "metadata": {},
   "outputs": [
    {
     "name": "stdout",
     "output_type": "stream",
     "text": [
      "================================================================================\n",
      "Model:  XGBClassifier  -  Train  Clasification Report\n",
      "================================================================================\n",
      "              precision    recall  f1-score   support\n",
      "\n",
      "         1.0       0.98      0.98      0.98       346\n",
      "         2.0       0.99      0.92      0.95       377\n",
      "        99.0       0.97      0.99      0.98      1158\n",
      "\n",
      "    accuracy                           0.97      1881\n",
      "   macro avg       0.98      0.96      0.97      1881\n",
      "weighted avg       0.97      0.97      0.97      1881\n",
      "\n",
      "================================================================================\n",
      "Model:  XGBClassifier  -  Val  Clasification Report\n",
      "================================================================================\n",
      "              precision    recall  f1-score   support\n",
      "\n",
      "         1.0       0.82      0.83      0.82        48\n",
      "         2.0       0.66      0.55      0.60        53\n",
      "        99.0       0.81      0.85      0.83       161\n",
      "\n",
      "    accuracy                           0.79       262\n",
      "   macro avg       0.76      0.74      0.75       262\n",
      "weighted avg       0.78      0.79      0.78       262\n",
      "\n",
      "================================================================================\n",
      "Model:  XGBClassifier  -  Test  Clasification Report\n",
      "================================================================================\n",
      "              precision    recall  f1-score   support\n",
      "\n",
      "         1.0       0.80      0.76      0.78        87\n",
      "         2.0       0.73      0.50      0.59        94\n",
      "        99.0       0.80      0.89      0.84       290\n",
      "\n",
      "    accuracy                           0.79       471\n",
      "   macro avg       0.78      0.72      0.74       471\n",
      "weighted avg       0.79      0.79      0.78       471\n",
      "\n"
     ]
    }
   ],
   "source": [
    "params = {\n",
    "    'alpha': 0.1,\n",
    "    'colsample_bytree': 0.5,\n",
    "    'gamma': 0.2,\n",
    "    'learning_rate': 0.2,\n",
    "    'max_depth': 3,\n",
    "    'min_child_weight': 1,\n",
    "    'subsample': 1.0\n",
    "}\n",
    "\n",
    "eval_set = [(X_train, y_train), (X_val, y_val), (X_test, y_test)]\n",
    "eval_metric = [\"merror\",\"mlogloss\"]\n",
    "fit_params = {\n",
    "    'eval_set': eval_set, \n",
    "    'eval_metric' : eval_metric, \n",
    "    'verbose': False\n",
    "}\n",
    "\n",
    "model_clf = XGBClassifier(**params)\n",
    "model_clf, clf_report_train, clf_report_val, clf_report_test = experiment3(model_clf, X_train, X_val, X_test, fit_params)\n",
    "\n",
    "#model_clf.fit(X_train, y_train, eval_set=eval_set, eval_metric=eval_metric, verbose=False)\n",
    "results = model_clf.evals_result()\n",
    "# validation_0 (Train) \n",
    "# validation_1 (Val)\n",
    "# validation_2 (Test)\n",
    "\n",
    "print_clf_reports(\"XGBClassifier\", clf_report_train, clf_report_val, clf_report_test)"
   ]
  },
  {
   "cell_type": "markdown",
   "id": "9e8c0820",
   "metadata": {},
   "source": [
    "**Funciones de pérdida**"
   ]
  },
  {
   "cell_type": "code",
   "execution_count": 32,
   "id": "ece298fb",
   "metadata": {},
   "outputs": [
    {
     "data": {
      "image/png": "[encoded data removed]",
      "text/plain": [
       "<Figure size 432x288 with 1 Axes>"
      ]
     },
     "metadata": {
      "needs_background": "light"
     },
     "output_type": "display_data"
    }
   ],
   "source": [
    "# XGBoost MERROR\n",
    "\n",
    "epochs = len(results['validation_0']['merror'])\n",
    "x_axis = range(0, epochs)\n",
    "\n",
    "fig, ax = plt.subplots()\n",
    "ax.plot(x_axis, results['validation_0']['merror'], label='Train')\n",
    "ax.plot(x_axis, results['validation_1']['merror'], label='Val')\n",
    "ax.plot(x_axis, results['validation_2']['merror'], label='Test')\n",
    "ax.legend()\n",
    "plt.ylabel('merror')\n",
    "plt.title('XGBoost merror')\n",
    "plt.show()"
   ]
  },
  {
   "cell_type": "code",
   "execution_count": 33,
   "id": "0996f22b",
   "metadata": {},
   "outputs": [
    {
     "data": {
      "image/png": "[encoded data removed]",
      "text/plain": [
       "<Figure size 432x288 with 1 Axes>"
      ]
     },
     "metadata": {
      "needs_background": "light"
     },
     "output_type": "display_data"
    }
   ],
   "source": [
    "# XGBoost MLOGLOSS\n",
    "\n",
    "fig, ax = plt.subplots()\n",
    "ax.plot(x_axis, results['validation_0']['mlogloss'], label='Train')\n",
    "ax.plot(x_axis, results['validation_1']['mlogloss'], label='Val')\n",
    "ax.plot(x_axis, results['validation_2']['mlogloss'], label='Test')\n",
    "ax.legend()\n",
    "plt.ylabel('mlogloss')\n",
    "plt.title('XGBoost mlogloss')\n",
    "plt.show()"
   ]
  },
  {
   "cell_type": "markdown",
   "id": "ae5901af",
   "metadata": {},
   "source": [
    "**[TODO]** Ver cómo se interpretan las curvas de 'merror' y 'mlogloss'.\n",
    "\n",
    "Ver: https://machinelearningmastery.com/avoid-overfitting-by-early-stopping-with-xgboost-in-python/"
   ]
  },
  {
   "cell_type": "markdown",
   "id": "7cdf832f",
   "metadata": {},
   "source": [
    "#### LGBM"
   ]
  },
  {
   "cell_type": "code",
   "execution_count": 34,
   "id": "1a6239fd",
   "metadata": {},
   "outputs": [
    {
     "name": "stdout",
     "output_type": "stream",
     "text": [
      "================================================================================\n",
      "Model:  LGBMClassifier  -  Train  Clasification Report\n",
      "================================================================================\n",
      "              precision    recall  f1-score   support\n",
      "\n",
      "         1.0       0.96      0.81      0.88       346\n",
      "         2.0       0.98      0.66      0.79       377\n",
      "        99.0       0.86      0.98      0.92      1158\n",
      "\n",
      "    accuracy                           0.89      1881\n",
      "   macro avg       0.93      0.82      0.86      1881\n",
      "weighted avg       0.90      0.89      0.88      1881\n",
      "\n",
      "================================================================================\n",
      "Model:  LGBMClassifier  -  Val  Clasification Report\n",
      "================================================================================\n",
      "              precision    recall  f1-score   support\n",
      "\n",
      "         1.0       0.86      0.62      0.72        48\n",
      "         2.0       0.76      0.42      0.54        53\n",
      "        99.0       0.75      0.93      0.83       161\n",
      "\n",
      "    accuracy                           0.77       262\n",
      "   macro avg       0.79      0.66      0.70       262\n",
      "weighted avg       0.77      0.77      0.75       262\n",
      "\n",
      "================================================================================\n",
      "Model:  LGBMClassifier  -  Test  Clasification Report\n",
      "================================================================================\n",
      "              precision    recall  f1-score   support\n",
      "\n",
      "         1.0       0.85      0.61      0.71        87\n",
      "         2.0       0.79      0.39      0.52        94\n",
      "        99.0       0.75      0.93      0.83       290\n",
      "\n",
      "    accuracy                           0.77       471\n",
      "   macro avg       0.80      0.65      0.69       471\n",
      "weighted avg       0.78      0.77      0.75       471\n",
      "\n"
     ]
    }
   ],
   "source": [
    "import lightgbm as lgb\n",
    "\n",
    "params = {\n",
    "    'is_unbalance': True,\n",
    "    'learning_rate': 0.01,\n",
    "    'objective': 'multiclass'\n",
    "}\n",
    "\n",
    "eval_set = [(X_train, y_train), (X_val, y_val), (X_test, y_test)]\n",
    "eval_names = ['Train', 'Val', 'Test']\n",
    "eval_metric = [\"multi_logloss\"] # Only one metric supported because different metrics have various scales.\n",
    "fit_params = {\n",
    "    'eval_set': eval_set, \n",
    "    'eval_metric' : eval_metric,\n",
    "    'eval_names': eval_names,\n",
    "    'verbose': False\n",
    "}\n",
    "\n",
    "model_clf = LGBMClassifier(**params)\n",
    "model_clf, clf_report_train, clf_report_val, clf_report_test = experiment3(model_clf, X_train, X_val, X_test, fit_params)\n",
    "\n",
    "#model_clf.fit(X_train, y_train, eval_set=eval_set, eval_metric=eval_metric, verbose=False)\n",
    "#results = model_clf.evals_result()\n",
    "# validation_0 (Train) \n",
    "# validation_1 (Val)\n",
    "# validation_2 (Test)\n",
    "\n",
    "print_clf_reports(\"LGBMClassifier\", clf_report_train, clf_report_val, clf_report_test)"
   ]
  },
  {
   "cell_type": "code",
   "execution_count": null,
   "id": "4431e1bb",
   "metadata": {},
   "outputs": [],
   "source": [
    "lgb.plot_metric(model_clf) \n",
    "# Only one metric supported because different metrics have various scales.\n",
    "plt.title('LGBM multi_logloss')\n",
    "plt.show()"
   ]
  },
  {
   "cell_type": "markdown",
   "id": "f3332b0d",
   "metadata": {},
   "source": [
    "#### Gradient Boosting\n",
    "\n",
    "Para las funciones de pérdida ver: https://scikit-learn.org/stable/modules/ensemble.html#loss-functions"
   ]
  },
  {
   "cell_type": "code",
   "execution_count": 35,
   "id": "1b0bb011",
   "metadata": {},
   "outputs": [
    {
     "name": "stdout",
     "output_type": "stream",
     "text": [
      "================================================================================\n",
      "Model:  GradientBoostingClassifier  -  Train  Clasification Report\n",
      "================================================================================\n",
      "              precision    recall  f1-score   support\n",
      "\n",
      "         1.0       1.00      1.00      1.00       346\n",
      "         2.0       1.00      1.00      1.00       377\n",
      "        99.0       1.00      1.00      1.00      1158\n",
      "\n",
      "    accuracy                           1.00      1881\n",
      "   macro avg       1.00      1.00      1.00      1881\n",
      "weighted avg       1.00      1.00      1.00      1881\n",
      "\n",
      "================================================================================\n",
      "Model:  GradientBoostingClassifier  -  Val  Clasification Report\n",
      "================================================================================\n",
      "              precision    recall  f1-score   support\n",
      "\n",
      "         1.0       0.83      0.73      0.78        48\n",
      "         2.0       0.59      0.49      0.54        53\n",
      "        99.0       0.77      0.84      0.81       161\n",
      "\n",
      "    accuracy                           0.75       262\n",
      "   macro avg       0.73      0.69      0.71       262\n",
      "weighted avg       0.75      0.75      0.75       262\n",
      "\n",
      "================================================================================\n",
      "Model:  GradientBoostingClassifier  -  Test  Clasification Report\n",
      "================================================================================\n",
      "              precision    recall  f1-score   support\n",
      "\n",
      "         1.0       0.78      0.71      0.74        87\n",
      "         2.0       0.74      0.48      0.58        94\n",
      "        99.0       0.78      0.88      0.83       290\n",
      "\n",
      "    accuracy                           0.77       471\n",
      "   macro avg       0.76      0.69      0.72       471\n",
      "weighted avg       0.77      0.77      0.76       471\n",
      "\n"
     ]
    }
   ],
   "source": [
    "params = {\n",
    "    'n_estimators': 100,\n",
    "    'learning_rate': 0.5,\n",
    "    'max_features' : 'sqrt'  \n",
    "}\n",
    "\n",
    "#eval_set = [(X_train, y_train), (X_val, y_val), (X_test, y_test)]\n",
    "#eval_names = ['Train', 'Val', 'Test']\n",
    "#eval_metric = [\"multi_logloss\"] # loss: 'deviance', 'exponential'\n",
    "#fit_params = {\n",
    "#    'eval_set': eval_set, \n",
    "#    'eval_metric' : eval_metric,\n",
    "#    'eval_names': eval_names,\n",
    "#    'verbose': False\n",
    "#}\n",
    "\n",
    "model_clf = GradientBoostingClassifier(**params)\n",
    "model_clf, clf_report_train, clf_report_val, clf_report_test = experiment2(model_clf, X_train, X_val, X_test)\n",
    "\n",
    "#model_clf.fit(X_train, y_train, eval_set=eval_set, eval_metric=eval_metric, verbose=False)\n",
    "#results = model_clf.evals_result()\n",
    "# validation_0 (Train) \n",
    "# validation_1 (Val)\n",
    "# validation_2 (Test)\n",
    "\n",
    "print_clf_reports(\"GradientBoostingClassifier\", clf_report_train, clf_report_val, clf_report_test)"
   ]
  },
  {
   "cell_type": "markdown",
   "id": "ef0b846a",
   "metadata": {},
   "source": [
    "#### Random Forest"
   ]
  },
  {
   "cell_type": "code",
   "execution_count": 36,
   "id": "db4fc46c",
   "metadata": {},
   "outputs": [
    {
     "name": "stdout",
     "output_type": "stream",
     "text": [
      "================================================================================\n",
      "Model:  RandomForestClassifier  -  Train  Clasification Report\n",
      "================================================================================\n",
      "              precision    recall  f1-score   support\n",
      "\n",
      "         1.0       1.00      0.99      1.00       346\n",
      "         2.0       1.00      0.99      0.99       377\n",
      "        99.0       0.99      1.00      1.00      1158\n",
      "\n",
      "    accuracy                           1.00      1881\n",
      "   macro avg       1.00      0.99      1.00      1881\n",
      "weighted avg       1.00      1.00      1.00      1881\n",
      "\n",
      "================================================================================\n",
      "Model:  RandomForestClassifier  -  Val  Clasification Report\n",
      "================================================================================\n",
      "              precision    recall  f1-score   support\n",
      "\n",
      "         1.0       0.84      0.75      0.79        48\n",
      "         2.0       0.73      0.45      0.56        53\n",
      "        99.0       0.78      0.90      0.84       161\n",
      "\n",
      "    accuracy                           0.78       262\n",
      "   macro avg       0.78      0.70      0.73       262\n",
      "weighted avg       0.78      0.78      0.77       262\n",
      "\n",
      "================================================================================\n",
      "Model:  RandomForestClassifier  -  Test  Clasification Report\n",
      "================================================================================\n",
      "              precision    recall  f1-score   support\n",
      "\n",
      "         1.0       0.86      0.72      0.79        87\n",
      "         2.0       0.84      0.46      0.59        94\n",
      "        99.0       0.78      0.94      0.85       290\n",
      "\n",
      "    accuracy                           0.80       471\n",
      "   macro avg       0.83      0.71      0.74       471\n",
      "weighted avg       0.81      0.80      0.79       471\n",
      "\n"
     ]
    }
   ],
   "source": [
    "params = {\n",
    "    'n_estimators': 300,\n",
    "    'max_depth'   : 15,\n",
    "    'criterion'   : 'gini',\n",
    "    'max_features': 0.25,\n",
    "    'min_samples_split': 4\n",
    "}\n",
    "\n",
    "#eval_set = [(X_train, y_train), (X_val, y_val), (X_test, y_test)]\n",
    "#eval_names = ['Train', 'Val', 'Test']\n",
    "#eval_metric = [\"multi_logloss\"] \n",
    "#fit_params = {\n",
    "#    'eval_set': eval_set, \n",
    "#    'eval_metric' : eval_metric,\n",
    "#    'eval_names': eval_names,\n",
    "#    'verbose': False\n",
    "#}\n",
    "\n",
    "model_clf = RandomForestClassifier(**params)\n",
    "model_clf, clf_report_train, clf_report_val, clf_report_test = experiment2(model_clf, X_train, X_val, X_test)\n",
    "\n",
    "#model_clf.fit(X_train, y_train, eval_set=eval_set, eval_metric=eval_metric, verbose=False)\n",
    "#results = model_clf.evals_result()\n",
    "# validation_0 (Train) \n",
    "# validation_1 (Val)\n",
    "# validation_2 (Test)\n",
    "\n",
    "print_clf_reports(\"RandomForestClassifier\", clf_report_train, clf_report_val, clf_report_test)"
   ]
  },
  {
   "cell_type": "markdown",
   "id": "bdd5a73f",
   "metadata": {},
   "source": [
    "### C) Búsqueda puntualizada:\n",
    "\n",
    "**a)** Con el modelo que presente mejores resultados, lleve a cabo una búsqueda ahora sí más detallista, variando los hiperparámetros y funciones de costo. Si estos métodos permiten variar la cantidad de instancias/épocas de\n",
    "entrenamiento, analice lo que sucede cuando varía las duraciones de entrenamiento.\n",
    "\n",
    "**b)** Reporte los resultados obtenidos y seleccione el set completo de configuraciones que mejor resuelven, bajo su criterio, nuestro problema de clasificación."
   ]
  },
  {
   "cell_type": "markdown",
   "id": "bca78293",
   "metadata": {},
   "source": [
    "**Random Forest con CV**"
   ]
  },
  {
   "cell_type": "code",
   "execution_count": 106,
   "id": "9a4c8ef7",
   "metadata": {},
   "outputs": [
    {
     "data": {
      "application/javascript": [
       "\n",
       "        if (window._pyforest_update_imports_cell) { window._pyforest_update_imports_cell('from sklearn.model_selection import GridSearchCV\\nfrom sklearn.model_selection import train_test_split\\nfrom sklearn.model_selection import StratifiedKFold\\nfrom sklearn.model_selection import cross_val_score\\nfrom sklearn.preprocessing import StandardScaler'); }\n",
       "    "
      ],
      "text/plain": [
       "<IPython.core.display.Javascript object>"
      ]
     },
     "metadata": {},
     "output_type": "display_data"
    },
    {
     "name": "stdout",
     "output_type": "stream",
     "text": [
      "Fitting 5 folds for each of 24 candidates, totalling 120 fits\n"
     ]
    },
    {
     "data": {
      "text/plain": [
       "{'criterion': 'gini',\n",
       " 'max_depth': None,\n",
       " 'max_features': 5,\n",
       " 'n_estimators': 150}"
      ]
     },
     "execution_count": 106,
     "metadata": {},
     "output_type": "execute_result"
    }
   ],
   "source": [
    "param_grid = {\n",
    "    'n_estimators': [150],\n",
    "    'max_features': [5, 7, 9],\n",
    "    'max_depth'   : [None, 3, 10, 20],\n",
    "    'criterion'   : ['gini', 'entropy']\n",
    "}\n",
    "\n",
    "# Grid Search CV implementation\n",
    "rf = RandomForestClassifier(\n",
    "                oob_score    = True,\n",
    "                n_jobs       = -1,\n",
    "                random_state = 123)\n",
    "rf_clf = GridSearchCV(rf, param_grid, scoring='f1', n_jobs=-1, cv=5, verbose = 3)\n",
    "rf_clf.fit(X_train, y_train)\n",
    "rf_clf.best_params_"
   ]
  },
  {
   "cell_type": "code",
   "execution_count": 107,
   "id": "474dec5d",
   "metadata": {},
   "outputs": [
    {
     "name": "stdout",
     "output_type": "stream",
     "text": [
      "====================================================================\n",
      "Random Forest Classifier con CV - Reporte de clasificación de train\n",
      "====================================================================\n",
      "              precision    recall  f1-score   support\n",
      "\n",
      "         1.0       1.00      1.00      1.00       346\n",
      "         2.0       1.00      1.00      1.00       377\n",
      "        99.0       1.00      1.00      1.00      1158\n",
      "\n",
      "    accuracy                           1.00      1881\n",
      "   macro avg       1.00      1.00      1.00      1881\n",
      "weighted avg       1.00      1.00      1.00      1881\n",
      "\n",
      "====================================================================\n",
      "Random Forest Classifier con CV - Reporte de clasificación de val\n",
      "====================================================================\n",
      "              precision    recall  f1-score   support\n",
      "\n",
      "         1.0       0.87      0.69      0.77        48\n",
      "         2.0       0.66      0.36      0.46        53\n",
      "        99.0       0.75      0.91      0.82       161\n",
      "\n",
      "    accuracy                           0.76       262\n",
      "   macro avg       0.76      0.65      0.68       262\n",
      "weighted avg       0.75      0.76      0.74       262\n",
      "\n",
      "====================================================================\n",
      "Random Forest Classifier con CV - Reporte de clasificación de val\n",
      "====================================================================\n",
      "              precision    recall  f1-score   support\n",
      "\n",
      "         1.0       0.90      0.61      0.73        87\n",
      "         2.0       0.82      0.39      0.53        94\n",
      "        99.0       0.75      0.95      0.84       290\n",
      "\n",
      "    accuracy                           0.78       471\n",
      "   macro avg       0.82      0.65      0.70       471\n",
      "weighted avg       0.79      0.78      0.76       471\n",
      "\n"
     ]
    }
   ],
   "source": [
    "print(\"====================================================================\")\n",
    "print(\"Random Forest Classifier con CV - Reporte de clasificación de train\")\n",
    "print(\"====================================================================\")\n",
    "print(classification_report(y_train, rf_clf.predict(X_train)))\n",
    "\n",
    "print(\"====================================================================\")\n",
    "print(\"Random Forest Classifier con CV - Reporte de clasificación de val\")\n",
    "print(\"====================================================================\")\n",
    "print(classification_report(y_val, rf_clf.predict(X_val)))\n",
    "\n",
    "print(\"====================================================================\")\n",
    "print(\"Random Forest Classifier con CV - Reporte de clasificación de val\")\n",
    "print(\"====================================================================\")\n",
    "print(classification_report(y_test, rf_clf.predict(X_test)))"
   ]
  },
  {
   "cell_type": "markdown",
   "id": "b583910a",
   "metadata": {},
   "source": [
    "**Gradient Boosting con CV**"
   ]
  },
  {
   "cell_type": "code",
   "execution_count": 113,
   "id": "a5260e8c",
   "metadata": {},
   "outputs": [
    {
     "data": {
      "application/javascript": [
       "\n",
       "        if (window._pyforest_update_imports_cell) { window._pyforest_update_imports_cell('from sklearn.model_selection import GridSearchCV\\nfrom sklearn.model_selection import train_test_split\\nfrom sklearn.model_selection import StratifiedKFold\\nfrom sklearn.model_selection import cross_val_score\\nfrom sklearn.preprocessing import StandardScaler'); }\n",
       "    "
      ],
      "text/plain": [
       "<IPython.core.display.Javascript object>"
      ]
     },
     "metadata": {},
     "output_type": "display_data"
    },
    {
     "name": "stdout",
     "output_type": "stream",
     "text": [
      "Fitting 3 folds for each of 2 candidates, totalling 6 fits\n"
     ]
    },
    {
     "data": {
      "text/plain": [
       "{'n_estimators': 20}"
      ]
     },
     "execution_count": 113,
     "metadata": {},
     "output_type": "execute_result"
    }
   ],
   "source": [
    "param_grid = {\n",
    "    'n_estimators'  : [20, 50],\n",
    "    #'max_features'  : ['auto', 'sqrt', 'log2'],\n",
    "    #'max_depth'     : [None, 5, 10],\n",
    "    #'subsample'     : [0.5, 1],\n",
    "    #'learning_rate' : [0.001, 0.01, 0.1]\n",
    "}\n",
    "\n",
    "\n",
    "\n",
    "gb = GradientBoostingClassifier()\n",
    "gb_clf = GridSearchCV(gb, param_grid, scoring='f1', n_jobs=-1, cv=3, verbose = 3)\n",
    "gb_clf.fit(X_train, y_train)\n",
    "gb_clf.best_params_"
   ]
  },
  {
   "cell_type": "code",
   "execution_count": 114,
   "id": "3240fcb6",
   "metadata": {},
   "outputs": [
    {
     "name": "stdout",
     "output_type": "stream",
     "text": [
      "====================================================================\n",
      "Gradient Boosting Classifier con CV - Reporte de clasificación de train\n",
      "====================================================================\n",
      "              precision    recall  f1-score   support\n",
      "\n",
      "         1.0       0.88      0.72      0.79       346\n",
      "         2.0       0.92      0.51      0.65       377\n",
      "        99.0       0.80      0.96      0.87      1158\n",
      "\n",
      "    accuracy                           0.82      1881\n",
      "   macro avg       0.87      0.73      0.77      1881\n",
      "weighted avg       0.84      0.82      0.81      1881\n",
      "\n",
      "====================================================================\n",
      "Gradient Boosting Classifier con CV - Reporte de clasificación de val\n",
      "====================================================================\n",
      "              precision    recall  f1-score   support\n",
      "\n",
      "         1.0       0.84      0.65      0.73        48\n",
      "         2.0       0.77      0.38      0.51        53\n",
      "        99.0       0.75      0.93      0.83       161\n",
      "\n",
      "    accuracy                           0.76       262\n",
      "   macro avg       0.79      0.65      0.69       262\n",
      "weighted avg       0.77      0.76      0.74       262\n",
      "\n",
      "====================================================================\n",
      "Gradient Boosting Classifier con CV - Reporte de clasificación de val\n",
      "====================================================================\n",
      "              precision    recall  f1-score   support\n",
      "\n",
      "         1.0       0.80      0.63      0.71        87\n",
      "         2.0       0.77      0.39      0.52        94\n",
      "        99.0       0.75      0.92      0.83       290\n",
      "\n",
      "    accuracy                           0.76       471\n",
      "   macro avg       0.77      0.65      0.68       471\n",
      "weighted avg       0.76      0.76      0.74       471\n",
      "\n"
     ]
    }
   ],
   "source": [
    "print(\"====================================================================\")\n",
    "print(\"Gradient Boosting Classifier con CV - Reporte de clasificación de train\")\n",
    "print(\"====================================================================\")\n",
    "print(classification_report(y_train, gb_clf.predict(X_train)))\n",
    "\n",
    "print(\"====================================================================\")\n",
    "print(\"Gradient Boosting Classifier con CV - Reporte de clasificación de val\")\n",
    "print(\"====================================================================\")\n",
    "print(classification_report(y_val, gb_clf.predict(X_val)))\n",
    "\n",
    "print(\"====================================================================\")\n",
    "print(\"Gradient Boosting Classifier con CV - Reporte de clasificación de val\")\n",
    "print(\"====================================================================\")\n",
    "print(classification_report(y_test, gb_clf.predict(X_test)))"
   ]
  },
  {
   "cell_type": "markdown",
   "id": "9a6083af",
   "metadata": {},
   "source": [
    "**XGBoost con CV**"
   ]
  },
  {
   "cell_type": "code",
   "execution_count": 63,
   "id": "984bcf8a",
   "metadata": {},
   "outputs": [
    {
     "data": {
      "text/plain": [
       "array([1, 0, 2])"
      ]
     },
     "execution_count": 63,
     "metadata": {},
     "output_type": "execute_result"
    }
   ],
   "source": [
    "# DA ERROR SI NO REEMPLAZO EL 99, PERO EN LAS MÉTRICAS SE SIGUE VIENDO, CORREGIR!!!\n",
    "y_train2 = y_train.astype('int').replace(99, 0)\n",
    "y_train2.unique()"
   ]
  },
  {
   "cell_type": "code",
   "execution_count": 110,
   "id": "a782f3dc",
   "metadata": {},
   "outputs": [
    {
     "data": {
      "text/plain": [
       "dtype('int64')"
      ]
     },
     "execution_count": 110,
     "metadata": {},
     "output_type": "execute_result"
    }
   ],
   "source": [
    "y_train2.dtype"
   ]
  },
  {
   "cell_type": "code",
   "execution_count": 67,
   "id": "8385fb8a",
   "metadata": {},
   "outputs": [
    {
     "data": {
      "application/javascript": [
       "\n",
       "        if (window._pyforest_update_imports_cell) { window._pyforest_update_imports_cell('from sklearn.model_selection import GridSearchCV\\nfrom sklearn.model_selection import train_test_split\\nfrom sklearn.model_selection import StratifiedKFold\\nfrom sklearn.model_selection import cross_val_score\\nfrom sklearn.preprocessing import StandardScaler'); }\n",
       "    "
      ],
      "text/plain": [
       "<IPython.core.display.Javascript object>"
      ]
     },
     "metadata": {},
     "output_type": "display_data"
    },
    {
     "data": {
      "text/plain": [
       "{'learning_rate': 0.1, 'max_depth': 3}"
      ]
     },
     "execution_count": 67,
     "metadata": {},
     "output_type": "execute_result"
    }
   ],
   "source": [
    "param_grid = {\n",
    "    \"learning_rate\"    : [0.10, 0.20, 0.30] ,\n",
    "    \"max_depth\"        : [ 3, 6, 10],\n",
    "    #\"min_child_weight\" : [ 1, 3],\n",
    "    #\"gamma\"            : [ 0.0, 0.1, 0.2 ],\n",
    "    #\"colsample_bytree\" : [ 0.3, 0.5 , 0.7],\n",
    "    #'subsample': [0.6, 0.8, 1.0],\n",
    "    #'alpha': (0.1, 10)\n",
    "}\n",
    "\n",
    "xgb = XGBClassifier(eval_metric='merror', use_label_encoder=False, objective = 'multi:softprob', num_class=3)\n",
    "xgb_clf = GridSearchCV(xgb, param_grid, scoring='f1', n_jobs=-1, cv=3)\n",
    "xgb_clf.fit(X_train, y_train2)\n",
    "xgb_clf.best_params_"
   ]
  },
  {
   "cell_type": "code",
   "execution_count": 68,
   "id": "26e30750",
   "metadata": {},
   "outputs": [
    {
     "name": "stdout",
     "output_type": "stream",
     "text": [
      "====================================================================\n",
      "XGboost Classifier con CV - Reporte de clasificación de train\n",
      "====================================================================\n",
      "              precision    recall  f1-score   support\n",
      "\n",
      "         0.0       0.00      0.00      0.00         0\n",
      "         1.0       0.93      0.92      0.92       346\n",
      "         2.0       0.94      0.77      0.85       377\n",
      "        99.0       0.00      0.00      0.00      1158\n",
      "\n",
      "    accuracy                           0.32      1881\n",
      "   macro avg       0.47      0.42      0.44      1881\n",
      "weighted avg       0.36      0.32      0.34      1881\n",
      "\n",
      "====================================================================\n",
      "XGboost Classifier con CV - Reporte de clasificación de val\n",
      "====================================================================\n",
      "              precision    recall  f1-score   support\n",
      "\n",
      "         0.0       0.00      0.00      0.00         0\n",
      "         1.0       0.82      0.83      0.82        48\n",
      "         2.0       0.74      0.53      0.62        53\n",
      "        99.0       0.00      0.00      0.00       161\n",
      "\n",
      "    accuracy                           0.26       262\n",
      "   macro avg       0.39      0.34      0.36       262\n",
      "weighted avg       0.30      0.26      0.28       262\n",
      "\n",
      "====================================================================\n",
      "XGboost Classifier con CV - Reporte de clasificación de val\n",
      "====================================================================\n",
      "              precision    recall  f1-score   support\n",
      "\n",
      "         0.0       0.00      0.00      0.00         0\n",
      "         1.0       0.83      0.72      0.77        87\n",
      "         2.0       0.78      0.53      0.63        94\n",
      "        99.0       0.00      0.00      0.00       290\n",
      "\n",
      "    accuracy                           0.24       471\n",
      "   macro avg       0.40      0.31      0.35       471\n",
      "weighted avg       0.31      0.24      0.27       471\n",
      "\n"
     ]
    }
   ],
   "source": [
    "print(\"====================================================================\")\n",
    "print(\"XGboost Classifier con CV - Reporte de clasificación de train\")\n",
    "print(\"====================================================================\")\n",
    "print(classification_report(y_train, xgb_clf.predict(X_train)))\n",
    "\n",
    "print(\"====================================================================\")\n",
    "print(\"XGboost Classifier con CV - Reporte de clasificación de val\")\n",
    "print(\"====================================================================\")\n",
    "print(classification_report(y_val, xgb_clf.predict(X_val)))\n",
    "\n",
    "print(\"====================================================================\")\n",
    "print(\"XGboost Classifier con CV - Reporte de clasificación de val\")\n",
    "print(\"====================================================================\")\n",
    "print(classification_report(y_test, xgb_clf.predict(X_test)))"
   ]
  },
  {
   "cell_type": "code",
   "execution_count": null,
   "id": "da3cfdc0",
   "metadata": {},
   "outputs": [],
   "source": []
  },
  {
   "cell_type": "code",
   "execution_count": null,
   "id": "2e6a944a",
   "metadata": {},
   "outputs": [],
   "source": []
  },
  {
   "cell_type": "code",
   "execution_count": null,
   "id": "928edd62",
   "metadata": {},
   "outputs": [],
   "source": []
  },
  {
   "cell_type": "code",
   "execution_count": null,
   "id": "55645a75",
   "metadata": {},
   "outputs": [],
   "source": []
  }
 ],
 "metadata": {
  "kernelspec": {
   "display_name": "Python 3",
   "language": "python",
   "name": "python3"
  },
  "language_info": {
   "codemirror_mode": {
    "name": "ipython",
    "version": 3
   },
   "file_extension": ".py",
   "mimetype": "text/x-python",
   "name": "python",
   "nbconvert_exporter": "python",
   "pygments_lexer": "ipython3",
   "version": "3.7.10"
  }
 },
 "nbformat": 4,
 "nbformat_minor": 5
}
